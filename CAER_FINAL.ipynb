{
 "cells": [
  {
   "cell_type": "code",
   "execution_count": 1,
   "id": "240efc5a-5d57-4bb4-986a-2cc44f43524a",
   "metadata": {},
   "outputs": [],
   "source": [
    "#%#%#%#%#%#%#%##%#%#%#%#%#%#%##%#%#%#%#%#%#%##%#%#%#%#%#%#%# \n",
    "\n",
    "#%#%#%#%#%#%#%# Librerias #%#%#%#%#%#%#%#\n",
    "\n",
    "import pandas as pd\n",
    "import numpy as np\n",
    "\n",
    "import warnings\n",
    "warnings.filterwarnings(\"ignore\",\n",
    "                        category = DeprecationWarning)\n",
    "\n",
    "#%#%#%#%#%#%#%# Lectura de la información #%#%#%#%#%#%#%#\n",
    "#%#%#%#%#%#%#%# Base de datos #%#%#%#%#%#%#%#\n",
    "\n",
    "COSTO = pd.read_excel('Base_Uso_costos.xlsx')\n",
    "MATRFC = pd.read_excel('RFCMAT.xlsx')"
   ]
  },
  {
   "cell_type": "code",
   "execution_count": 2,
   "id": "b16a1ab6-be6b-49da-a36b-f94c415d04d5",
   "metadata": {},
   "outputs": [],
   "source": [
    "#%#%#%#%#%#%#%# Función renombramiento columnas [F00] #%#%#%#%#%#%#%#\n",
    "\n",
    "def Rename_SAT(Data, Pre, Letra):\n",
    "    # Generar nuevos nombres de columnas\n",
    "    Name = ['{}{}'.format(Pre, Letra.format(i+1)) for i in range(len(Data.columns))]\n",
    "    # Guardar los nombres originales y nuevos en un diccionario\n",
    "    Dict = dict(zip(Data.columns, Name))\n",
    "    # Cambiar el nombre de todas las columnas por los nuevos nombres\n",
    "    Data = Data.rename(columns=Dict)\n",
    "    return Dict, Data\n",
    "\n",
    "#%#%#%#%#%#%#%# Aplicación de función Rename_SAT #%#%#%#%#%#%#%#\n",
    "\n",
    "Costo_dict, Costo_name = Rename_SAT(COSTO, 'C', '{}')\n",
    "Mtrfc_dict, Mtrfc_name = Rename_SAT(MATRFC, 'M', '{}')"
   ]
  },
  {
   "cell_type": "code",
   "execution_count": 3,
   "id": "e6cdb083-c458-4c69-9b51-124b387f186c",
   "metadata": {},
   "outputs": [],
   "source": [
    "#%#%#%#%#%#%#%# Porcentaje de contribución por clase #%#%#%#%#%#%#%#\n",
    "\n",
    "Costo_M = Costo_name[['C2', 'C4', 'C11', 'C13','C15', \n",
    "                      'C17', 'C19', 'C21','C23','C25',\n",
    "                      'C27','C29','C31','C33']]\n",
    "Costo_Mes = Costo_M.groupby(['C2', 'C4']).sum().reset_index()\n",
    "\n",
    "resultados = Costo_Mes.copy()\n",
    "\n",
    "# Se itera sobre cada mes y calcular el porcentaje de contribución por clase\n",
    "for mes in ['C11','C13','C15','C17','C19','C21',\n",
    "            'C23','C25','C27','C29','C31','C33']:\n",
    "    suma_mes_por_clase = Costo_Mes.groupby('C2')[mes].transform('sum')\n",
    "    resultados[mes + '_P'] = round((Costo_Mes[mes] / suma_mes_por_clase), 3)"
   ]
  },
  {
   "cell_type": "code",
   "execution_count": 4,
   "id": "95c28adb-bdd4-4d7c-9743-9aa743226f0b",
   "metadata": {},
   "outputs": [],
   "source": [
    "#%#%#%#%#%#%#%# Porcentaje de contribución por Dimensión, Puerto y Servidor #%#%#%#%#%#%#%#\n",
    "\n",
    "# Se agrupan los datos por las columnas 'Dimension' y 'Puerto' para poder\n",
    "# contar el número de servidores para cada combinación\n",
    "Servidores = MATRFC.groupby(['Dimension','Puerto'])['Servidor'].count().reset_index()\n",
    "\n",
    "# Se calcula la proporción de servidores para cada combinación única de 'Dimension' y 'Puerto'\n",
    "Servidores['PorServidor'] = (Servidores.Servidor / Servidores.Servidor.sum())\n",
    "\n",
    "Servidor_xs = Servidores.groupby(['Dimension']).agg({'Servidor':'sum',\n",
    "                                                     'PorServidor':'sum'}).reset_index()\n",
    "\n",
    "for mes in ['C11','C13','C15','C17','C19','C21',\n",
    "            'C23','C25','C27','C29','C31','C33']:\n",
    "    resultados[mes + '_CS'] = (resultados[mes] / Servidor_xs.Servidor.sum())"
   ]
  },
  {
   "cell_type": "code",
   "execution_count": 5,
   "id": "dc4e592a-64dc-47c7-b555-b2055bbbeb48",
   "metadata": {},
   "outputs": [],
   "source": [
    "#%#%#%#%#%#%#%# Arquitectura y Costos: Valores para X_i #%#%#%#%#%#%#%#\n",
    "\n",
    "# Se genera una lista para almacenar los resultados\n",
    "resultados_lista = []\n",
    "\n",
    "# Se hace un loop iterable sobre cada clase C2\n",
    "for clase_c2 in resultados.copy()['C2'].unique():\n",
    "    \n",
    "    # Se filtra la tabla Valor_Costo para obtener solo las filas con la clase C2 actual\n",
    "    tabla1_filtrada_c2 = resultados.copy()[resultados.copy()['C2'] == clase_c2]\n",
    "    \n",
    "    # Se iterar sobre cada clase C4 dentro de la clase C2 actual\n",
    "    for clase_c4 in tabla1_filtrada_c2['C4'].unique():\n",
    "        \n",
    "        # Se filtra la tabla Valor_Costo para obtener solo las filas con la clase C4 actual\n",
    "        tabla1_filtrada_c4 = tabla1_filtrada_c2[tabla1_filtrada_c2['C4'] == clase_c4]\n",
    "        \n",
    "        # Se itera sobre cada dimensión de la tabla Servidor_xs\n",
    "        for idx, fila_tabla2 in Servidor_xs.copy().iterrows():\n",
    "            \n",
    "            # Se multiplica el costo promedio por servidor para cada mes por el valor del servidor correspondiente de la Servidor_xs\n",
    "            for mes in ['C11','C13','C15','C17','C19','C21',\n",
    "                        'C23','C25','C27','C29','C31','C33']:\n",
    "                resultado = tabla1_filtrada_c4[mes + '_CS'] * fila_tabla2['Servidor']\n",
    "                \n",
    "                # Se calcula el costo total para este mes y esta dimensión\n",
    "                costo_total = resultado.sum()\n",
    "                \n",
    "                # Se crea el diccionario para almacenar los resultados y las clases\n",
    "                resultado_dic = {\n",
    "                    'C2': clase_c2,\n",
    "                    'C4': clase_c4, \n",
    "                    'Dimension': fila_tabla2['Dimension'],\n",
    "                    'NoServidor': fila_tabla2['Servidor'],\n",
    "                    f'C_{mes}_XS': costo_total\n",
    "                }\n",
    "                \n",
    "                # Se agrega la información del diccionario a la lista\n",
    "                resultados_lista.append(resultado_dic)\n",
    "\n",
    "# Se convierte la lista de resultados en un DataFrame\n",
    "Costos_Xs = pd.DataFrame(resultados_lista)\n",
    "\n",
    "# Se agrupa los resultados por las columnas 'C2', 'C4', 'Dimension' y 'NoServidor',\n",
    "# para sumar los valores de las columnas 'Costo_C11_XS', 'Costo_C13_XS', etc.\n",
    "Costos_Xs_agrupados = Costos_Xs.groupby(['C2', 'C4', 'Dimension', 'NoServidor']).sum().reset_index()\n",
    "\n",
    "# Nos aseguramos que solo haya una fila para cada combinación de 'C2', 'C4', 'Dimension' y 'NoServidor'\n",
    "Costos_Xs_agrupados = Costos_Xs_agrupados.drop_duplicates(subset=['C2', 'C4', 'Dimension', 'NoServidor'])"
   ]
  },
  {
   "cell_type": "code",
   "execution_count": 7,
   "id": "f6335d5d-2cde-4b47-b8a0-bcd066bd73fb",
   "metadata": {},
   "outputs": [],
   "source": [
    "#%#%#%#%#%#%#%#  Primera parte (CA/Et)\n",
    "\n",
    "Costos_CARO = Costos_Xs_agrupados.copy()\n",
    "for columna in Costos_CARO.columns:\n",
    "    if columna.startswith('C_C'):\n",
    "        nueva_columna = 'CAE_' + columna.split('_')[1]\n",
    "        Costos_CARO[nueva_columna] = (Costos_CARO[columna] / RepoMRFC_name.R2.nunique())\n",
    "\n",
    "CAE_ALL = Costos_CARO[['C2', 'C4','Dimension','NoServidor',\n",
    "                       'CAE_C11','CAE_C13','CAE_C15','CAE_C17','CAE_C19','CAE_C21',\n",
    "                       'CAE_C23','CAE_C25','CAE_C27','CAE_C29','CAE_C31','CAE_C33']]"
   ]
  },
  {
   "cell_type": "code",
   "execution_count": 8,
   "id": "aeab3556-6130-4adf-a8d8-64e7a5051bec",
   "metadata": {},
   "outputs": [],
   "source": [
    "#%#%#%#%#%#%#%#  Segunda parte (CA/Et)*(RFC-rol)(AVG-rol)\n",
    "\n",
    "CAER_ALL = CAE_ALL.copy()\n",
    "\n",
    "for columna in CAER_ALL.columns:\n",
    "    if columna.startswith('CAE_C'):\n",
    "        nueva_columna = 'CAER_' + columna.split('_')[1]\n",
    "        CAER_ALL[nueva_columna] = (CAER_ALL[columna])*(RepoMRFC_name.R13.nunique())*(Mean_allrol)\n",
    "\n",
    "# Mostrar el DataFrame resultante\n",
    "CAER_ALL = CAER_ALL[['C2', 'C4','Dimension','NoServidor',\n",
    "                               'CAER_C11','CAER_C13','CAER_C15','CAER_C17','CAER_C19','CAER_C21',\n",
    "                               'CAER_C23','CAER_C25','CAER_C27','CAER_C29','CAER_C31','CAER_C33']]"
   ]
  },
  {
   "cell_type": "code",
   "execution_count": 9,
   "id": "ec285e12-8c7c-4940-81d4-2c37b391cc6b",
   "metadata": {},
   "outputs": [],
   "source": [
    "#%#%#%#%#%#%#%# Roles especificos en la arquitectrura\n",
    "\n",
    "ROL_DES = ['IDC001','IDC002','IDC010','IDC011','IDC012',\n",
    "           'IDC017','IDC019','IDC020','IDC022','IDC023',\n",
    "           'IDC024','IDC025','IDC026','IDC032','IDC033',\n",
    "           'IDC037','IDC040','IDC041','IDC042','IDC044',\n",
    "           'IDC053','IDC054','IDC055','IDC057','IDC070',\n",
    "           'IDC071','IDC072','IDC131','IDC212','IDC213']\n",
    "\n",
    "ROL_FILTRA = RepoMRFC_name[RepoMRFC_name['R13'].isin(ROL_DES)]\n",
    "ROL_AV = ROL_FILTRA.groupby(['R2'])['R13'].count().reset_index().R13.mean()"
   ]
  },
  {
   "cell_type": "code",
   "execution_count": 19,
   "id": "bfda7280-eb8f-4ade-bd4b-72563127e231",
   "metadata": {},
   "outputs": [],
   "source": [
    "####  Primera parte (CA/Et ) para los 10531 ue usan los roles especificos solicitados.\n",
    "COSTO_EMPLE = Costos_Xs_agrupados.copy()\n",
    "\n",
    "for columna in Costos_CARO.columns:\n",
    "    if columna.startswith('C_C'):\n",
    "        nueva_columna = 'CAE_' + columna.split('_')[1]\n",
    "        COSTO_EMPLE[nueva_columna] = (COSTO_EMPLE[columna] / ROL_FILTRA.R2.nunique())\n",
    "        \n",
    "CAE_EMPLE = COSTO_EMPLE[['C2', 'C4','Dimension','NoServidor',\n",
    "                       'CAE_C11','CAE_C13','CAE_C15','CAE_C17','CAE_C19','CAE_C21',\n",
    "                       'CAE_C23','CAE_C25','CAE_C27','CAE_C29','CAE_C31','CAE_C33']]"
   ]
  },
  {
   "cell_type": "code",
   "execution_count": 21,
   "id": "28d05668-7800-4e6c-9655-2097c11c89e2",
   "metadata": {},
   "outputs": [],
   "source": [
    "#%#%#%#%#%#%#%#  Segunda parte (CA/Et)*(RFC-rol)(AVG-rol)\n",
    "\n",
    "CAE_EMP = CAE_EMPLE.copy()\n",
    "for columna in CAE_EMP.columns:\n",
    "    if columna.startswith('CAE_C'):\n",
    "        nueva_columna = 'CAER_' + columna.split('_')[1]\n",
    "        CAE_EMP[nueva_columna] = (CAE_EMP[columna])*(ROL_FILTRA.R13.nunique()/(ROL_AV))\n",
    "        \n",
    "CAE_EMP = CAE_EMP[['C2', 'C4','Dimension','NoServidor',\n",
    "                               'CAER_C11','CAER_C13','CAER_C15','CAER_C17','CAER_C19','CAER_C21',\n",
    "                               'CAER_C23','CAER_C25','CAER_C27','CAER_C29','CAER_C31','CAER_C33']]"
   ]
  },
  {
   "cell_type": "markdown",
   "id": "326a9894-3bef-4e52-af4c-47702db1085b",
   "metadata": {},
   "source": [
    "### CASO PARTICULAR"
   ]
  },
  {
   "cell_type": "code",
   "execution_count": 23,
   "id": "df232ccb-e62a-41f6-b928-c005f5cba3e8",
   "metadata": {},
   "outputs": [],
   "source": [
    "ROLE_PERCE = ROL_FILTRA.R13.value_counts().reset_index().rename({'count' : 'R14'}, axis = 1)\n",
    "ROLE_PERCE['R15'] = (ROLE_PERCE.R14 / ROLE_PERCE.R14.sum())\n",
    "\n",
    "GRUPO = ROL_FILTRA.groupby(['R2', 'R13'])['R13'].count()\n",
    "GRUPO_DF = GRUPO.reset_index(name='R16')\n",
    "\n",
    "EMP_ROLPERCE = GRUPO_DF.merge(ROLE_PERCE, how = 'left',\n",
    "                              left_on = ['R13'], right_on = ['R13'])\n",
    "\n",
    "EMPLE_ROL = EMP_ROLPERCE.groupby(['R2']).agg({'R16':'sum',\n",
    "                                               'R15':'sum'}).reset_index()\n",
    "EMPLE_ROL['Tot'] = (EMPLE_ROL.R16)*(EMPLE_ROL.R15)\n",
    "EMPLE_ROL = EMPLE_ROL.sort_values(by =['R16'], ascending=False)"
   ]
  },
  {
   "cell_type": "markdown",
   "id": "274e041f-52f5-40a1-983a-58676b98e158",
   "metadata": {},
   "source": [
    "> costo individualizado para servidor Ana Patricia G. S. en el sistema MAT-RFC"
   ]
  },
  {
   "cell_type": "code",
   "execution_count": 24,
   "id": "48c9ba4f-6380-4962-9547-8b49e2b5b0f6",
   "metadata": {},
   "outputs": [],
   "source": [
    "CASE_APGS = ['IDC001','IDC002', 'IDC010','IDC011','IDC012','IDC057']\n",
    "APSG_CAER = ROLE_PERCE[ROLE_PERCE['R13'].isin(CASE_APGS)]\n",
    "APSG_CAER_P = APSG_CAER.R15.sum()*APSG_CAER.R13.count()"
   ]
  },
  {
   "cell_type": "code",
   "execution_count": 26,
   "id": "a1a59010-2f85-4f4c-b0c8-2952ac631612",
   "metadata": {},
   "outputs": [],
   "source": [
    "####  Primera parte (CA/Et) para los 10531 ue usan los roles especificos solicitados.\n",
    "\n",
    "COSTO_SOLICITADO = Costos_Xs_agrupados.copy()\n",
    "for columna in COSTO_SOLICITADO.columns:\n",
    "    if columna.startswith('C_C'):\n",
    "        nueva_columna = 'CAE_' + columna.split('_')[1]\n",
    "        COSTO_SOLICITADO[nueva_columna] = (COSTO_SOLICITADO[columna] / ROL_FILTRA.R2.nunique())\n",
    "\n",
    "CAE_SOLICITADO = COSTO_SOLICITADO[['C2', 'C4','Dimension','NoServidor',\n",
    "                                   'CAE_C11','CAE_C13','CAE_C15','CAE_C17','CAE_C19','CAE_C21',\n",
    "                                   'CAE_C23','CAE_C25','CAE_C27','CAE_C29','CAE_C31','CAE_C33']]"
   ]
  },
  {
   "cell_type": "code",
   "execution_count": 27,
   "id": "d6cf204f-e7bc-4444-bd81-83c6086383ed",
   "metadata": {},
   "outputs": [],
   "source": [
    "CAER_APSG= CAE_SOLICITADO.copy()\n",
    "\n",
    "for columna in CAER_APSG.columns:\n",
    "    if columna.startswith('CAE_C'):\n",
    "        nueva_columna = 'CAER_' + columna.split('_')[1]  # Para el sufijo de la columna original\n",
    "        CAER_APSG[nueva_columna] = (CAER_APSG[columna])*(1/ROL_AV)*(APSG_CAER_P)\n",
    "\n",
    "\n",
    "CAER_APSG = CAER_APSG[['C2', 'C4','Dimension','NoServidor',\n",
    "                       'CAER_C11','CAER_C13','CAER_C15','CAER_C17','CAER_C19','CAER_C21',\n",
    "                       'CAER_C23','CAER_C25','CAER_C27','CAER_C29','CAER_C31','CAER_C33']]"
   ]
  }
 ],
 "metadata": {
  "kernelspec": {
   "display_name": "Python 3 (ipykernel)",
   "language": "python",
   "name": "python3"
  },
  "language_info": {
   "codemirror_mode": {
    "name": "ipython",
    "version": 3
   },
   "file_extension": ".py",
   "mimetype": "text/x-python",
   "name": "python",
   "nbconvert_exporter": "python",
   "pygments_lexer": "ipython3",
   "version": "3.11.8"
  }
 },
 "nbformat": 4,
 "nbformat_minor": 5
}
