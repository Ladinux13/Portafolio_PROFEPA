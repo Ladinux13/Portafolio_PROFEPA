{
 "cells": [
  {
   "cell_type": "code",
   "execution_count": null,
   "metadata": {},
   "outputs": [],
   "source": [
    "###################################################### PASO 00 ######################################################\n",
    "\n",
    "                                         ###  LIBRERIAS\n",
    "\n",
    "import os\n",
    "import datetime\n",
    "import numpy as np\n",
    "import pandas as pd\n",
    "\n",
    "import warnings\n",
    "warnings.simplefilter(\"ignore\")\n",
    "\n",
    "###################################################### PASO 01 ######################################################\n",
    "\n",
    "                                         ###  RUTAS DE ENTRADA Y SALIDA (PATH)\n",
    "\n",
    "\n",
    "Entradas = '---'\n",
    "\n",
    "\n",
    "Salidas = '----'"
   ]
  },
  {
   "cell_type": "code",
   "execution_count": 2,
   "metadata": {},
   "outputs": [
    {
     "name": "stdout",
     "output_type": "stream",
     "text": [
      "(3810, 39)\n"
     ]
    }
   ],
   "source": [
    "###################################################### PASO 02 ######################################################\n",
    "\n",
    "                                         ### ITV_OBJ_SUP\n",
    "\n",
    "### Se carga la tabla \"ITV_OBJ_SUP\"\n",
    "\n",
    "ITV_OBJ_SUP = pd.read_csv(Salidas + '/ITV_OBJ_SUP.csv', encoding = 'Latin-1')\n",
    "print(ITV_OBJ_SUP.shape)"
   ]
  },
  {
   "cell_type": "code",
   "execution_count": 3,
   "metadata": {},
   "outputs": [
    {
     "name": "stdout",
     "output_type": "stream",
     "text": [
      "(157, 11)\n"
     ]
    }
   ],
   "source": [
    "###################################################### PASO 03 ######################################################\n",
    "\n",
    "                                         ### BASE_UA\n",
    "\n",
    "### Se crea la tabla \"BASE_UA\" a partir del cálculo en \"ADM_GRAL\" con agrupación de \"ITV_OBJ_SUP\" en:\n",
    "                             ### --> 'UNIDAD_ADM','REGION', 'SEDE','UNIDAD', 'LOCAL'\n",
    "                             ### --> 'AMBITO', 'AG_SUPERVISADAS_UA','UA_PTO','UA_EMP','UA_MIARI'\n",
    "                     ### --> Para \"ADM_GRAL\" se cuentan los elementos distintos\n",
    "                     ### --> Se ordenan los valores con base a \"UA_MIARI\" de manera descendente\n",
    "            \n",
    "BASE_UA = ITV_OBJ_SUP.groupby(['UNIDAD_ADM', \n",
    "                     'REGION', 'SEDE', \n",
    "                     'UNIDAD', 'LOCAL', \n",
    "                     'AMBITO', 'AG_SUPERVISADAS_UA', \n",
    "                     'UA_PTO','UA_EMP', \n",
    "                     'UA_MIARI' ],dropna=False).agg({'ADM_GRAL':'nunique'}).reset_index().sort_values(by=['UA_MIARI'],\n",
    "                                                                                                      ascending=[False])\n",
    "\n",
    "### Se renombra la columna calculada:\n",
    "\n",
    "BASE_UA = BASE_UA.rename({'ADM_GRAL':'COUNT_ADM_GRAL'}, axis=1)\n",
    "\n",
    "print(BASE_UA.shape)"
   ]
  },
  {
   "cell_type": "code",
   "execution_count": 4,
   "metadata": {},
   "outputs": [
    {
     "name": "stdout",
     "output_type": "stream",
     "text": [
      "(320, 16)\n"
     ]
    }
   ],
   "source": [
    "###################################################### PASO 04 ######################################################\n",
    "\n",
    "                                         ### BASE_UA_AG\n",
    "\n",
    "### Se crea la tabla \"BASE_UA\" a partir del cálculo en \"SUBPROCESO\" con agrupación de \"ITV_OBJ_SUP\" en:\n",
    "                             ### --> 'UNIDAD_ADM', 'REGION','SEDE','UNIDAD', 'LOCAL','AG_SUPERVISADAS_UA',\n",
    "                             ### --> 'UA_PTO','UA_EMP','UA_MIARI', 'AMBITO','ADM_GRAL',\n",
    "                             ### --> 'SUPERVISION', 'UA_AG_PTO','UA_AG_EMP', 'UA_AG_MIARI'\n",
    "                     ### --> Para \"SUBPROCESO\" se cuentan los elementos distintos\n",
    "                     ### --> Se ordenan los valores con base a \"UA_MIARI\" de manera descendente\n",
    "\n",
    "BASE_UA_AG = ITV_OBJ_SUP.groupby(['UNIDAD_ADM', 'REGION',\n",
    "                                  'SEDE', 'UNIDAD', 'LOCAL', \n",
    "                                  'AG_SUPERVISADAS_UA', 'UA_PTO','UA_EMP', \n",
    "                                  'UA_MIARI', 'AMBITO','ADM_GRAL',\n",
    "                                  'SUPERVISION', 'UA_AG_PTO', \n",
    "                                  'UA_AG_EMP', 'UA_AG_MIARI'],dropna=False).agg({'SUBPROCESO':'nunique'}).reset_index().sort_values(by=['UA_AG_MIARI'],\n",
    "                                                                                                                                    ascending=[False])\n",
    "### Se renombra la columna calculada:\n",
    "\n",
    "BASE_UA_AG = BASE_UA_AG.rename({'SUBPROCESO':'COUNT_SUBPROCESO'}, axis=1)\n",
    "\n",
    "print(BASE_UA_AG.shape)"
   ]
  },
  {
   "cell_type": "code",
   "execution_count": 5,
   "metadata": {},
   "outputs": [
    {
     "name": "stdout",
     "output_type": "stream",
     "text": [
      "(320, 17)\n"
     ]
    }
   ],
   "source": [
    "###################################################### PASO 05 ######################################################\n",
    "\n",
    "                                         ### RANK_AG_UA\n",
    "    \n",
    "### Se cálcula \"RANK_AR\" para \"AMBITO == DESCONCENTRADA\", \"AMBITO == CENTRAL\", \"AMBITO == CENTRAL\" y \"OTROS\" a partir de:\n",
    "\n",
    "### ---> DESCONCENTRADA\n",
    "### Si \"[AMBITO == DESCONCENTRADA] & [ADM_GRAL == (AGACE,AGJ, AGAFF, AGRS,AGR,AGCTI, AGSC)]\", entonces \"suma acumulativa\"\n",
    "    ### --> Si lo anterior no se cumple, entonces para despues del primer caso donde es \"0\" el valor es el anterior \"RANK_AR\" \n",
    "\n",
    "A = ((BASE_UA_AG.AMBITO == 'DESCONCENTRADA') & (BASE_UA_AG.ADM_GRAL  == 'AGACE'))\n",
    "BASE_UA_AG['RANK_AR'] = np.where(A, A.cumsum(), 0)\n",
    "\n",
    "B = ((BASE_UA_AG.AMBITO == 'DESCONCENTRADA') & (BASE_UA_AG.ADM_GRAL  == 'AGJ'))\n",
    "BASE_UA_AG['RANK_AR'] = np.where(B, B.cumsum(), BASE_UA_AG.RANK_AR)\n",
    "\n",
    "C = ((BASE_UA_AG.AMBITO == 'DESCONCENTRADA') & (BASE_UA_AG.ADM_GRAL  == 'AGAFF'))\n",
    "BASE_UA_AG['RANK_AR'] = np.where(C, C.cumsum(), BASE_UA_AG.RANK_AR)\n",
    "\n",
    "D = ((BASE_UA_AG.AMBITO == 'DESCONCENTRADA') & (BASE_UA_AG.ADM_GRAL  == 'AGRS'))\n",
    "BASE_UA_AG['RANK_AR'] = np.where(D, D.cumsum(), BASE_UA_AG.RANK_AR)\n",
    "\n",
    "E = ((BASE_UA_AG.AMBITO == 'DESCONCENTRADA') & (BASE_UA_AG.ADM_GRAL  == 'AGR'))\n",
    "BASE_UA_AG['RANK_AR'] = np.where(E, E.cumsum(), BASE_UA_AG.RANK_AR)\n",
    "\n",
    "F = ((BASE_UA_AG.AMBITO == 'DESCONCENTRADA') & (BASE_UA_AG.ADM_GRAL  == 'AGCTI'))\n",
    "BASE_UA_AG['RANK_AR'] = np.where(F, F.cumsum(), BASE_UA_AG.RANK_AR)\n",
    "\n",
    "G = ((BASE_UA_AG.AMBITO == 'DESCONCENTRADA') & (BASE_UA_AG.ADM_GRAL  == 'AGSC'))\n",
    "BASE_UA_AG['RANK_AR'] = np.where(G, G.cumsum(), BASE_UA_AG.RANK_AR)\n",
    "\n",
    "\n",
    "### ---> CENTRAL\n",
    "### Si \"[AMBITO == CENTRAL] & [ADM_GRAL == (AGACE,AGE,AGJ,AGGC,AGAFF AGRS,AGR,AGCTI,AGSC,AGH,AGP)]\", entonces \"suma acumulativa\"\n",
    "    ### --> Si lo anterior no se cumple, entonces el valor es el anterior \"RANK_AR\" \n",
    "    \n",
    "H = ((BASE_UA_AG.AMBITO == 'CENTRAL') & (BASE_UA_AG.ADM_GRAL  == 'AGACE'))\n",
    "BASE_UA_AG['RANK_AR'] = np.where(H, H.cumsum(), BASE_UA_AG.RANK_AR)\n",
    "\n",
    "I = ((BASE_UA_AG.AMBITO == 'CENTRAL') & (BASE_UA_AG.ADM_GRAL  == 'AGE'))\n",
    "BASE_UA_AG['RANK_AR'] = np.where(I, I.cumsum(), BASE_UA_AG.RANK_AR)\n",
    "\n",
    "J = ((BASE_UA_AG.AMBITO == 'CENTRAL') & (BASE_UA_AG.ADM_GRAL  == 'AGJ'))\n",
    "BASE_UA_AG['RANK_AR'] = np.where(J, J.cumsum(), BASE_UA_AG.RANK_AR)\n",
    "\n",
    "K = ((BASE_UA_AG.AMBITO == 'CENTRAL') & (BASE_UA_AG.ADM_GRAL  == 'AGGC'))\n",
    "BASE_UA_AG['RANK_AR'] = np.where(K, K.cumsum(), BASE_UA_AG.RANK_AR)\n",
    "\n",
    "L = ((BASE_UA_AG.AMBITO == 'CENTRAL') & (BASE_UA_AG.ADM_GRAL  == 'AGAFF'))\n",
    "BASE_UA_AG['RANK_AR'] = np.where(L, L.cumsum(), BASE_UA_AG.RANK_AR)\n",
    "\n",
    "M = ((BASE_UA_AG.AMBITO == 'CENTRAL') & (BASE_UA_AG.ADM_GRAL  == 'AGRS'))\n",
    "BASE_UA_AG['RANK_AR'] = np.where(M, M.cumsum(), BASE_UA_AG.RANK_AR)\n",
    "\n",
    "N = ((BASE_UA_AG.AMBITO == 'CENTRAL') & (BASE_UA_AG.ADM_GRAL  == 'AGR'))\n",
    "BASE_UA_AG['RANK_AR'] = np.where(N, N.cumsum(), BASE_UA_AG.RANK_AR)\n",
    "\n",
    "O = ((BASE_UA_AG.AMBITO == 'CENTRAL') & (BASE_UA_AG.ADM_GRAL  == 'AGA'))\n",
    "BASE_UA_AG['RANK_AR'] = np.where(O, O.cumsum(), BASE_UA_AG.RANK_AR)\n",
    "\n",
    "P = ((BASE_UA_AG.AMBITO == 'CENTRAL') & (BASE_UA_AG.ADM_GRAL  == 'AGCTI'))\n",
    "BASE_UA_AG['RANK_AR'] = np.where(P, P.cumsum(), BASE_UA_AG.RANK_AR)\n",
    "\n",
    "Q = ((BASE_UA_AG.AMBITO == 'CENTRAL') & (BASE_UA_AG.ADM_GRAL  == 'AGSC'))\n",
    "BASE_UA_AG['RANK_AR'] = np.where(Q, Q.cumsum(), BASE_UA_AG.RANK_AR)\n",
    "\n",
    "R = ((BASE_UA_AG.AMBITO == 'CENTRAL') & (BASE_UA_AG.ADM_GRAL  == 'AGH'))\n",
    "BASE_UA_AG['RANK_AR'] = np.where(R, R.cumsum(), BASE_UA_AG.RANK_AR)\n",
    "\n",
    "S = ((BASE_UA_AG.AMBITO == 'CENTRAL') & (BASE_UA_AG.ADM_GRAL  == 'AGP'))\n",
    "BASE_UA_AG['RANK_AR'] = np.where(S, S.cumsum(), BASE_UA_AG.RANK_AR)\n",
    "\n",
    "\n",
    "### ---> ADUANA\n",
    "### Si \"[AMBITO == ADUANA] & [ADM_GRAL == (AGA,AGCTI,AGRS)]\", entonces \"suma acumulativa\"\n",
    "    ### --> Si lo anterior no se cumple, entonces el valor es el anterior \"RANK_AR\" \n",
    "    \n",
    "T = ((BASE_UA_AG.AMBITO == 'ADUANA') & (BASE_UA_AG.ADM_GRAL  == 'AGA'))\n",
    "BASE_UA_AG['RANK_AR'] = np.where(T, T.cumsum(), BASE_UA_AG.RANK_AR)\n",
    "\n",
    "U = ((BASE_UA_AG.AMBITO == 'ADUANA') & (BASE_UA_AG.ADM_GRAL  == 'AGCTI'))\n",
    "BASE_UA_AG['RANK_AR'] = np.where(U, U.cumsum(), BASE_UA_AG.RANK_AR)\n",
    "\n",
    "V = ((BASE_UA_AG.AMBITO == 'ADUANA') & (BASE_UA_AG.ADM_GRAL  == 'AGRS'))\n",
    "BASE_UA_AG['RANK_AR'] = np.where(V, V.cumsum(), BASE_UA_AG.RANK_AR)\n",
    "\n",
    "\n",
    "### ---> GENERAL & REGIONAL\n",
    "### Para todos los casos donde \"RANK_AR\" es igual a \"0\" y donde \"[AMBITO == (GENERAL,REGIONAL)]\"\n",
    "    ### --> Si lo anterior no se cumple, entonces el valor es el anterior \"RANK_AR\" \n",
    "    \n",
    "W = (BASE_UA_AG.RANK_AR == 0)\n",
    "BASE_UA_AG['RANK_AR'] =np.where(W, W.cumsum(), BASE_UA_AG.RANK_AR)\n",
    "\n",
    "print(BASE_UA_AG.shape)"
   ]
  },
  {
   "cell_type": "code",
   "execution_count": 6,
   "metadata": {},
   "outputs": [
    {
     "name": "stdout",
     "output_type": "stream",
     "text": [
      "(157, 13)\n"
     ]
    }
   ],
   "source": [
    "###################################################### PASO 06 ######################################################\n",
    "\n",
    "                                         ### RANK_UA_DES_AG\n",
    "\n",
    "### Se crea la tabla \"RANK_UA_DES_AG\" a partir del cálculo de un nuevo nivel con base a: \"RANK_AR\" y \"ADM_GRAL\"\n",
    "                             ### --> \"RANK_AR\" y \"ADM_GRAL\"\n",
    "            ### --> Este proceso se considera como una matriz transpuesta agrupada en una columna\n",
    "### La tabla \"RK_UA_DES_AG\" contiene los campos:\n",
    "                             ### --> 'UNIDAD_ADM','REGION','SEDE','UNIDAD','LOCAL','ADM_GRAL','RANK_AR'\n",
    "\n",
    "RK_UA_DES_AG = BASE_UA_AG[['UNIDAD_ADM','REGION','SEDE','UNIDAD','LOCAL','ADM_GRAL','RANK_AR']]\n",
    "\n",
    "### Se renombra la columna a transponer por facilidad de procesos siguientes:\n",
    "\n",
    "RK_UA_DES_AG = RK_UA_DES_AG.rename({\"RANK_AR\": \"X_\"},axis = 1)\n",
    "\n",
    "### Se traspone (unstack) el dataframe para la columna \"RANK_AR(X_)\" como suma, agrupando por:\n",
    "                             ### --> 'UNIDAD_ADM','REGION','SEDE','UNIDAD','LOCAL','ADM_GRAL'\n",
    "    \n",
    "RANK_UA_DES_AG = RK_UA_DES_AG.groupby(['UNIDAD_ADM','REGION',\n",
    "                                       'SEDE','UNIDAD','LOCAL',\n",
    "                                       'ADM_GRAL'], sort=False).sum().unstack().reset_index()\n",
    "\n",
    "### El dataframe transpuesto es de orden multinivel por la información en \"RANK_AR(X_)\", se restructura de la forma:\n",
    "                             ### --> Se extrae el nombre de las columnas y se guardan como lista \"CL_MI.tolist()\"\n",
    "                                       ### --> ('X_','AGAFF') [Columna de nombre multinivel (a,b)]\n",
    "                             ### --> La lista de nombres se aplanan y transforman en índices\n",
    "                                       ### --> ('X_','AGAFF') ==> 'X_AGAFF'     \n",
    "                             ### --> Los índices se convierten ahora en el nombre de las columnas\n",
    "                             ### --> Se eliminan los subfijos en los nombres de las columnas (X_)\n",
    "\n",
    "CL_MI = RANK_UA_DES_AG.columns\n",
    "IND = pd.Index([e[0] + e[1] for e in CL_MI.tolist()])\n",
    "RANK_UA_DES_AG.columns = IND\n",
    "RANK_UA_DES_AG.columns = RANK_UA_DES_AG.columns.str.strip('X_')\n",
    "\n",
    "\n",
    "### La tabla \"RANK_UA_DES_AG\" se ordena \"UNIDAD_ADM\" de forma ascendente \n",
    "### Se ordenan las columnas con base al resultado en \"SAS\"\n",
    "\n",
    "RANK_UA_DES_AG = RANK_UA_DES_AG.sort_values(by=['UNIDAD_ADM'],ascending=[True]).reset_index(drop=True)\n",
    "RANK_UA_DES_AG = RANK_UA_DES_AG[['UNIDAD_ADM','AGACE','AGR','AGRS',\n",
    "                                 'AGCTI','AGE','AGAFF','AGGC','AGH',\n",
    "                                 'AGSC','AGJ','AGP']]\n",
    "\n",
    "### Para \"RANK_UA_DES_AG\" se crea el campo \"AG_UA\" con base al conteo de los elementos en:\n",
    "                             ### --> 'AGACE','AGR','AGRS','AGCTI','AGE','AGAFF','AGGC','AGH','AGSC','AGJ','AGP'\n",
    "\n",
    "RANK_UA_DES_AG['AG_UA'] = RANK_UA_DES_AG.iloc[:,1:12].count(axis=1)\n",
    "     \n",
    "print(RANK_UA_DES_AG.shape)"
   ]
  },
  {
   "cell_type": "code",
   "execution_count": 7,
   "metadata": {},
   "outputs": [
    {
     "name": "stdout",
     "output_type": "stream",
     "text": [
      "(157, 23)\n"
     ]
    }
   ],
   "source": [
    "###################################################### PASO 07 ######################################################\n",
    "\n",
    "                                         ### IRS_UA_RANK\n",
    "\n",
    "### Se crea la tabla \"IRS_UA_RANK\" con base la unión en:\n",
    "                             ### --> \"BASE_UA\", \"RANK_UA_DES_AG\" y \"IRN_RECAUDACION_UA\" con campo llave \"UNIDAD_ADM\" \n",
    "                                      ### --> Nota: falta la tabla \"IRN_RECAUDACION_UA\"\n",
    "\n",
    "IRS_UA_RANK = BASE_UA.merge(RANK_UA_DES_AG,\n",
    "                            how = 'left',\n",
    "                            left_on = ['UNIDAD_ADM'],\n",
    "                            right_on = ['UNIDAD_ADM'])\n",
    "\n",
    "### Para \"IRS_UA_RANK\" se crea el campo \"UNIDAD_LOCAL\" a partir de la union de textos en las columnas:\n",
    "                             ### --> \"UNIDAD\" + \"(LOCAL)\"\n",
    "\n",
    "IRS_UA_RANK[\"UNIDAD_LOCAL\"] = IRS_UA_RANK['UNIDAD'].astype(str) +\"(\"+ IRS_UA_RANK[\"LOCAL\"].astype(str) +\")\"\n",
    "\n",
    "### Se ordenan los campos con base a los resultados en \"SAS\"\n",
    "\n",
    "IRS_UA_RANK = IRS_UA_RANK[['UNIDAD_ADM','REGION','SEDE','UNIDAD','LOCAL','UNIDAD_LOCAL','AMBITO',\n",
    "                           'AG_UA','AG_SUPERVISADAS_UA','UA_PTO','UA_EMP','UA_MIARI',\n",
    "                           'AGSC','AGAFF','AGGC','AGACE','AGH','AGR','AGJ','AGRS','AGCTI','AGE','AGP']]\n",
    "\n",
    "\n",
    "### Se exporta \"IRS_UA_RANK\"\n",
    "IRS_UA_RANK.to_csv(Salidas + '/IRS_UA_RANK.csv',\n",
    "                        encoding = 'Latin-1', index = False)\n",
    "\n",
    "print(IRS_UA_RANK.shape)"
   ]
  }
 ],
 "metadata": {
  "kernelspec": {
   "display_name": "Python 3 (ipykernel)",
   "language": "python",
   "name": "python3"
  },
  "language_info": {
   "codemirror_mode": {
    "name": "ipython",
    "version": 3
   },
   "file_extension": ".py",
   "mimetype": "text/x-python",
   "name": "python",
   "nbconvert_exporter": "python",
   "pygments_lexer": "ipython3",
   "version": "3.8.13"
  }
 },
 "nbformat": 4,
 "nbformat_minor": 4
}
