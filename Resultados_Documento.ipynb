{
 "cells": [
  {
   "cell_type": "code",
   "execution_count": 1,
   "id": "c6459314-f889-4ddf-9161-a744ca08bd27",
   "metadata": {},
   "outputs": [],
   "source": [
    "import numpy as np\n",
    "import pandas as pd\n",
    "\n",
    "import warnings\n",
    "warnings.filterwarnings(\"ignore\", category=DeprecationWarning) \n",
    "\n",
    "\n",
    "import plotly.express as px\n",
    "import plotly.graph_objects as go\n",
    "import matplotlib.colors as mcolors"
   ]
  },
  {
   "cell_type": "code",
   "execution_count": 2,
   "id": "cdc2c4fb-500d-4bad-85ed-ca554a42da49",
   "metadata": {},
   "outputs": [],
   "source": [
    "#%#%#%#%#%#%#%# Función para renombrar las columnas #%#%#%#%#%#%#%#\n",
    "def Rename_SAT(Data, Pre, Letra):\n",
    "    '''\n",
    "    Función para renombrar las columnas de un DataFrame con un formato específico.\n",
    "    Input:\n",
    "    - Data: DataFrame que contiene las columnas a renombrar.\n",
    "    - Pre: Prefijo que se agregará al nuevo nombre de las columnas.\n",
    "    - Letra: Formato de las columnas que permite ajustar los índices numéricos.\n",
    "    Output:\n",
    "    - Dict: Diccionario que mapea los nombres originales de las columnas a los nuevos nombres.\n",
    "    - Data: DataFrame con las columnas renombradas.\n",
    "    '''\n",
    "    #> Generar nuevos nombres de columnas usando el prefijo y el formato especificado\n",
    "    Name = ['{}{}'.format(Pre, Letra.format(i+1)) for i in range(len(Data.columns))]\n",
    "    #> Crear un diccionario que asocia los nombres originales con los nuevos nombres\n",
    "    Dict = dict(zip(Data.columns, Name))\n",
    "    #> Cambiar los nombres de las columnas en el DataFrame usando el diccionario creado\n",
    "    Data = Data.rename(columns=Dict)\n",
    "    #> Devolver el diccionario y el DataFrame con los nuevos nombres\n",
    "    return (Dict, Data)"
   ]
  },
  {
   "cell_type": "code",
   "execution_count": 3,
   "id": "987e4fa8-cabd-4af3-aa30-f29d5e3dc88e",
   "metadata": {},
   "outputs": [],
   "source": [
    "### Entradas\n",
    "\n",
    "Base = 'D:/Users/LAAR8976/Desktop/CECTI/ENCUESTAS_2025/CLAUDIA/BASE DE DATOS/'"
   ]
  },
  {
   "cell_type": "code",
   "execution_count": 4,
   "id": "b957eef4-bfae-4d4c-a58f-e4099817a2bf",
   "metadata": {},
   "outputs": [
    {
     "data": {
      "text/html": [
       "<div>\n",
       "<style scoped>\n",
       "    .dataframe tbody tr th:only-of-type {\n",
       "        vertical-align: middle;\n",
       "    }\n",
       "\n",
       "    .dataframe tbody tr th {\n",
       "        vertical-align: top;\n",
       "    }\n",
       "\n",
       "    .dataframe thead th {\n",
       "        text-align: right;\n",
       "    }\n",
       "</style>\n",
       "<table border=\"1\" class=\"dataframe\">\n",
       "  <thead>\n",
       "    <tr style=\"text-align: right;\">\n",
       "      <th></th>\n",
       "      <th>RFC Corto</th>\n",
       "      <th>Nombre</th>\n",
       "      <th>Ambito</th>\n",
       "      <th>General</th>\n",
       "      <th>Desconcentrada</th>\n",
       "      <th>UA</th>\n",
       "      <th>Antigüedad</th>\n",
       "      <th>Nivel</th>\n",
       "      <th>Aplicativo</th>\n",
       "      <th>Uso</th>\n",
       "      <th>Eficiencia</th>\n",
       "      <th>Frecuencia</th>\n",
       "      <th>Deficiencia</th>\n",
       "      <th>Reportes</th>\n",
       "      <th>Impacto</th>\n",
       "      <th>Tiempo_Impacto</th>\n",
       "      <th>Herramienta_Ad</th>\n",
       "      <th>Tiempo_Res</th>\n",
       "      <th>Mejoras</th>\n",
       "      <th>APP_NAME</th>\n",
       "    </tr>\n",
       "  </thead>\n",
       "  <tbody>\n",
       "    <tr>\n",
       "      <th>0</th>\n",
       "      <td>MEAA946L</td>\n",
       "      <td>ANTONIO GIOVANNY MEDINA AVALOS</td>\n",
       "      <td>Desconcentrada</td>\n",
       "      <td>AGSC</td>\n",
       "      <td>ADMINISTRACIÓN DESCONCENTRADA DE SERVICIOS AL ...</td>\n",
       "      <td>AGSC</td>\n",
       "      <td>0 a 5 años</td>\n",
       "      <td>Jefe de Departamento</td>\n",
       "      <td>MODELO DE ADMINISTRACION TRIBUTARIA</td>\n",
       "      <td>Consulta de información</td>\n",
       "      <td>Eficiente</td>\n",
       "      <td>Diariamente</td>\n",
       "      <td>Lentitud general</td>\n",
       "      <td>Sin respuesta</td>\n",
       "      <td>Alto</td>\n",
       "      <td>Sin respuesta</td>\n",
       "      <td>NaN</td>\n",
       "      <td>Sí</td>\n",
       "      <td>MAS ÁGIL</td>\n",
       "      <td>MAT</td>\n",
       "    </tr>\n",
       "    <tr>\n",
       "      <th>1</th>\n",
       "      <td>MEAA946L</td>\n",
       "      <td>ANTONIO GIOVANNY MEDINA AVALOS</td>\n",
       "      <td>Desconcentrada</td>\n",
       "      <td>AGSC</td>\n",
       "      <td>ADMINISTRACIÓN DESCONCENTRADA DE SERVICIOS AL ...</td>\n",
       "      <td>AGSC</td>\n",
       "      <td>0 a 5 años</td>\n",
       "      <td>Jefe de Departamento</td>\n",
       "      <td>VISOR DOCUMENTAL E.FIRMA</td>\n",
       "      <td>Consulta de información</td>\n",
       "      <td>Eficiente</td>\n",
       "      <td>Diariamente</td>\n",
       "      <td>Lentitud general</td>\n",
       "      <td>Sin respuesta</td>\n",
       "      <td>Alto</td>\n",
       "      <td>Sin respuesta</td>\n",
       "      <td>NaN</td>\n",
       "      <td>Sí</td>\n",
       "      <td>MAS ÁGIL</td>\n",
       "      <td>VISOR DE E.FIRMA</td>\n",
       "    </tr>\n",
       "  </tbody>\n",
       "</table>\n",
       "</div>"
      ],
      "text/plain": [
       "  RFC Corto                          Nombre          Ambito General  \\\n",
       "0  MEAA946L  ANTONIO GIOVANNY MEDINA AVALOS  Desconcentrada    AGSC   \n",
       "1  MEAA946L  ANTONIO GIOVANNY MEDINA AVALOS  Desconcentrada    AGSC   \n",
       "\n",
       "                                      Desconcentrada    UA  Antigüedad  \\\n",
       "0  ADMINISTRACIÓN DESCONCENTRADA DE SERVICIOS AL ...  AGSC  0 a 5 años   \n",
       "1  ADMINISTRACIÓN DESCONCENTRADA DE SERVICIOS AL ...  AGSC  0 a 5 años   \n",
       "\n",
       "                  Nivel                           Aplicativo  \\\n",
       "0  Jefe de Departamento  MODELO DE ADMINISTRACION TRIBUTARIA   \n",
       "1  Jefe de Departamento             VISOR DOCUMENTAL E.FIRMA   \n",
       "\n",
       "                       Uso Eficiencia   Frecuencia       Deficiencia  \\\n",
       "0  Consulta de información  Eficiente  Diariamente  Lentitud general   \n",
       "1  Consulta de información  Eficiente  Diariamente  Lentitud general   \n",
       "\n",
       "        Reportes Impacto Tiempo_Impacto Herramienta_Ad Tiempo_Res    Mejoras  \\\n",
       "0  Sin respuesta    Alto  Sin respuesta            NaN         Sí  MAS ÁGIL    \n",
       "1  Sin respuesta    Alto  Sin respuesta            NaN         Sí  MAS ÁGIL    \n",
       "\n",
       "           APP_NAME  \n",
       "0               MAT  \n",
       "1  VISOR DE E.FIRMA  "
      ]
     },
     "execution_count": 4,
     "metadata": {},
     "output_type": "execute_result"
    }
   ],
   "source": [
    "### DESCONCENTRADA\n",
    "\n",
    "Sistemas = pd.read_excel(Base + 'Mexico_2.xlsx', sheet_name = 'B1' )\n",
    "Sistemas.head(2)"
   ]
  },
  {
   "cell_type": "code",
   "execution_count": 5,
   "id": "d3cb85db-5815-453e-88e9-70256cd1bf04",
   "metadata": {},
   "outputs": [],
   "source": [
    "DES_DIC, DES_NEW = Rename_SAT(Sistemas, 'D', '{}')"
   ]
  },
  {
   "cell_type": "code",
   "execution_count": 6,
   "id": "454ea082-5800-4847-81e8-ca15fdd51d39",
   "metadata": {},
   "outputs": [
    {
     "data": {
      "text/plain": [
       "71"
      ]
     },
     "execution_count": 6,
     "metadata": {},
     "output_type": "execute_result"
    }
   ],
   "source": [
    "### Total de Servidores Públicos encuestados\n",
    "\n",
    "DES_NEW.D1.nunique()"
   ]
  },
  {
   "cell_type": "code",
   "execution_count": 7,
   "id": "f21abebf-5d96-4acb-a788-bd337df83949",
   "metadata": {},
   "outputs": [
    {
     "data": {
      "text/html": [
       "<div>\n",
       "<style scoped>\n",
       "    .dataframe tbody tr th:only-of-type {\n",
       "        vertical-align: middle;\n",
       "    }\n",
       "\n",
       "    .dataframe tbody tr th {\n",
       "        vertical-align: top;\n",
       "    }\n",
       "\n",
       "    .dataframe thead th {\n",
       "        text-align: right;\n",
       "    }\n",
       "</style>\n",
       "<table border=\"1\" class=\"dataframe\">\n",
       "  <thead>\n",
       "    <tr style=\"text-align: right;\">\n",
       "      <th></th>\n",
       "      <th>D8</th>\n",
       "      <th>D7</th>\n",
       "      <th>D1</th>\n",
       "    </tr>\n",
       "  </thead>\n",
       "  <tbody>\n",
       "    <tr>\n",
       "      <th>0</th>\n",
       "      <td>Enlace</td>\n",
       "      <td>0 a 5 años</td>\n",
       "      <td>17</td>\n",
       "    </tr>\n",
       "    <tr>\n",
       "      <th>1</th>\n",
       "      <td>Enlace</td>\n",
       "      <td>11 a 15 años</td>\n",
       "      <td>1</td>\n",
       "    </tr>\n",
       "    <tr>\n",
       "      <th>2</th>\n",
       "      <td>Enlace</td>\n",
       "      <td>16 a 20 años</td>\n",
       "      <td>2</td>\n",
       "    </tr>\n",
       "    <tr>\n",
       "      <th>3</th>\n",
       "      <td>Enlace</td>\n",
       "      <td>6 a 10 años</td>\n",
       "      <td>2</td>\n",
       "    </tr>\n",
       "    <tr>\n",
       "      <th>4</th>\n",
       "      <td>Enlace</td>\n",
       "      <td>Más de 30 años</td>\n",
       "      <td>1</td>\n",
       "    </tr>\n",
       "    <tr>\n",
       "      <th>5</th>\n",
       "      <td>Jefe de Departamento</td>\n",
       "      <td>0 a 5 años</td>\n",
       "      <td>2</td>\n",
       "    </tr>\n",
       "    <tr>\n",
       "      <th>6</th>\n",
       "      <td>Jefe de Departamento</td>\n",
       "      <td>11 a 15 años</td>\n",
       "      <td>1</td>\n",
       "    </tr>\n",
       "    <tr>\n",
       "      <th>7</th>\n",
       "      <td>Jefe de Departamento</td>\n",
       "      <td>16 a 20 años</td>\n",
       "      <td>1</td>\n",
       "    </tr>\n",
       "    <tr>\n",
       "      <th>8</th>\n",
       "      <td>Jefe de Departamento</td>\n",
       "      <td>6 a 10 años</td>\n",
       "      <td>1</td>\n",
       "    </tr>\n",
       "    <tr>\n",
       "      <th>13</th>\n",
       "      <td>Operativo</td>\n",
       "      <td>6 a 10 años</td>\n",
       "      <td>5</td>\n",
       "    </tr>\n",
       "    <tr>\n",
       "      <th>12</th>\n",
       "      <td>Operativo</td>\n",
       "      <td>21 a 25 años</td>\n",
       "      <td>1</td>\n",
       "    </tr>\n",
       "    <tr>\n",
       "      <th>11</th>\n",
       "      <td>Operativo</td>\n",
       "      <td>16 a 20 años</td>\n",
       "      <td>6</td>\n",
       "    </tr>\n",
       "    <tr>\n",
       "      <th>10</th>\n",
       "      <td>Operativo</td>\n",
       "      <td>11 a 15 años</td>\n",
       "      <td>5</td>\n",
       "    </tr>\n",
       "    <tr>\n",
       "      <th>9</th>\n",
       "      <td>Operativo</td>\n",
       "      <td>0 a 5 años</td>\n",
       "      <td>3</td>\n",
       "    </tr>\n",
       "    <tr>\n",
       "      <th>14</th>\n",
       "      <td>Operativo base</td>\n",
       "      <td>0 a 5 años</td>\n",
       "      <td>5</td>\n",
       "    </tr>\n",
       "    <tr>\n",
       "      <th>15</th>\n",
       "      <td>Operativo base</td>\n",
       "      <td>11 a 15 años</td>\n",
       "      <td>3</td>\n",
       "    </tr>\n",
       "    <tr>\n",
       "      <th>16</th>\n",
       "      <td>Operativo base</td>\n",
       "      <td>16 a 20 años</td>\n",
       "      <td>2</td>\n",
       "    </tr>\n",
       "    <tr>\n",
       "      <th>17</th>\n",
       "      <td>Operativo base</td>\n",
       "      <td>6 a 10 años</td>\n",
       "      <td>6</td>\n",
       "    </tr>\n",
       "    <tr>\n",
       "      <th>18</th>\n",
       "      <td>Operativo base</td>\n",
       "      <td>Más de 30 años</td>\n",
       "      <td>1</td>\n",
       "    </tr>\n",
       "    <tr>\n",
       "      <th>19</th>\n",
       "      <td>Subadministrador</td>\n",
       "      <td>0 a 5 años</td>\n",
       "      <td>3</td>\n",
       "    </tr>\n",
       "    <tr>\n",
       "      <th>20</th>\n",
       "      <td>Subadministrador</td>\n",
       "      <td>11 a 15 años</td>\n",
       "      <td>1</td>\n",
       "    </tr>\n",
       "    <tr>\n",
       "      <th>21</th>\n",
       "      <td>Subadministrador</td>\n",
       "      <td>16 a 20 años</td>\n",
       "      <td>1</td>\n",
       "    </tr>\n",
       "    <tr>\n",
       "      <th>22</th>\n",
       "      <td>Subadministrador</td>\n",
       "      <td>6 a 10 años</td>\n",
       "      <td>1</td>\n",
       "    </tr>\n",
       "  </tbody>\n",
       "</table>\n",
       "</div>"
      ],
      "text/plain": [
       "                      D8              D7  D1\n",
       "0                 Enlace      0 a 5 años  17\n",
       "1                 Enlace    11 a 15 años   1\n",
       "2                 Enlace    16 a 20 años   2\n",
       "3                 Enlace     6 a 10 años   2\n",
       "4                 Enlace  Más de 30 años   1\n",
       "5   Jefe de Departamento      0 a 5 años   2\n",
       "6   Jefe de Departamento    11 a 15 años   1\n",
       "7   Jefe de Departamento    16 a 20 años   1\n",
       "8   Jefe de Departamento     6 a 10 años   1\n",
       "13             Operativo     6 a 10 años   5\n",
       "12             Operativo    21 a 25 años   1\n",
       "11             Operativo    16 a 20 años   6\n",
       "10             Operativo    11 a 15 años   5\n",
       "9              Operativo      0 a 5 años   3\n",
       "14        Operativo base      0 a 5 años   5\n",
       "15        Operativo base    11 a 15 años   3\n",
       "16        Operativo base    16 a 20 años   2\n",
       "17        Operativo base     6 a 10 años   6\n",
       "18        Operativo base  Más de 30 años   1\n",
       "19      Subadministrador      0 a 5 años   3\n",
       "20      Subadministrador    11 a 15 años   1\n",
       "21      Subadministrador    16 a 20 años   1\n",
       "22      Subadministrador     6 a 10 años   1"
      ]
     },
     "execution_count": 7,
     "metadata": {},
     "output_type": "execute_result"
    }
   ],
   "source": [
    "### Total de Servidores Públicos encuestados por antigüedad\n",
    "\n",
    "DES_NEW.groupby(['D8', 'D7'])['D1'].nunique().reset_index().sort_values(by = ['D8'], ascending=True)"
   ]
  },
  {
   "cell_type": "code",
   "execution_count": 8,
   "id": "d764c524-95c7-470f-9e88-3bd883d8f810",
   "metadata": {},
   "outputs": [
    {
     "data": {
      "text/html": [
       "<div>\n",
       "<style scoped>\n",
       "    .dataframe tbody tr th:only-of-type {\n",
       "        vertical-align: middle;\n",
       "    }\n",
       "\n",
       "    .dataframe tbody tr th {\n",
       "        vertical-align: top;\n",
       "    }\n",
       "\n",
       "    .dataframe thead th {\n",
       "        text-align: right;\n",
       "    }\n",
       "</style>\n",
       "<table border=\"1\" class=\"dataframe\">\n",
       "  <thead>\n",
       "    <tr style=\"text-align: right;\">\n",
       "      <th></th>\n",
       "      <th>D3</th>\n",
       "      <th>D9</th>\n",
       "      <th>D20</th>\n",
       "    </tr>\n",
       "  </thead>\n",
       "  <tbody>\n",
       "    <tr>\n",
       "      <th>0</th>\n",
       "      <td>Desconcentrada</td>\n",
       "      <td>254</td>\n",
       "      <td>81</td>\n",
       "    </tr>\n",
       "  </tbody>\n",
       "</table>\n",
       "</div>"
      ],
      "text/plain": [
       "               D3   D9  D20\n",
       "0  Desconcentrada  254   81"
      ]
     },
     "execution_count": 8,
     "metadata": {},
     "output_type": "execute_result"
    }
   ],
   "source": [
    "### D9 == Sistemas distintos\n",
    "### D20 == Sistemas alineados\n",
    "\n",
    "DES_NEW.groupby(['D3']).agg({'D9': 'nunique', 'D20': 'nunique'}).reset_index()"
   ]
  },
  {
   "cell_type": "code",
   "execution_count": 221,
   "id": "34820aeb-9e2a-47cf-a426-e7143347420e",
   "metadata": {},
   "outputs": [
    {
     "data": {
      "text/html": [
       "<div>\n",
       "<style scoped>\n",
       "    .dataframe tbody tr th:only-of-type {\n",
       "        vertical-align: middle;\n",
       "    }\n",
       "\n",
       "    .dataframe tbody tr th {\n",
       "        vertical-align: top;\n",
       "    }\n",
       "\n",
       "    .dataframe thead th {\n",
       "        text-align: right;\n",
       "    }\n",
       "</style>\n",
       "<table border=\"1\" class=\"dataframe\">\n",
       "  <thead>\n",
       "    <tr style=\"text-align: right;\">\n",
       "      <th></th>\n",
       "      <th>D20</th>\n",
       "      <th>D1</th>\n",
       "    </tr>\n",
       "  </thead>\n",
       "  <tbody>\n",
       "    <tr>\n",
       "      <th>43</th>\n",
       "      <td>MAT</td>\n",
       "      <td>64</td>\n",
       "    </tr>\n",
       "    <tr>\n",
       "      <th>12</th>\n",
       "      <td>CERTISAT</td>\n",
       "      <td>61</td>\n",
       "    </tr>\n",
       "  </tbody>\n",
       "</table>\n",
       "</div>"
      ],
      "text/plain": [
       "         D20  D1\n",
       "43       MAT  64\n",
       "12  CERTISAT  61"
      ]
     },
     "execution_count": 221,
     "metadata": {},
     "output_type": "execute_result"
    }
   ],
   "source": [
    "### Top de los sistemas más usados \n",
    "### D20 == Sistemas alineados\n",
    "### D1 == Usuarios\n",
    "\n",
    "Fig_1 = DES_NEW.groupby(['D20']).agg({'D1': 'nunique'}).reset_index().sort_values(by = ['D1'], ascending = False).head(15)\n",
    "Fig_1.head(2)"
   ]
  },
  {
   "cell_type": "code",
   "execution_count": 230,
   "id": "d1fd6ad6-22f1-4dce-8f81-9c032dd6fd44",
   "metadata": {},
   "outputs": [],
   "source": [
    "def Grafico_Radial(df, categoria, valor, width=1200, height=1200):\n",
    "    \"\"\"\n",
    "    Crea un gráfico de barras circulares atractivo en Plotly sin líneas de fondo visibles,\n",
    "    etiquetas organizadas y valores entre corchetes al lado del nombre.\n",
    "    \n",
    "    Parámetros:\n",
    "    df (pd.DataFrame): Tabla de datos.\n",
    "    categoria (str): Nombre de la columna con las etiquetas.\n",
    "    valor (str): Nombre de la columna con los valores numéricos.\n",
    "    width (int): Ancho del gráfico en píxeles.\n",
    "    height (int): Altura del gráfico en píxeles.\n",
    "    \n",
    "    Retorna:\n",
    "    fig (plotly.graph_objects.Figure): Gráfico circular de barras generado.\n",
    "    \"\"\"\n",
    "    # Normalizar los valores para mejorar la visualización en la escala radial\n",
    "    max_val = df[valor].max()\n",
    "    df['normalized'] = df[valor] / max_val * 100  # Escalamos los valores a 100%\n",
    "\n",
    "    # Generar los ángulos en el eje circular\n",
    "    theta_angles = np.linspace(0, 360, len(df), endpoint=False)\n",
    "\n",
    "    # Crear una escala de colores con `LinearSegmentedColormap`\n",
    "    cmap = mcolors.LinearSegmentedColormap.from_list(\"\", ['#630d32', '#b18f5f', '#6f6f71'])\n",
    "    num_items = len(df)\n",
    "\n",
    "    # Asignar colores a las barras en función de la cantidad de categorías\n",
    "    colors = [mcolors.to_hex(cmap(i / (num_items - 1))) for i in range(num_items)] if num_items > 1 else [mcolors.to_hex(cmap(0))]\n",
    "\n",
    "    # Contar cuántos valores están repetidos para ajustar su posición\n",
    "    count_dict = df[valor].value_counts().to_dict()\n",
    "    offset_dict = {key: 0 for key in count_dict}  # Para rastrear el desplazamiento de cada valor repetido\n",
    "\n",
    "    # Crear el gráfico de barras circulares\n",
    "    fig = go.Figure()\n",
    "\n",
    "    for i, row in enumerate(df.itertuples(index=False)):\n",
    "        fig.add_trace(go.Barpolar(\n",
    "            r = [row.normalized],  # Normalizado para escala\n",
    "            theta = [theta_angles[i]],  # Ángulo en coordenadas polares\n",
    "            width = [20],  # Ancho de la barra radial\n",
    "            marker_color = colors[i],  # Asignar colores de la nueva escala\n",
    "            name = row.__getattribute__(categoria),  # Nombre de la serie\n",
    "            hoverinfo = \"text\"\n",
    "        ))\n",
    "\n",
    "    # Agregar etiquetas con líneas punteadas y valores entre corchetes\n",
    "    etiquetas = []\n",
    "    for i, row in enumerate(df.itertuples(index=False)):\n",
    "        value = row.__getattribute__(valor)\n",
    "\n",
    "        # Aumentamos la distancia de la etiqueta si hay varios valores iguales\n",
    "        extra_offset = offset_dict[value] * 5  # Separación progresiva para evitar amontonamiento\n",
    "        etiquetas.append(f\"{row.__getattribute__(categoria)} [{value}]\")  # Valor entre corchetes\n",
    "\n",
    "        etiqueta_r = row.normalized + 10 + extra_offset  # Ajuste dinámico\n",
    "        etiqueta_theta = theta_angles[i]\n",
    "\n",
    "        # Agregar línea de conexión punteada\n",
    "        fig.add_trace(go.Scatterpolar(\n",
    "            r = [row.normalized, etiqueta_r],  # Línea desde la barra hasta la etiqueta\n",
    "            theta = [etiqueta_theta, etiqueta_theta],\n",
    "            mode = \"lines\",\n",
    "            line = dict(color = \"#EEE56E\", width = 1.2, dash = \"dot\"),  # Línea punteada negra\n",
    "            showlegend = False\n",
    "        ))\n",
    "\n",
    "        # Agregar la etiqueta en la posición final de la línea\n",
    "        fig.add_trace(go.Scatterpolar(\n",
    "            r = [etiqueta_r],  # Ajuste de posición\n",
    "            theta = [etiqueta_theta],\n",
    "            text = [etiquetas[i]],  # Etiqueta con nombre y valor al lado en corchetes\n",
    "            mode = \"text\",\n",
    "            textposition = \"middle center\",\n",
    "            textfont = dict(size = 12, color = \"black\")  # Color y tamaño de la fuente\n",
    "        ))\n",
    "\n",
    "        # Actualizar el desplazamiento para la siguiente etiqueta si el valor es repetido\n",
    "        offset_dict[value] += 1\n",
    "\n",
    "    # Configurar diseño para OCULTAR TODAS LAS LÍNEAS Y CÍRCULOS\n",
    "    fig.update_layout(\n",
    "        width = width,  # Tamaño personalizado\n",
    "        height = height,\n",
    "        polar = dict(\n",
    "            bgcolor = \"white\",  # Fondo blanco sin líneas\n",
    "            radialaxis = dict(\n",
    "                visible = False,  # Oculta completamente los anillos radiales\n",
    "                showline = False,\n",
    "                showticklabels = False,\n",
    "                ticks = \"\",\n",
    "                gridcolor = \"rgba(0,0,0,0)\",  # Asegura que no haya líneas de cuadrícula\n",
    "                layer = \"below traces\"  # Se asegura de que no interfiera con las barras\n",
    "            ),\n",
    "            angularaxis = dict(direction = \"counterclockwise\",\n",
    "                visible = False,  # Oculta completamente los valores angulares\n",
    "                showticklabels = False,\n",
    "                showline = False,\n",
    "                tickvals = [],  # Elimina valores\n",
    "                ticktext = [],  # No muestra texto en el eje\n",
    "                ticks = \"\",\n",
    "                gridcolor = \"rgba(0,0,0,0)\"  # Asegura que no haya líneas de cuadrícula\n",
    "            )\n",
    "        ),\n",
    "        showlegend = False,\n",
    "        margin = dict(l = 30, r = 30, t = 50, b = 50),\n",
    "        template = \"plotly_white\"\n",
    "    )\n",
    "\n",
    "    return (fig)\n"
   ]
  },
  {
   "cell_type": "code",
   "execution_count": 231,
   "id": "7a221648-aed0-4ca1-86bf-54dd9be21fcc",
   "metadata": {},
   "outputs": [
    {
     "data": {
      "application/vnd.plotly.v1+json": {
       "config": {
        "plotlyServerURL": "https://plot.ly"
       },
       "data": [
        {
         "hoverinfo": "text",
         "marker": {
          "color": "#630d32"
         },
         "name": "MAT",
         "r": [
          100
         ],
         "theta": [
          0
         ],
         "type": "barpolar",
         "width": [
          20
         ]
        },
        {
         "hoverinfo": "text",
         "marker": {
          "color": "#6e1f38"
         },
         "name": "CERTISAT",
         "r": [
          95.3125
         ],
         "theta": [
          24
         ],
         "type": "barpolar",
         "width": [
          20
         ]
        },
        {
         "hoverinfo": "text",
         "marker": {
          "color": "#79323f"
         },
         "name": "VISOR DE E.FIRMA",
         "r": [
          56.25
         ],
         "theta": [
          48
         ],
         "type": "barpolar",
         "width": [
          20
         ]
        },
        {
         "hoverinfo": "text",
         "marker": {
          "color": "#844445"
         },
         "name": "SISTEMA DE TURNOS ",
         "r": [
          53.125
         ],
         "theta": [
          72
         ],
         "type": "barpolar",
         "width": [
          20
         ]
        },
        {
         "hoverinfo": "text",
         "marker": {
          "color": "#90574c"
         },
         "name": "APLICATIVO DE REGISTRO ",
         "r": [
          50
         ],
         "theta": [
          96
         ],
         "type": "barpolar",
         "width": [
          20
         ]
        },
        {
         "hoverinfo": "text",
         "marker": {
          "color": "#9b6a52"
         },
         "name": "SOLUCIÓN INTEGRAL ",
         "r": [
          40.625
         ],
         "theta": [
          120
         ],
         "type": "barpolar",
         "width": [
          20
         ]
        },
        {
         "hoverinfo": "text",
         "marker": {
          "color": "#a67c58"
         },
         "name": "SISTEMA INTEGRAL DE SEGUIMIENTO",
         "r": [
          40.625
         ],
         "theta": [
          144
         ],
         "type": "barpolar",
         "width": [
          20
         ]
        },
        {
         "hoverinfo": "text",
         "marker": {
          "color": "#b18f5f"
         },
         "name": "CHIIKUL",
         "r": [
          39.0625
         ],
         "theta": [
          168
         ],
         "type": "barpolar",
         "width": [
          20
         ]
        },
        {
         "hoverinfo": "text",
         "marker": {
          "color": "#a78a62"
         },
         "name": "SISTEMA DE FOLIOS",
         "r": [
          17.1875
         ],
         "theta": [
          192
         ],
         "type": "barpolar",
         "width": [
          20
         ]
        },
        {
         "hoverinfo": "text",
         "marker": {
          "color": "#9e8664"
         },
         "name": "INTRASAT",
         "r": [
          17.1875
         ],
         "theta": [
          216
         ],
         "type": "barpolar",
         "width": [
          20
         ]
        },
        {
         "hoverinfo": "text",
         "marker": {
          "color": "#958167"
         },
         "name": "APLICATIVO DE RIESGO",
         "r": [
          17.1875
         ],
         "theta": [
          240
         ],
         "type": "barpolar",
         "width": [
          20
         ]
        },
        {
         "hoverinfo": "text",
         "marker": {
          "color": "#8b7d69"
         },
         "name": "PLATAFORMA DE ACREDITACION DE IDENTIFICACION",
         "r": [
          17.1875
         ],
         "theta": [
          264
         ],
         "type": "barpolar",
         "width": [
          20
         ]
        },
        {
         "hoverinfo": "text",
         "marker": {
          "color": "#82786c"
         },
         "name": "CONTROL GESTION",
         "r": [
          15.625
         ],
         "theta": [
          288
         ],
         "type": "barpolar",
         "width": [
          20
         ]
        },
        {
         "hoverinfo": "text",
         "marker": {
          "color": "#78746e"
         },
         "name": "CELESTIA",
         "r": [
          15.625
         ],
         "theta": [
          312
         ],
         "type": "barpolar",
         "width": [
          20
         ]
        },
        {
         "hoverinfo": "text",
         "marker": {
          "color": "#6f6f71"
         },
         "name": "APLICATIVO DE REGISTRO DE E. FIRMA",
         "r": [
          15.625
         ],
         "theta": [
          336
         ],
         "type": "barpolar",
         "width": [
          20
         ]
        },
        {
         "line": {
          "color": "#EEE56E",
          "dash": "dot",
          "width": 1.2
         },
         "mode": "lines",
         "r": [
          100,
          110
         ],
         "showlegend": false,
         "theta": [
          0,
          0
         ],
         "type": "scatterpolar"
        },
        {
         "mode": "text",
         "r": [
          110
         ],
         "text": [
          "MAT [64]"
         ],
         "textfont": {
          "color": "black",
          "size": 12
         },
         "textposition": "middle center",
         "theta": [
          0
         ],
         "type": "scatterpolar"
        },
        {
         "line": {
          "color": "#EEE56E",
          "dash": "dot",
          "width": 1.2
         },
         "mode": "lines",
         "r": [
          95.3125,
          105.3125
         ],
         "showlegend": false,
         "theta": [
          24,
          24
         ],
         "type": "scatterpolar"
        },
        {
         "mode": "text",
         "r": [
          105.3125
         ],
         "text": [
          "CERTISAT [61]"
         ],
         "textfont": {
          "color": "black",
          "size": 12
         },
         "textposition": "middle center",
         "theta": [
          24
         ],
         "type": "scatterpolar"
        },
        {
         "line": {
          "color": "#EEE56E",
          "dash": "dot",
          "width": 1.2
         },
         "mode": "lines",
         "r": [
          56.25,
          66.25
         ],
         "showlegend": false,
         "theta": [
          48,
          48
         ],
         "type": "scatterpolar"
        },
        {
         "mode": "text",
         "r": [
          66.25
         ],
         "text": [
          "VISOR DE E.FIRMA [36]"
         ],
         "textfont": {
          "color": "black",
          "size": 12
         },
         "textposition": "middle center",
         "theta": [
          48
         ],
         "type": "scatterpolar"
        },
        {
         "line": {
          "color": "#EEE56E",
          "dash": "dot",
          "width": 1.2
         },
         "mode": "lines",
         "r": [
          53.125,
          63.125
         ],
         "showlegend": false,
         "theta": [
          72,
          72
         ],
         "type": "scatterpolar"
        },
        {
         "mode": "text",
         "r": [
          63.125
         ],
         "text": [
          "SISTEMA DE TURNOS  [34]"
         ],
         "textfont": {
          "color": "black",
          "size": 12
         },
         "textposition": "middle center",
         "theta": [
          72
         ],
         "type": "scatterpolar"
        },
        {
         "line": {
          "color": "#EEE56E",
          "dash": "dot",
          "width": 1.2
         },
         "mode": "lines",
         "r": [
          50,
          60
         ],
         "showlegend": false,
         "theta": [
          96,
          96
         ],
         "type": "scatterpolar"
        },
        {
         "mode": "text",
         "r": [
          60
         ],
         "text": [
          "APLICATIVO DE REGISTRO  [32]"
         ],
         "textfont": {
          "color": "black",
          "size": 12
         },
         "textposition": "middle center",
         "theta": [
          96
         ],
         "type": "scatterpolar"
        },
        {
         "line": {
          "color": "#EEE56E",
          "dash": "dot",
          "width": 1.2
         },
         "mode": "lines",
         "r": [
          40.625,
          50.625
         ],
         "showlegend": false,
         "theta": [
          120,
          120
         ],
         "type": "scatterpolar"
        },
        {
         "mode": "text",
         "r": [
          50.625
         ],
         "text": [
          "SOLUCIÓN INTEGRAL  [26]"
         ],
         "textfont": {
          "color": "black",
          "size": 12
         },
         "textposition": "middle center",
         "theta": [
          120
         ],
         "type": "scatterpolar"
        },
        {
         "line": {
          "color": "#EEE56E",
          "dash": "dot",
          "width": 1.2
         },
         "mode": "lines",
         "r": [
          40.625,
          55.625
         ],
         "showlegend": false,
         "theta": [
          144,
          144
         ],
         "type": "scatterpolar"
        },
        {
         "mode": "text",
         "r": [
          55.625
         ],
         "text": [
          "SISTEMA INTEGRAL DE SEGUIMIENTO [26]"
         ],
         "textfont": {
          "color": "black",
          "size": 12
         },
         "textposition": "middle center",
         "theta": [
          144
         ],
         "type": "scatterpolar"
        },
        {
         "line": {
          "color": "#EEE56E",
          "dash": "dot",
          "width": 1.2
         },
         "mode": "lines",
         "r": [
          39.0625,
          49.0625
         ],
         "showlegend": false,
         "theta": [
          168,
          168
         ],
         "type": "scatterpolar"
        },
        {
         "mode": "text",
         "r": [
          49.0625
         ],
         "text": [
          "CHIIKUL [25]"
         ],
         "textfont": {
          "color": "black",
          "size": 12
         },
         "textposition": "middle center",
         "theta": [
          168
         ],
         "type": "scatterpolar"
        },
        {
         "line": {
          "color": "#EEE56E",
          "dash": "dot",
          "width": 1.2
         },
         "mode": "lines",
         "r": [
          17.1875,
          27.1875
         ],
         "showlegend": false,
         "theta": [
          192,
          192
         ],
         "type": "scatterpolar"
        },
        {
         "mode": "text",
         "r": [
          27.1875
         ],
         "text": [
          "SISTEMA DE FOLIOS [11]"
         ],
         "textfont": {
          "color": "black",
          "size": 12
         },
         "textposition": "middle center",
         "theta": [
          192
         ],
         "type": "scatterpolar"
        },
        {
         "line": {
          "color": "#EEE56E",
          "dash": "dot",
          "width": 1.2
         },
         "mode": "lines",
         "r": [
          17.1875,
          32.1875
         ],
         "showlegend": false,
         "theta": [
          216,
          216
         ],
         "type": "scatterpolar"
        },
        {
         "mode": "text",
         "r": [
          32.1875
         ],
         "text": [
          "INTRASAT [11]"
         ],
         "textfont": {
          "color": "black",
          "size": 12
         },
         "textposition": "middle center",
         "theta": [
          216
         ],
         "type": "scatterpolar"
        },
        {
         "line": {
          "color": "#EEE56E",
          "dash": "dot",
          "width": 1.2
         },
         "mode": "lines",
         "r": [
          17.1875,
          37.1875
         ],
         "showlegend": false,
         "theta": [
          240,
          240
         ],
         "type": "scatterpolar"
        },
        {
         "mode": "text",
         "r": [
          37.1875
         ],
         "text": [
          "APLICATIVO DE RIESGO [11]"
         ],
         "textfont": {
          "color": "black",
          "size": 12
         },
         "textposition": "middle center",
         "theta": [
          240
         ],
         "type": "scatterpolar"
        },
        {
         "line": {
          "color": "#EEE56E",
          "dash": "dot",
          "width": 1.2
         },
         "mode": "lines",
         "r": [
          17.1875,
          42.1875
         ],
         "showlegend": false,
         "theta": [
          264,
          264
         ],
         "type": "scatterpolar"
        },
        {
         "mode": "text",
         "r": [
          42.1875
         ],
         "text": [
          "PLATAFORMA DE ACREDITACION DE IDENTIFICACION [11]"
         ],
         "textfont": {
          "color": "black",
          "size": 12
         },
         "textposition": "middle center",
         "theta": [
          264
         ],
         "type": "scatterpolar"
        },
        {
         "line": {
          "color": "#EEE56E",
          "dash": "dot",
          "width": 1.2
         },
         "mode": "lines",
         "r": [
          15.625,
          25.625
         ],
         "showlegend": false,
         "theta": [
          288,
          288
         ],
         "type": "scatterpolar"
        },
        {
         "mode": "text",
         "r": [
          25.625
         ],
         "text": [
          "CONTROL GESTION [10]"
         ],
         "textfont": {
          "color": "black",
          "size": 12
         },
         "textposition": "middle center",
         "theta": [
          288
         ],
         "type": "scatterpolar"
        },
        {
         "line": {
          "color": "#EEE56E",
          "dash": "dot",
          "width": 1.2
         },
         "mode": "lines",
         "r": [
          15.625,
          30.625
         ],
         "showlegend": false,
         "theta": [
          312,
          312
         ],
         "type": "scatterpolar"
        },
        {
         "mode": "text",
         "r": [
          30.625
         ],
         "text": [
          "CELESTIA [10]"
         ],
         "textfont": {
          "color": "black",
          "size": 12
         },
         "textposition": "middle center",
         "theta": [
          312
         ],
         "type": "scatterpolar"
        },
        {
         "line": {
          "color": "#EEE56E",
          "dash": "dot",
          "width": 1.2
         },
         "mode": "lines",
         "r": [
          15.625,
          35.625
         ],
         "showlegend": false,
         "theta": [
          336,
          336
         ],
         "type": "scatterpolar"
        },
        {
         "mode": "text",
         "r": [
          35.625
         ],
         "text": [
          "APLICATIVO DE REGISTRO DE E. FIRMA [10]"
         ],
         "textfont": {
          "color": "black",
          "size": 12
         },
         "textposition": "middle center",
         "theta": [
          336
         ],
         "type": "scatterpolar"
        }
       ],
       "layout": {
        "height": 1000,
        "margin": {
         "b": 50,
         "l": 30,
         "r": 30,
         "t": 50
        },
        "polar": {
         "angularaxis": {
          "direction": "counterclockwise",
          "gridcolor": "rgba(0, 0, 0, 0)",
          "rotation": 19.625820803807734,
          "showline": false,
          "showticklabels": false,
          "ticks": "",
          "ticktext": [],
          "tickvals": [],
          "type": "linear",
          "visible": false
         },
         "bgcolor": "white",
         "radialaxis": {
          "autorange": true,
          "gridcolor": "rgba(0, 0, 0, 0)",
          "layer": "below traces",
          "range": [
           0,
           110
          ],
          "showline": false,
          "showticklabels": false,
          "ticks": "",
          "type": "linear",
          "visible": false
         }
        },
        "showlegend": false,
        "template": {
         "data": {
          "bar": [
           {
            "error_x": {
             "color": "#2a3f5f"
            },
            "error_y": {
             "color": "#2a3f5f"
            },
            "marker": {
             "line": {
              "color": "white",
              "width": 0.5
             },
             "pattern": {
              "fillmode": "overlay",
              "size": 10,
              "solidity": 0.2
             }
            },
            "type": "bar"
           }
          ],
          "barpolar": [
           {
            "marker": {
             "line": {
              "color": "white",
              "width": 0.5
             },
             "pattern": {
              "fillmode": "overlay",
              "size": 10,
              "solidity": 0.2
             }
            },
            "type": "barpolar"
           }
          ],
          "carpet": [
           {
            "aaxis": {
             "endlinecolor": "#2a3f5f",
             "gridcolor": "#C8D4E3",
             "linecolor": "#C8D4E3",
             "minorgridcolor": "#C8D4E3",
             "startlinecolor": "#2a3f5f"
            },
            "baxis": {
             "endlinecolor": "#2a3f5f",
             "gridcolor": "#C8D4E3",
             "linecolor": "#C8D4E3",
             "minorgridcolor": "#C8D4E3",
             "startlinecolor": "#2a3f5f"
            },
            "type": "carpet"
           }
          ],
          "choropleth": [
           {
            "colorbar": {
             "outlinewidth": 0,
             "ticks": ""
            },
            "type": "choropleth"
           }
          ],
          "contour": [
           {
            "colorbar": {
             "outlinewidth": 0,
             "ticks": ""
            },
            "colorscale": [
             [
              0,
              "#0d0887"
             ],
             [
              0.1111111111111111,
              "#46039f"
             ],
             [
              0.2222222222222222,
              "#7201a8"
             ],
             [
              0.3333333333333333,
              "#9c179e"
             ],
             [
              0.4444444444444444,
              "#bd3786"
             ],
             [
              0.5555555555555556,
              "#d8576b"
             ],
             [
              0.6666666666666666,
              "#ed7953"
             ],
             [
              0.7777777777777778,
              "#fb9f3a"
             ],
             [
              0.8888888888888888,
              "#fdca26"
             ],
             [
              1,
              "#f0f921"
             ]
            ],
            "type": "contour"
           }
          ],
          "contourcarpet": [
           {
            "colorbar": {
             "outlinewidth": 0,
             "ticks": ""
            },
            "type": "contourcarpet"
           }
          ],
          "heatmap": [
           {
            "colorbar": {
             "outlinewidth": 0,
             "ticks": ""
            },
            "colorscale": [
             [
              0,
              "#0d0887"
             ],
             [
              0.1111111111111111,
              "#46039f"
             ],
             [
              0.2222222222222222,
              "#7201a8"
             ],
             [
              0.3333333333333333,
              "#9c179e"
             ],
             [
              0.4444444444444444,
              "#bd3786"
             ],
             [
              0.5555555555555556,
              "#d8576b"
             ],
             [
              0.6666666666666666,
              "#ed7953"
             ],
             [
              0.7777777777777778,
              "#fb9f3a"
             ],
             [
              0.8888888888888888,
              "#fdca26"
             ],
             [
              1,
              "#f0f921"
             ]
            ],
            "type": "heatmap"
           }
          ],
          "heatmapgl": [
           {
            "colorbar": {
             "outlinewidth": 0,
             "ticks": ""
            },
            "colorscale": [
             [
              0,
              "#0d0887"
             ],
             [
              0.1111111111111111,
              "#46039f"
             ],
             [
              0.2222222222222222,
              "#7201a8"
             ],
             [
              0.3333333333333333,
              "#9c179e"
             ],
             [
              0.4444444444444444,
              "#bd3786"
             ],
             [
              0.5555555555555556,
              "#d8576b"
             ],
             [
              0.6666666666666666,
              "#ed7953"
             ],
             [
              0.7777777777777778,
              "#fb9f3a"
             ],
             [
              0.8888888888888888,
              "#fdca26"
             ],
             [
              1,
              "#f0f921"
             ]
            ],
            "type": "heatmapgl"
           }
          ],
          "histogram": [
           {
            "marker": {
             "pattern": {
              "fillmode": "overlay",
              "size": 10,
              "solidity": 0.2
             }
            },
            "type": "histogram"
           }
          ],
          "histogram2d": [
           {
            "colorbar": {
             "outlinewidth": 0,
             "ticks": ""
            },
            "colorscale": [
             [
              0,
              "#0d0887"
             ],
             [
              0.1111111111111111,
              "#46039f"
             ],
             [
              0.2222222222222222,
              "#7201a8"
             ],
             [
              0.3333333333333333,
              "#9c179e"
             ],
             [
              0.4444444444444444,
              "#bd3786"
             ],
             [
              0.5555555555555556,
              "#d8576b"
             ],
             [
              0.6666666666666666,
              "#ed7953"
             ],
             [
              0.7777777777777778,
              "#fb9f3a"
             ],
             [
              0.8888888888888888,
              "#fdca26"
             ],
             [
              1,
              "#f0f921"
             ]
            ],
            "type": "histogram2d"
           }
          ],
          "histogram2dcontour": [
           {
            "colorbar": {
             "outlinewidth": 0,
             "ticks": ""
            },
            "colorscale": [
             [
              0,
              "#0d0887"
             ],
             [
              0.1111111111111111,
              "#46039f"
             ],
             [
              0.2222222222222222,
              "#7201a8"
             ],
             [
              0.3333333333333333,
              "#9c179e"
             ],
             [
              0.4444444444444444,
              "#bd3786"
             ],
             [
              0.5555555555555556,
              "#d8576b"
             ],
             [
              0.6666666666666666,
              "#ed7953"
             ],
             [
              0.7777777777777778,
              "#fb9f3a"
             ],
             [
              0.8888888888888888,
              "#fdca26"
             ],
             [
              1,
              "#f0f921"
             ]
            ],
            "type": "histogram2dcontour"
           }
          ],
          "mesh3d": [
           {
            "colorbar": {
             "outlinewidth": 0,
             "ticks": ""
            },
            "type": "mesh3d"
           }
          ],
          "parcoords": [
           {
            "line": {
             "colorbar": {
              "outlinewidth": 0,
              "ticks": ""
             }
            },
            "type": "parcoords"
           }
          ],
          "pie": [
           {
            "automargin": true,
            "type": "pie"
           }
          ],
          "scatter": [
           {
            "fillpattern": {
             "fillmode": "overlay",
             "size": 10,
             "solidity": 0.2
            },
            "type": "scatter"
           }
          ],
          "scatter3d": [
           {
            "line": {
             "colorbar": {
              "outlinewidth": 0,
              "ticks": ""
             }
            },
            "marker": {
             "colorbar": {
              "outlinewidth": 0,
              "ticks": ""
             }
            },
            "type": "scatter3d"
           }
          ],
          "scattercarpet": [
           {
            "marker": {
             "colorbar": {
              "outlinewidth": 0,
              "ticks": ""
             }
            },
            "type": "scattercarpet"
           }
          ],
          "scattergeo": [
           {
            "marker": {
             "colorbar": {
              "outlinewidth": 0,
              "ticks": ""
             }
            },
            "type": "scattergeo"
           }
          ],
          "scattergl": [
           {
            "marker": {
             "colorbar": {
              "outlinewidth": 0,
              "ticks": ""
             }
            },
            "type": "scattergl"
           }
          ],
          "scattermapbox": [
           {
            "marker": {
             "colorbar": {
              "outlinewidth": 0,
              "ticks": ""
             }
            },
            "type": "scattermapbox"
           }
          ],
          "scatterpolar": [
           {
            "marker": {
             "colorbar": {
              "outlinewidth": 0,
              "ticks": ""
             }
            },
            "type": "scatterpolar"
           }
          ],
          "scatterpolargl": [
           {
            "marker": {
             "colorbar": {
              "outlinewidth": 0,
              "ticks": ""
             }
            },
            "type": "scatterpolargl"
           }
          ],
          "scatterternary": [
           {
            "marker": {
             "colorbar": {
              "outlinewidth": 0,
              "ticks": ""
             }
            },
            "type": "scatterternary"
           }
          ],
          "surface": [
           {
            "colorbar": {
             "outlinewidth": 0,
             "ticks": ""
            },
            "colorscale": [
             [
              0,
              "#0d0887"
             ],
             [
              0.1111111111111111,
              "#46039f"
             ],
             [
              0.2222222222222222,
              "#7201a8"
             ],
             [
              0.3333333333333333,
              "#9c179e"
             ],
             [
              0.4444444444444444,
              "#bd3786"
             ],
             [
              0.5555555555555556,
              "#d8576b"
             ],
             [
              0.6666666666666666,
              "#ed7953"
             ],
             [
              0.7777777777777778,
              "#fb9f3a"
             ],
             [
              0.8888888888888888,
              "#fdca26"
             ],
             [
              1,
              "#f0f921"
             ]
            ],
            "type": "surface"
           }
          ],
          "table": [
           {
            "cells": {
             "fill": {
              "color": "#EBF0F8"
             },
             "line": {
              "color": "white"
             }
            },
            "header": {
             "fill": {
              "color": "#C8D4E3"
             },
             "line": {
              "color": "white"
             }
            },
            "type": "table"
           }
          ]
         },
         "layout": {
          "annotationdefaults": {
           "arrowcolor": "#2a3f5f",
           "arrowhead": 0,
           "arrowwidth": 1
          },
          "autotypenumbers": "strict",
          "coloraxis": {
           "colorbar": {
            "outlinewidth": 0,
            "ticks": ""
           }
          },
          "colorscale": {
           "diverging": [
            [
             0,
             "#8e0152"
            ],
            [
             0.1,
             "#c51b7d"
            ],
            [
             0.2,
             "#de77ae"
            ],
            [
             0.3,
             "#f1b6da"
            ],
            [
             0.4,
             "#fde0ef"
            ],
            [
             0.5,
             "#f7f7f7"
            ],
            [
             0.6,
             "#e6f5d0"
            ],
            [
             0.7,
             "#b8e186"
            ],
            [
             0.8,
             "#7fbc41"
            ],
            [
             0.9,
             "#4d9221"
            ],
            [
             1,
             "#276419"
            ]
           ],
           "sequential": [
            [
             0,
             "#0d0887"
            ],
            [
             0.1111111111111111,
             "#46039f"
            ],
            [
             0.2222222222222222,
             "#7201a8"
            ],
            [
             0.3333333333333333,
             "#9c179e"
            ],
            [
             0.4444444444444444,
             "#bd3786"
            ],
            [
             0.5555555555555556,
             "#d8576b"
            ],
            [
             0.6666666666666666,
             "#ed7953"
            ],
            [
             0.7777777777777778,
             "#fb9f3a"
            ],
            [
             0.8888888888888888,
             "#fdca26"
            ],
            [
             1,
             "#f0f921"
            ]
           ],
           "sequentialminus": [
            [
             0,
             "#0d0887"
            ],
            [
             0.1111111111111111,
             "#46039f"
            ],
            [
             0.2222222222222222,
             "#7201a8"
            ],
            [
             0.3333333333333333,
             "#9c179e"
            ],
            [
             0.4444444444444444,
             "#bd3786"
            ],
            [
             0.5555555555555556,
             "#d8576b"
            ],
            [
             0.6666666666666666,
             "#ed7953"
            ],
            [
             0.7777777777777778,
             "#fb9f3a"
            ],
            [
             0.8888888888888888,
             "#fdca26"
            ],
            [
             1,
             "#f0f921"
            ]
           ]
          },
          "colorway": [
           "#636efa",
           "#EF553B",
           "#00cc96",
           "#ab63fa",
           "#FFA15A",
           "#19d3f3",
           "#FF6692",
           "#B6E880",
           "#FF97FF",
           "#FECB52"
          ],
          "font": {
           "color": "#2a3f5f"
          },
          "geo": {
           "bgcolor": "white",
           "lakecolor": "white",
           "landcolor": "white",
           "showlakes": true,
           "showland": true,
           "subunitcolor": "#C8D4E3"
          },
          "hoverlabel": {
           "align": "left"
          },
          "hovermode": "closest",
          "mapbox": {
           "style": "light"
          },
          "paper_bgcolor": "white",
          "plot_bgcolor": "white",
          "polar": {
           "angularaxis": {
            "gridcolor": "#EBF0F8",
            "linecolor": "#EBF0F8",
            "ticks": ""
           },
           "bgcolor": "white",
           "radialaxis": {
            "gridcolor": "#EBF0F8",
            "linecolor": "#EBF0F8",
            "ticks": ""
           }
          },
          "scene": {
           "xaxis": {
            "backgroundcolor": "white",
            "gridcolor": "#DFE8F3",
            "gridwidth": 2,
            "linecolor": "#EBF0F8",
            "showbackground": true,
            "ticks": "",
            "zerolinecolor": "#EBF0F8"
           },
           "yaxis": {
            "backgroundcolor": "white",
            "gridcolor": "#DFE8F3",
            "gridwidth": 2,
            "linecolor": "#EBF0F8",
            "showbackground": true,
            "ticks": "",
            "zerolinecolor": "#EBF0F8"
           },
           "zaxis": {
            "backgroundcolor": "white",
            "gridcolor": "#DFE8F3",
            "gridwidth": 2,
            "linecolor": "#EBF0F8",
            "showbackground": true,
            "ticks": "",
            "zerolinecolor": "#EBF0F8"
           }
          },
          "shapedefaults": {
           "line": {
            "color": "#2a3f5f"
           }
          },
          "ternary": {
           "aaxis": {
            "gridcolor": "#DFE8F3",
            "linecolor": "#A2B1C6",
            "ticks": ""
           },
           "baxis": {
            "gridcolor": "#DFE8F3",
            "linecolor": "#A2B1C6",
            "ticks": ""
           },
           "bgcolor": "white",
           "caxis": {
            "gridcolor": "#DFE8F3",
            "linecolor": "#A2B1C6",
            "ticks": ""
           }
          },
          "title": {
           "x": 0.05
          },
          "xaxis": {
           "automargin": true,
           "gridcolor": "#EBF0F8",
           "linecolor": "#EBF0F8",
           "ticks": "",
           "title": {
            "standoff": 15
           },
           "zerolinecolor": "#EBF0F8",
           "zerolinewidth": 2
          },
          "yaxis": {
           "automargin": true,
           "gridcolor": "#EBF0F8",
           "linecolor": "#EBF0F8",
           "ticks": "",
           "title": {
            "standoff": 15
           },
           "zerolinecolor": "#EBF0F8",
           "zerolinewidth": 2
          }
         }
        },
        "width": 1000
       }
      },
      "image/png": "[encoded data removed]",
      "text/html": [
       "<div>                            <div id=\"97e7c64b-872a-4886-a1d8-f5295e4ff370\" class=\"plotly-graph-div\" style=\"height:1000px; width:1000px;\"></div>            <script type=\"text/javascript\">                require([\"plotly\"], function(Plotly) {                    window.PLOTLYENV=window.PLOTLYENV || {};                                    if (document.getElementById(\"97e7c64b-872a-4886-a1d8-f5295e4ff370\")) {                    Plotly.newPlot(                        \"97e7c64b-872a-4886-a1d8-f5295e4ff370\",                        [{\"hoverinfo\":\"text\",\"marker\":{\"color\":\"#630d32\"},\"name\":\"MAT\",\"r\":[100.0],\"theta\":[0.0],\"width\":[20],\"type\":\"barpolar\"},{\"hoverinfo\":\"text\",\"marker\":{\"color\":\"#6e1f38\"},\"name\":\"CERTISAT\",\"r\":[95.3125],\"theta\":[24.0],\"width\":[20],\"type\":\"barpolar\"},{\"hoverinfo\":\"text\",\"marker\":{\"color\":\"#79323f\"},\"name\":\"VISOR DE E.FIRMA\",\"r\":[56.25],\"theta\":[48.0],\"width\":[20],\"type\":\"barpolar\"},{\"hoverinfo\":\"text\",\"marker\":{\"color\":\"#844445\"},\"name\":\"SISTEMA DE TURNOS \",\"r\":[53.125],\"theta\":[72.0],\"width\":[20],\"type\":\"barpolar\"},{\"hoverinfo\":\"text\",\"marker\":{\"color\":\"#90574c\"},\"name\":\"APLICATIVO DE REGISTRO \",\"r\":[50.0],\"theta\":[96.0],\"width\":[20],\"type\":\"barpolar\"},{\"hoverinfo\":\"text\",\"marker\":{\"color\":\"#9b6a52\"},\"name\":\"SOLUCI\\u00d3N INTEGRAL \",\"r\":[40.625],\"theta\":[120.0],\"width\":[20],\"type\":\"barpolar\"},{\"hoverinfo\":\"text\",\"marker\":{\"color\":\"#a67c58\"},\"name\":\"SISTEMA INTEGRAL DE SEGUIMIENTO\",\"r\":[40.625],\"theta\":[144.0],\"width\":[20],\"type\":\"barpolar\"},{\"hoverinfo\":\"text\",\"marker\":{\"color\":\"#b18f5f\"},\"name\":\"CHIIKUL\",\"r\":[39.0625],\"theta\":[168.0],\"width\":[20],\"type\":\"barpolar\"},{\"hoverinfo\":\"text\",\"marker\":{\"color\":\"#a78a62\"},\"name\":\"SISTEMA DE FOLIOS\",\"r\":[17.1875],\"theta\":[192.0],\"width\":[20],\"type\":\"barpolar\"},{\"hoverinfo\":\"text\",\"marker\":{\"color\":\"#9e8664\"},\"name\":\"INTRASAT\",\"r\":[17.1875],\"theta\":[216.0],\"width\":[20],\"type\":\"barpolar\"},{\"hoverinfo\":\"text\",\"marker\":{\"color\":\"#958167\"},\"name\":\"APLICATIVO DE RIESGO\",\"r\":[17.1875],\"theta\":[240.0],\"width\":[20],\"type\":\"barpolar\"},{\"hoverinfo\":\"text\",\"marker\":{\"color\":\"#8b7d69\"},\"name\":\"PLATAFORMA DE ACREDITACION DE IDENTIFICACION\",\"r\":[17.1875],\"theta\":[264.0],\"width\":[20],\"type\":\"barpolar\"},{\"hoverinfo\":\"text\",\"marker\":{\"color\":\"#82786c\"},\"name\":\"CONTROL GESTION\",\"r\":[15.625],\"theta\":[288.0],\"width\":[20],\"type\":\"barpolar\"},{\"hoverinfo\":\"text\",\"marker\":{\"color\":\"#78746e\"},\"name\":\"CELESTIA\",\"r\":[15.625],\"theta\":[312.0],\"width\":[20],\"type\":\"barpolar\"},{\"hoverinfo\":\"text\",\"marker\":{\"color\":\"#6f6f71\"},\"name\":\"APLICATIVO DE REGISTRO DE E. FIRMA\",\"r\":[15.625],\"theta\":[336.0],\"width\":[20],\"type\":\"barpolar\"},{\"line\":{\"color\":\"#EEE56E\",\"dash\":\"dot\",\"width\":1.2},\"mode\":\"lines\",\"r\":[100.0,110.0],\"showlegend\":false,\"theta\":[0.0,0.0],\"type\":\"scatterpolar\"},{\"mode\":\"text\",\"r\":[110.0],\"text\":[\"MAT [64]\"],\"textfont\":{\"color\":\"black\",\"size\":12},\"textposition\":\"middle center\",\"theta\":[0.0],\"type\":\"scatterpolar\"},{\"line\":{\"color\":\"#EEE56E\",\"dash\":\"dot\",\"width\":1.2},\"mode\":\"lines\",\"r\":[95.3125,105.3125],\"showlegend\":false,\"theta\":[24.0,24.0],\"type\":\"scatterpolar\"},{\"mode\":\"text\",\"r\":[105.3125],\"text\":[\"CERTISAT [61]\"],\"textfont\":{\"color\":\"black\",\"size\":12},\"textposition\":\"middle center\",\"theta\":[24.0],\"type\":\"scatterpolar\"},{\"line\":{\"color\":\"#EEE56E\",\"dash\":\"dot\",\"width\":1.2},\"mode\":\"lines\",\"r\":[56.25,66.25],\"showlegend\":false,\"theta\":[48.0,48.0],\"type\":\"scatterpolar\"},{\"mode\":\"text\",\"r\":[66.25],\"text\":[\"VISOR DE E.FIRMA [36]\"],\"textfont\":{\"color\":\"black\",\"size\":12},\"textposition\":\"middle center\",\"theta\":[48.0],\"type\":\"scatterpolar\"},{\"line\":{\"color\":\"#EEE56E\",\"dash\":\"dot\",\"width\":1.2},\"mode\":\"lines\",\"r\":[53.125,63.125],\"showlegend\":false,\"theta\":[72.0,72.0],\"type\":\"scatterpolar\"},{\"mode\":\"text\",\"r\":[63.125],\"text\":[\"SISTEMA DE TURNOS  [34]\"],\"textfont\":{\"color\":\"black\",\"size\":12},\"textposition\":\"middle center\",\"theta\":[72.0],\"type\":\"scatterpolar\"},{\"line\":{\"color\":\"#EEE56E\",\"dash\":\"dot\",\"width\":1.2},\"mode\":\"lines\",\"r\":[50.0,60.0],\"showlegend\":false,\"theta\":[96.0,96.0],\"type\":\"scatterpolar\"},{\"mode\":\"text\",\"r\":[60.0],\"text\":[\"APLICATIVO DE REGISTRO  [32]\"],\"textfont\":{\"color\":\"black\",\"size\":12},\"textposition\":\"middle center\",\"theta\":[96.0],\"type\":\"scatterpolar\"},{\"line\":{\"color\":\"#EEE56E\",\"dash\":\"dot\",\"width\":1.2},\"mode\":\"lines\",\"r\":[40.625,50.625],\"showlegend\":false,\"theta\":[120.0,120.0],\"type\":\"scatterpolar\"},{\"mode\":\"text\",\"r\":[50.625],\"text\":[\"SOLUCI\\u00d3N INTEGRAL  [26]\"],\"textfont\":{\"color\":\"black\",\"size\":12},\"textposition\":\"middle center\",\"theta\":[120.0],\"type\":\"scatterpolar\"},{\"line\":{\"color\":\"#EEE56E\",\"dash\":\"dot\",\"width\":1.2},\"mode\":\"lines\",\"r\":[40.625,55.625],\"showlegend\":false,\"theta\":[144.0,144.0],\"type\":\"scatterpolar\"},{\"mode\":\"text\",\"r\":[55.625],\"text\":[\"SISTEMA INTEGRAL DE SEGUIMIENTO [26]\"],\"textfont\":{\"color\":\"black\",\"size\":12},\"textposition\":\"middle center\",\"theta\":[144.0],\"type\":\"scatterpolar\"},{\"line\":{\"color\":\"#EEE56E\",\"dash\":\"dot\",\"width\":1.2},\"mode\":\"lines\",\"r\":[39.0625,49.0625],\"showlegend\":false,\"theta\":[168.0,168.0],\"type\":\"scatterpolar\"},{\"mode\":\"text\",\"r\":[49.0625],\"text\":[\"CHIIKUL [25]\"],\"textfont\":{\"color\":\"black\",\"size\":12},\"textposition\":\"middle center\",\"theta\":[168.0],\"type\":\"scatterpolar\"},{\"line\":{\"color\":\"#EEE56E\",\"dash\":\"dot\",\"width\":1.2},\"mode\":\"lines\",\"r\":[17.1875,27.1875],\"showlegend\":false,\"theta\":[192.0,192.0],\"type\":\"scatterpolar\"},{\"mode\":\"text\",\"r\":[27.1875],\"text\":[\"SISTEMA DE FOLIOS [11]\"],\"textfont\":{\"color\":\"black\",\"size\":12},\"textposition\":\"middle center\",\"theta\":[192.0],\"type\":\"scatterpolar\"},{\"line\":{\"color\":\"#EEE56E\",\"dash\":\"dot\",\"width\":1.2},\"mode\":\"lines\",\"r\":[17.1875,32.1875],\"showlegend\":false,\"theta\":[216.0,216.0],\"type\":\"scatterpolar\"},{\"mode\":\"text\",\"r\":[32.1875],\"text\":[\"INTRASAT [11]\"],\"textfont\":{\"color\":\"black\",\"size\":12},\"textposition\":\"middle center\",\"theta\":[216.0],\"type\":\"scatterpolar\"},{\"line\":{\"color\":\"#EEE56E\",\"dash\":\"dot\",\"width\":1.2},\"mode\":\"lines\",\"r\":[17.1875,37.1875],\"showlegend\":false,\"theta\":[240.0,240.0],\"type\":\"scatterpolar\"},{\"mode\":\"text\",\"r\":[37.1875],\"text\":[\"APLICATIVO DE RIESGO [11]\"],\"textfont\":{\"color\":\"black\",\"size\":12},\"textposition\":\"middle center\",\"theta\":[240.0],\"type\":\"scatterpolar\"},{\"line\":{\"color\":\"#EEE56E\",\"dash\":\"dot\",\"width\":1.2},\"mode\":\"lines\",\"r\":[17.1875,42.1875],\"showlegend\":false,\"theta\":[264.0,264.0],\"type\":\"scatterpolar\"},{\"mode\":\"text\",\"r\":[42.1875],\"text\":[\"PLATAFORMA DE ACREDITACION DE IDENTIFICACION [11]\"],\"textfont\":{\"color\":\"black\",\"size\":12},\"textposition\":\"middle center\",\"theta\":[264.0],\"type\":\"scatterpolar\"},{\"line\":{\"color\":\"#EEE56E\",\"dash\":\"dot\",\"width\":1.2},\"mode\":\"lines\",\"r\":[15.625,25.625],\"showlegend\":false,\"theta\":[288.0,288.0],\"type\":\"scatterpolar\"},{\"mode\":\"text\",\"r\":[25.625],\"text\":[\"CONTROL GESTION [10]\"],\"textfont\":{\"color\":\"black\",\"size\":12},\"textposition\":\"middle center\",\"theta\":[288.0],\"type\":\"scatterpolar\"},{\"line\":{\"color\":\"#EEE56E\",\"dash\":\"dot\",\"width\":1.2},\"mode\":\"lines\",\"r\":[15.625,30.625],\"showlegend\":false,\"theta\":[312.0,312.0],\"type\":\"scatterpolar\"},{\"mode\":\"text\",\"r\":[30.625],\"text\":[\"CELESTIA [10]\"],\"textfont\":{\"color\":\"black\",\"size\":12},\"textposition\":\"middle center\",\"theta\":[312.0],\"type\":\"scatterpolar\"},{\"line\":{\"color\":\"#EEE56E\",\"dash\":\"dot\",\"width\":1.2},\"mode\":\"lines\",\"r\":[15.625,35.625],\"showlegend\":false,\"theta\":[336.0,336.0],\"type\":\"scatterpolar\"},{\"mode\":\"text\",\"r\":[35.625],\"text\":[\"APLICATIVO DE REGISTRO DE E. FIRMA [10]\"],\"textfont\":{\"color\":\"black\",\"size\":12},\"textposition\":\"middle center\",\"theta\":[336.0],\"type\":\"scatterpolar\"}],                        {\"template\":{\"data\":{\"barpolar\":[{\"marker\":{\"line\":{\"color\":\"white\",\"width\":0.5},\"pattern\":{\"fillmode\":\"overlay\",\"size\":10,\"solidity\":0.2}},\"type\":\"barpolar\"}],\"bar\":[{\"error_x\":{\"color\":\"#2a3f5f\"},\"error_y\":{\"color\":\"#2a3f5f\"},\"marker\":{\"line\":{\"color\":\"white\",\"width\":0.5},\"pattern\":{\"fillmode\":\"overlay\",\"size\":10,\"solidity\":0.2}},\"type\":\"bar\"}],\"carpet\":[{\"aaxis\":{\"endlinecolor\":\"#2a3f5f\",\"gridcolor\":\"#C8D4E3\",\"linecolor\":\"#C8D4E3\",\"minorgridcolor\":\"#C8D4E3\",\"startlinecolor\":\"#2a3f5f\"},\"baxis\":{\"endlinecolor\":\"#2a3f5f\",\"gridcolor\":\"#C8D4E3\",\"linecolor\":\"#C8D4E3\",\"minorgridcolor\":\"#C8D4E3\",\"startlinecolor\":\"#2a3f5f\"},\"type\":\"carpet\"}],\"choropleth\":[{\"colorbar\":{\"outlinewidth\":0,\"ticks\":\"\"},\"type\":\"choropleth\"}],\"contourcarpet\":[{\"colorbar\":{\"outlinewidth\":0,\"ticks\":\"\"},\"type\":\"contourcarpet\"}],\"contour\":[{\"colorbar\":{\"outlinewidth\":0,\"ticks\":\"\"},\"colorscale\":[[0.0,\"#0d0887\"],[0.1111111111111111,\"#46039f\"],[0.2222222222222222,\"#7201a8\"],[0.3333333333333333,\"#9c179e\"],[0.4444444444444444,\"#bd3786\"],[0.5555555555555556,\"#d8576b\"],[0.6666666666666666,\"#ed7953\"],[0.7777777777777778,\"#fb9f3a\"],[0.8888888888888888,\"#fdca26\"],[1.0,\"#f0f921\"]],\"type\":\"contour\"}],\"heatmapgl\":[{\"colorbar\":{\"outlinewidth\":0,\"ticks\":\"\"},\"colorscale\":[[0.0,\"#0d0887\"],[0.1111111111111111,\"#46039f\"],[0.2222222222222222,\"#7201a8\"],[0.3333333333333333,\"#9c179e\"],[0.4444444444444444,\"#bd3786\"],[0.5555555555555556,\"#d8576b\"],[0.6666666666666666,\"#ed7953\"],[0.7777777777777778,\"#fb9f3a\"],[0.8888888888888888,\"#fdca26\"],[1.0,\"#f0f921\"]],\"type\":\"heatmapgl\"}],\"heatmap\":[{\"colorbar\":{\"outlinewidth\":0,\"ticks\":\"\"},\"colorscale\":[[0.0,\"#0d0887\"],[0.1111111111111111,\"#46039f\"],[0.2222222222222222,\"#7201a8\"],[0.3333333333333333,\"#9c179e\"],[0.4444444444444444,\"#bd3786\"],[0.5555555555555556,\"#d8576b\"],[0.6666666666666666,\"#ed7953\"],[0.7777777777777778,\"#fb9f3a\"],[0.8888888888888888,\"#fdca26\"],[1.0,\"#f0f921\"]],\"type\":\"heatmap\"}],\"histogram2dcontour\":[{\"colorbar\":{\"outlinewidth\":0,\"ticks\":\"\"},\"colorscale\":[[0.0,\"#0d0887\"],[0.1111111111111111,\"#46039f\"],[0.2222222222222222,\"#7201a8\"],[0.3333333333333333,\"#9c179e\"],[0.4444444444444444,\"#bd3786\"],[0.5555555555555556,\"#d8576b\"],[0.6666666666666666,\"#ed7953\"],[0.7777777777777778,\"#fb9f3a\"],[0.8888888888888888,\"#fdca26\"],[1.0,\"#f0f921\"]],\"type\":\"histogram2dcontour\"}],\"histogram2d\":[{\"colorbar\":{\"outlinewidth\":0,\"ticks\":\"\"},\"colorscale\":[[0.0,\"#0d0887\"],[0.1111111111111111,\"#46039f\"],[0.2222222222222222,\"#7201a8\"],[0.3333333333333333,\"#9c179e\"],[0.4444444444444444,\"#bd3786\"],[0.5555555555555556,\"#d8576b\"],[0.6666666666666666,\"#ed7953\"],[0.7777777777777778,\"#fb9f3a\"],[0.8888888888888888,\"#fdca26\"],[1.0,\"#f0f921\"]],\"type\":\"histogram2d\"}],\"histogram\":[{\"marker\":{\"pattern\":{\"fillmode\":\"overlay\",\"size\":10,\"solidity\":0.2}},\"type\":\"histogram\"}],\"mesh3d\":[{\"colorbar\":{\"outlinewidth\":0,\"ticks\":\"\"},\"type\":\"mesh3d\"}],\"parcoords\":[{\"line\":{\"colorbar\":{\"outlinewidth\":0,\"ticks\":\"\"}},\"type\":\"parcoords\"}],\"pie\":[{\"automargin\":true,\"type\":\"pie\"}],\"scatter3d\":[{\"line\":{\"colorbar\":{\"outlinewidth\":0,\"ticks\":\"\"}},\"marker\":{\"colorbar\":{\"outlinewidth\":0,\"ticks\":\"\"}},\"type\":\"scatter3d\"}],\"scattercarpet\":[{\"marker\":{\"colorbar\":{\"outlinewidth\":0,\"ticks\":\"\"}},\"type\":\"scattercarpet\"}],\"scattergeo\":[{\"marker\":{\"colorbar\":{\"outlinewidth\":0,\"ticks\":\"\"}},\"type\":\"scattergeo\"}],\"scattergl\":[{\"marker\":{\"colorbar\":{\"outlinewidth\":0,\"ticks\":\"\"}},\"type\":\"scattergl\"}],\"scattermapbox\":[{\"marker\":{\"colorbar\":{\"outlinewidth\":0,\"ticks\":\"\"}},\"type\":\"scattermapbox\"}],\"scatterpolargl\":[{\"marker\":{\"colorbar\":{\"outlinewidth\":0,\"ticks\":\"\"}},\"type\":\"scatterpolargl\"}],\"scatterpolar\":[{\"marker\":{\"colorbar\":{\"outlinewidth\":0,\"ticks\":\"\"}},\"type\":\"scatterpolar\"}],\"scatter\":[{\"fillpattern\":{\"fillmode\":\"overlay\",\"size\":10,\"solidity\":0.2},\"type\":\"scatter\"}],\"scatterternary\":[{\"marker\":{\"colorbar\":{\"outlinewidth\":0,\"ticks\":\"\"}},\"type\":\"scatterternary\"}],\"surface\":[{\"colorbar\":{\"outlinewidth\":0,\"ticks\":\"\"},\"colorscale\":[[0.0,\"#0d0887\"],[0.1111111111111111,\"#46039f\"],[0.2222222222222222,\"#7201a8\"],[0.3333333333333333,\"#9c179e\"],[0.4444444444444444,\"#bd3786\"],[0.5555555555555556,\"#d8576b\"],[0.6666666666666666,\"#ed7953\"],[0.7777777777777778,\"#fb9f3a\"],[0.8888888888888888,\"#fdca26\"],[1.0,\"#f0f921\"]],\"type\":\"surface\"}],\"table\":[{\"cells\":{\"fill\":{\"color\":\"#EBF0F8\"},\"line\":{\"color\":\"white\"}},\"header\":{\"fill\":{\"color\":\"#C8D4E3\"},\"line\":{\"color\":\"white\"}},\"type\":\"table\"}]},\"layout\":{\"annotationdefaults\":{\"arrowcolor\":\"#2a3f5f\",\"arrowhead\":0,\"arrowwidth\":1},\"autotypenumbers\":\"strict\",\"coloraxis\":{\"colorbar\":{\"outlinewidth\":0,\"ticks\":\"\"}},\"colorscale\":{\"diverging\":[[0,\"#8e0152\"],[0.1,\"#c51b7d\"],[0.2,\"#de77ae\"],[0.3,\"#f1b6da\"],[0.4,\"#fde0ef\"],[0.5,\"#f7f7f7\"],[0.6,\"#e6f5d0\"],[0.7,\"#b8e186\"],[0.8,\"#7fbc41\"],[0.9,\"#4d9221\"],[1,\"#276419\"]],\"sequential\":[[0.0,\"#0d0887\"],[0.1111111111111111,\"#46039f\"],[0.2222222222222222,\"#7201a8\"],[0.3333333333333333,\"#9c179e\"],[0.4444444444444444,\"#bd3786\"],[0.5555555555555556,\"#d8576b\"],[0.6666666666666666,\"#ed7953\"],[0.7777777777777778,\"#fb9f3a\"],[0.8888888888888888,\"#fdca26\"],[1.0,\"#f0f921\"]],\"sequentialminus\":[[0.0,\"#0d0887\"],[0.1111111111111111,\"#46039f\"],[0.2222222222222222,\"#7201a8\"],[0.3333333333333333,\"#9c179e\"],[0.4444444444444444,\"#bd3786\"],[0.5555555555555556,\"#d8576b\"],[0.6666666666666666,\"#ed7953\"],[0.7777777777777778,\"#fb9f3a\"],[0.8888888888888888,\"#fdca26\"],[1.0,\"#f0f921\"]]},\"colorway\":[\"#636efa\",\"#EF553B\",\"#00cc96\",\"#ab63fa\",\"#FFA15A\",\"#19d3f3\",\"#FF6692\",\"#B6E880\",\"#FF97FF\",\"#FECB52\"],\"font\":{\"color\":\"#2a3f5f\"},\"geo\":{\"bgcolor\":\"white\",\"lakecolor\":\"white\",\"landcolor\":\"white\",\"showlakes\":true,\"showland\":true,\"subunitcolor\":\"#C8D4E3\"},\"hoverlabel\":{\"align\":\"left\"},\"hovermode\":\"closest\",\"mapbox\":{\"style\":\"light\"},\"paper_bgcolor\":\"white\",\"plot_bgcolor\":\"white\",\"polar\":{\"angularaxis\":{\"gridcolor\":\"#EBF0F8\",\"linecolor\":\"#EBF0F8\",\"ticks\":\"\"},\"bgcolor\":\"white\",\"radialaxis\":{\"gridcolor\":\"#EBF0F8\",\"linecolor\":\"#EBF0F8\",\"ticks\":\"\"}},\"scene\":{\"xaxis\":{\"backgroundcolor\":\"white\",\"gridcolor\":\"#DFE8F3\",\"gridwidth\":2,\"linecolor\":\"#EBF0F8\",\"showbackground\":true,\"ticks\":\"\",\"zerolinecolor\":\"#EBF0F8\"},\"yaxis\":{\"backgroundcolor\":\"white\",\"gridcolor\":\"#DFE8F3\",\"gridwidth\":2,\"linecolor\":\"#EBF0F8\",\"showbackground\":true,\"ticks\":\"\",\"zerolinecolor\":\"#EBF0F8\"},\"zaxis\":{\"backgroundcolor\":\"white\",\"gridcolor\":\"#DFE8F3\",\"gridwidth\":2,\"linecolor\":\"#EBF0F8\",\"showbackground\":true,\"ticks\":\"\",\"zerolinecolor\":\"#EBF0F8\"}},\"shapedefaults\":{\"line\":{\"color\":\"#2a3f5f\"}},\"ternary\":{\"aaxis\":{\"gridcolor\":\"#DFE8F3\",\"linecolor\":\"#A2B1C6\",\"ticks\":\"\"},\"baxis\":{\"gridcolor\":\"#DFE8F3\",\"linecolor\":\"#A2B1C6\",\"ticks\":\"\"},\"bgcolor\":\"white\",\"caxis\":{\"gridcolor\":\"#DFE8F3\",\"linecolor\":\"#A2B1C6\",\"ticks\":\"\"}},\"title\":{\"x\":0.05},\"xaxis\":{\"automargin\":true,\"gridcolor\":\"#EBF0F8\",\"linecolor\":\"#EBF0F8\",\"ticks\":\"\",\"title\":{\"standoff\":15},\"zerolinecolor\":\"#EBF0F8\",\"zerolinewidth\":2},\"yaxis\":{\"automargin\":true,\"gridcolor\":\"#EBF0F8\",\"linecolor\":\"#EBF0F8\",\"ticks\":\"\",\"title\":{\"standoff\":15},\"zerolinecolor\":\"#EBF0F8\",\"zerolinewidth\":2}}},\"polar\":{\"radialaxis\":{\"visible\":false,\"showline\":false,\"showticklabels\":false,\"ticks\":\"\",\"gridcolor\":\"rgba(0,0,0,0)\",\"layer\":\"below traces\"},\"angularaxis\":{\"direction\":\"counterclockwise\",\"visible\":false,\"showticklabels\":false,\"showline\":false,\"tickvals\":[],\"ticktext\":[],\"ticks\":\"\",\"gridcolor\":\"rgba(0,0,0,0)\"},\"bgcolor\":\"white\"},\"margin\":{\"l\":30,\"r\":30,\"t\":50,\"b\":50},\"width\":1000,\"height\":1000,\"showlegend\":false},                        {\"responsive\": true}                    ).then(function(){\n",
       "                            \n",
       "var gd = document.getElementById('97e7c64b-872a-4886-a1d8-f5295e4ff370');\n",
       "var x = new MutationObserver(function (mutations, observer) {{\n",
       "        var display = window.getComputedStyle(gd).display;\n",
       "        if (!display || display === 'none') {{\n",
       "            console.log([gd, 'removed!']);\n",
       "            Plotly.purge(gd);\n",
       "            observer.disconnect();\n",
       "        }}\n",
       "}});\n",
       "\n",
       "// Listen for the removal of the full notebook cells\n",
       "var notebookContainer = gd.closest('#notebook-container');\n",
       "if (notebookContainer) {{\n",
       "    x.observe(notebookContainer, {childList: true});\n",
       "}}\n",
       "\n",
       "// Listen for the clearing of the current output cell\n",
       "var outputEl = gd.closest('.output');\n",
       "if (outputEl) {{\n",
       "    x.observe(outputEl, {childList: true});\n",
       "}}\n",
       "\n",
       "                        })                };                });            </script>        </div>"
      ]
     },
     "metadata": {},
     "output_type": "display_data"
    }
   ],
   "source": [
    "Grafico_Radial(Fig_1, 'D20', 'D1', width=1000, height=1000)"
   ]
  },
  {
   "cell_type": "code",
   "execution_count": 10,
   "id": "f3f0326c-7b82-47d8-b338-696f128e1603",
   "metadata": {},
   "outputs": [
    {
     "data": {
      "text/html": [
       "<div>\n",
       "<style scoped>\n",
       "    .dataframe tbody tr th:only-of-type {\n",
       "        vertical-align: middle;\n",
       "    }\n",
       "\n",
       "    .dataframe tbody tr th {\n",
       "        vertical-align: top;\n",
       "    }\n",
       "\n",
       "    .dataframe thead th {\n",
       "        text-align: right;\n",
       "    }\n",
       "</style>\n",
       "<table border=\"1\" class=\"dataframe\">\n",
       "  <thead>\n",
       "    <tr style=\"text-align: right;\">\n",
       "      <th></th>\n",
       "      <th>D11</th>\n",
       "      <th>D1</th>\n",
       "      <th>D20</th>\n",
       "    </tr>\n",
       "  </thead>\n",
       "  <tbody>\n",
       "    <tr>\n",
       "      <th>2</th>\n",
       "      <td>Funcional</td>\n",
       "      <td>60</td>\n",
       "      <td>56</td>\n",
       "    </tr>\n",
       "    <tr>\n",
       "      <th>1</th>\n",
       "      <td>Eficiente</td>\n",
       "      <td>43</td>\n",
       "      <td>54</td>\n",
       "    </tr>\n",
       "    <tr>\n",
       "      <th>0</th>\n",
       "      <td>Deficiente</td>\n",
       "      <td>38</td>\n",
       "      <td>26</td>\n",
       "    </tr>\n",
       "    <tr>\n",
       "      <th>3</th>\n",
       "      <td>Sin respuesta</td>\n",
       "      <td>1</td>\n",
       "      <td>1</td>\n",
       "    </tr>\n",
       "  </tbody>\n",
       "</table>\n",
       "</div>"
      ],
      "text/plain": [
       "             D11  D1  D20\n",
       "2      Funcional  60   56\n",
       "1      Eficiente  43   54\n",
       "0     Deficiente  38   26\n",
       "3  Sin respuesta   1    1"
      ]
     },
     "execution_count": 10,
     "metadata": {},
     "output_type": "execute_result"
    }
   ],
   "source": [
    "### Eficacia de los sistemas\n",
    "### D1 == Usuarios\n",
    "### D20 == Sistemas alineados\n",
    "\n",
    "DES_NEW.groupby(['D11']).agg({'D1': 'nunique', 'D20': 'nunique'}).reset_index().sort_values(by = ['D20'], ascending = False)"
   ]
  },
  {
   "cell_type": "code",
   "execution_count": 224,
   "id": "62935684-8620-4f41-8609-622aeaf1d6ff",
   "metadata": {},
   "outputs": [],
   "source": [
    "### Sistemas más deficientes \n",
    "\n",
    "Fig_2 = DES_NEW[DES_NEW['D11'] == 'Deficiente'].groupby(['D11','D20']).agg({'D1': 'nunique'})\\\n",
    "        .reset_index().sort_values(by = ['D1'], ascending = False).head(10)\n"
   ]
  },
  {
   "cell_type": "code",
   "execution_count": 225,
   "id": "48c37c29-690e-45b2-a118-5e9f300db9ed",
   "metadata": {
    "jupyter": {
     "source_hidden": true
    }
   },
   "outputs": [],
   "source": [
    "def Grafico_Pastel(Tabla, X_C, Y_C, width=600, height=600):\n",
    "    \"\"\"\n",
    "    Crea un gráfico de pastel personalizado con una escala de colores específica y tamaño ajustable.\n",
    "    \n",
    "    Parámetros:\n",
    "    Tabla (pd.DataFrame): Tabla de datos.\n",
    "    X_C (str): Nombre de la columna para las etiquetas.\n",
    "    Y_C (str): Nombre de la columna con los valores numéricos.\n",
    "    width (int): Ancho del gráfico en píxeles.\n",
    "    height (int): Altura del gráfico en píxeles.\n",
    "    \n",
    "    Retorna:\n",
    "    fig (plotly.graph_objects.Figure): Gráfico de pastel generado.\n",
    "    \"\"\"\n",
    "    # Definir la escala de colores\n",
    "    cmap = mcolors.LinearSegmentedColormap.from_list(\"\", ['#630d32', '#b18f5f', '#6f6f71'])\n",
    "    num_items = len(Tabla)\n",
    "\n",
    "    # Generar colores en función de la cantidad de categorías\n",
    "    colors = [mcolors.to_hex(cmap(i / (num_items - 1))) for i in range(num_items)] if num_items > 1 else [mcolors.to_hex(cmap(0))]\n",
    "\n",
    "    # Calcular valores de separación (pull) en función del máximo\n",
    "    max_value = Tabla[Y_C].max()\n",
    "    pull_values = [0.05 if val > 0.80 * max_value else 0 for val in Tabla[Y_C]]\n",
    "\n",
    "    # Crear la gráfica de pastel\n",
    "    fig = px.pie(Tabla, names=X_C, values=Y_C)\n",
    "\n",
    "    # Configurar el estilo de la gráfica\n",
    "    fig.update_traces(\n",
    "        pull=pull_values,\n",
    "        marker=dict(\n",
    "            colors=colors,\n",
    "            line=dict(color='#FFFFFF', width=0.5)\n",
    "        ),\n",
    "        textposition='outside',\n",
    "        textinfo='label+percent',\n",
    "        insidetextorientation='radial',\n",
    "        hovertemplate=None,\n",
    "        hoverinfo='none'\n",
    "    )\n",
    "\n",
    "    fig.update_traces(\n",
    "        pull=pull_values,\n",
    "        marker=dict(colors=colors),\n",
    "        hole=0\n",
    "    )\n",
    "\n",
    "    # Configurar el diseño de la gráfica con `width` y `height`\n",
    "    fig.update_layout(\n",
    "        width=width,  # Ancho del gráfico\n",
    "        height=height,  # Altura del gráfico\n",
    "        title_font_size=10,\n",
    "        title={'text': \"\", 'x': 0.5, 'xanchor': 'center', 'font': {'family': \"Noto Sans\", 'size': 11}},\n",
    "        font=dict(family=\"Noto Sans\", size=12, color='#000000'),\n",
    "        template=None, \n",
    "        showlegend=False,\n",
    "        margin={\"r\": 0, \"t\": 50, \"l\": 0, \"b\": 50},\n",
    "        uniformtext=dict(minsize=5, mode='hide')\n",
    "    )\n",
    "\n",
    "    return (fig)"
   ]
  },
  {
   "cell_type": "code",
   "execution_count": 226,
   "id": "68a6774f-fb02-478c-84ad-8a11ee4ea039",
   "metadata": {},
   "outputs": [
    {
     "data": {
      "application/vnd.plotly.v1+json": {
       "config": {
        "plotlyServerURL": "https://plot.ly"
       },
       "data": [
        {
         "domain": {
          "x": [
           0,
           1
          ],
          "y": [
           0,
           1
          ]
         },
         "hole": 0,
         "hoverinfo": "none",
         "insidetextorientation": "radial",
         "labels": [
          "MAT",
          "CERTISAT",
          "SOLUCIÓN INTEGRAL ",
          "CHIIKUL",
          "PORTAL DEL SAT",
          "CONTROL DE GESTIÓN PARA TRÁMITES",
          "SISTEMA DE TURNOS ",
          "PORTAL WEB",
          "PLATAFORMA DE ACREDITACION DE IDENTIFICACION",
          "APLICATIVO DE REGISTRO "
         ],
         "legendgroup": "",
         "marker": {
          "colors": [
           "#630d32",
           "#742a3c",
           "#854646",
           "#976450",
           "#a8805a",
           "#a98b61",
           "#9b8465",
           "#8c7d69",
           "#7d766d",
           "#6f6f71"
          ],
          "line": {
           "color": "#FFFFFF",
           "width": 0.5
          }
         },
         "name": "",
         "pull": [
          0.05,
          0,
          0,
          0,
          0,
          0,
          0,
          0,
          0,
          0
         ],
         "showlegend": true,
         "textinfo": "label+percent",
         "textposition": "outside",
         "type": "pie",
         "values": [
          24,
          15,
          13,
          5,
          3,
          3,
          3,
          3,
          3,
          2
         ]
        }
       ],
       "layout": {
        "font": {
         "color": "#000000",
         "family": "Noto Sans",
         "size": 12
        },
        "height": 600,
        "legend": {
         "tracegroupgap": 0
        },
        "margin": {
         "b": 50,
         "l": 0,
         "r": 0,
         "t": 50
        },
        "showlegend": false,
        "template": {},
        "title": {
         "font": {
          "family": "Noto Sans",
          "size": 11
         },
         "text": "",
         "x": 0.5,
         "xanchor": "center"
        },
        "uniformtext": {
         "minsize": 5,
         "mode": "hide"
        },
        "width": 1000
       }
      },
      "image/png": "[encoded data removed]",
      "text/html": [
       "<div>                            <div id=\"028cc3e7-9ae0-4483-a05e-028889d8be5e\" class=\"plotly-graph-div\" style=\"height:600px; width:1000px;\"></div>            <script type=\"text/javascript\">                require([\"plotly\"], function(Plotly) {                    window.PLOTLYENV=window.PLOTLYENV || {};                                    if (document.getElementById(\"028cc3e7-9ae0-4483-a05e-028889d8be5e\")) {                    Plotly.newPlot(                        \"028cc3e7-9ae0-4483-a05e-028889d8be5e\",                        [{\"domain\":{\"x\":[0.0,1.0],\"y\":[0.0,1.0]},\"labels\":[\"MAT\",\"CERTISAT\",\"SOLUCI\\u00d3N INTEGRAL \",\"CHIIKUL\",\"PORTAL DEL SAT\",\"CONTROL DE GESTI\\u00d3N PARA TR\\u00c1MITES\",\"SISTEMA DE TURNOS \",\"PORTAL WEB\",\"PLATAFORMA DE ACREDITACION DE IDENTIFICACION\",\"APLICATIVO DE REGISTRO \"],\"legendgroup\":\"\",\"name\":\"\",\"showlegend\":true,\"values\":[24,15,13,5,3,3,3,3,3,2],\"type\":\"pie\",\"marker\":{\"line\":{\"color\":\"#FFFFFF\",\"width\":0.5},\"colors\":[\"#630d32\",\"#742a3c\",\"#854646\",\"#976450\",\"#a8805a\",\"#a98b61\",\"#9b8465\",\"#8c7d69\",\"#7d766d\",\"#6f6f71\"]},\"hoverinfo\":\"none\",\"insidetextorientation\":\"radial\",\"pull\":[0.05,0,0,0,0,0,0,0,0,0],\"textinfo\":\"label+percent\",\"textposition\":\"outside\",\"hole\":0}],                        {\"template\":{},\"legend\":{\"tracegroupgap\":0},\"margin\":{\"t\":50,\"r\":0,\"l\":0,\"b\":50},\"title\":{\"font\":{\"size\":11,\"family\":\"Noto Sans\"},\"text\":\"\",\"x\":0.5,\"xanchor\":\"center\"},\"font\":{\"family\":\"Noto Sans\",\"size\":12,\"color\":\"#000000\"},\"uniformtext\":{\"minsize\":5,\"mode\":\"hide\"},\"width\":1000,\"height\":600,\"showlegend\":false},                        {\"responsive\": true}                    ).then(function(){\n",
       "                            \n",
       "var gd = document.getElementById('028cc3e7-9ae0-4483-a05e-028889d8be5e');\n",
       "var x = new MutationObserver(function (mutations, observer) {{\n",
       "        var display = window.getComputedStyle(gd).display;\n",
       "        if (!display || display === 'none') {{\n",
       "            console.log([gd, 'removed!']);\n",
       "            Plotly.purge(gd);\n",
       "            observer.disconnect();\n",
       "        }}\n",
       "}});\n",
       "\n",
       "// Listen for the removal of the full notebook cells\n",
       "var notebookContainer = gd.closest('#notebook-container');\n",
       "if (notebookContainer) {{\n",
       "    x.observe(notebookContainer, {childList: true});\n",
       "}}\n",
       "\n",
       "// Listen for the clearing of the current output cell\n",
       "var outputEl = gd.closest('.output');\n",
       "if (outputEl) {{\n",
       "    x.observe(outputEl, {childList: true});\n",
       "}}\n",
       "\n",
       "                        })                };                });            </script>        </div>"
      ]
     },
     "metadata": {},
     "output_type": "display_data"
    }
   ],
   "source": [
    "Grafico_Pastel(Fig_2, 'D20', 'D1', width=1000, height=600)"
   ]
  },
  {
   "cell_type": "code",
   "execution_count": null,
   "id": "fee0870b-1b14-4e79-ae42-a92f9f764b12",
   "metadata": {},
   "outputs": [],
   "source": []
  },
  {
   "cell_type": "code",
   "execution_count": 243,
   "id": "a1265915-32a2-4e79-9e7d-30ff3c0b1a49",
   "metadata": {},
   "outputs": [
    {
     "data": {
      "text/html": [
       "<div>\n",
       "<style scoped>\n",
       "    .dataframe tbody tr th:only-of-type {\n",
       "        vertical-align: middle;\n",
       "    }\n",
       "\n",
       "    .dataframe tbody tr th {\n",
       "        vertical-align: top;\n",
       "    }\n",
       "\n",
       "    .dataframe thead th {\n",
       "        text-align: right;\n",
       "    }\n",
       "</style>\n",
       "<table border=\"1\" class=\"dataframe\">\n",
       "  <thead>\n",
       "    <tr style=\"text-align: right;\">\n",
       "      <th></th>\n",
       "      <th>D12</th>\n",
       "      <th>D11</th>\n",
       "      <th>D20</th>\n",
       "      <th>D1</th>\n",
       "    </tr>\n",
       "  </thead>\n",
       "  <tbody>\n",
       "    <tr>\n",
       "      <th>11</th>\n",
       "      <td>Diariamente</td>\n",
       "      <td>Deficiente</td>\n",
       "      <td>MAT</td>\n",
       "      <td>23</td>\n",
       "    </tr>\n",
       "    <tr>\n",
       "      <th>4</th>\n",
       "      <td>Diariamente</td>\n",
       "      <td>Deficiente</td>\n",
       "      <td>CERTISAT</td>\n",
       "      <td>15</td>\n",
       "    </tr>\n",
       "    <tr>\n",
       "      <th>20</th>\n",
       "      <td>Diariamente</td>\n",
       "      <td>Deficiente</td>\n",
       "      <td>SOLUCIÓN INTEGRAL</td>\n",
       "      <td>8</td>\n",
       "    </tr>\n",
       "    <tr>\n",
       "      <th>5</th>\n",
       "      <td>Diariamente</td>\n",
       "      <td>Deficiente</td>\n",
       "      <td>CHIIKUL</td>\n",
       "      <td>5</td>\n",
       "    </tr>\n",
       "    <tr>\n",
       "      <th>12</th>\n",
       "      <td>Diariamente</td>\n",
       "      <td>Deficiente</td>\n",
       "      <td>PLATAFORMA DE ACREDITACION DE IDENTIFICACION</td>\n",
       "      <td>3</td>\n",
       "    </tr>\n",
       "    <tr>\n",
       "      <th>17</th>\n",
       "      <td>Diariamente</td>\n",
       "      <td>Deficiente</td>\n",
       "      <td>SISTEMA DE TURNOS</td>\n",
       "      <td>3</td>\n",
       "    </tr>\n",
       "    <tr>\n",
       "      <th>6</th>\n",
       "      <td>Diariamente</td>\n",
       "      <td>Deficiente</td>\n",
       "      <td>CONTROL DE GESTIÓN PARA TRÁMITES</td>\n",
       "      <td>3</td>\n",
       "    </tr>\n",
       "    <tr>\n",
       "      <th>15</th>\n",
       "      <td>Diariamente</td>\n",
       "      <td>Deficiente</td>\n",
       "      <td>PORTAL WEB</td>\n",
       "      <td>3</td>\n",
       "    </tr>\n",
       "    <tr>\n",
       "      <th>14</th>\n",
       "      <td>Diariamente</td>\n",
       "      <td>Deficiente</td>\n",
       "      <td>PORTAL DEL SAT</td>\n",
       "      <td>3</td>\n",
       "    </tr>\n",
       "    <tr>\n",
       "      <th>16</th>\n",
       "      <td>Diariamente</td>\n",
       "      <td>Deficiente</td>\n",
       "      <td>SIAT-MAT</td>\n",
       "      <td>2</td>\n",
       "    </tr>\n",
       "  </tbody>\n",
       "</table>\n",
       "</div>"
      ],
      "text/plain": [
       "            D12         D11                                           D20  D1\n",
       "11  Diariamente  Deficiente                                           MAT  23\n",
       "4   Diariamente  Deficiente                                      CERTISAT  15\n",
       "20  Diariamente  Deficiente                            SOLUCIÓN INTEGRAL    8\n",
       "5   Diariamente  Deficiente                                       CHIIKUL   5\n",
       "12  Diariamente  Deficiente  PLATAFORMA DE ACREDITACION DE IDENTIFICACION   3\n",
       "17  Diariamente  Deficiente                            SISTEMA DE TURNOS    3\n",
       "6   Diariamente  Deficiente              CONTROL DE GESTIÓN PARA TRÁMITES   3\n",
       "15  Diariamente  Deficiente                                    PORTAL WEB   3\n",
       "14  Diariamente  Deficiente                                PORTAL DEL SAT   3\n",
       "16  Diariamente  Deficiente                                      SIAT-MAT   2"
      ]
     },
     "execution_count": 243,
     "metadata": {},
     "output_type": "execute_result"
    }
   ],
   "source": [
    "### Sistemas de uso diario mas deficientes, top 10\n",
    "\n",
    "DES_NEW[(DES_NEW['D12'] == 'Diariamente') & (DES_NEW['D11'] == 'Deficiente')]\\\n",
    "       .groupby(['D12', 'D11','D20']).agg({'D1': 'nunique'}).reset_index()\\\n",
    "       .sort_values(by = ['D1'], ascending = False).head(10)\n"
   ]
  },
  {
   "cell_type": "code",
   "execution_count": null,
   "id": "c2ba1f2f-664a-4c42-852a-0ebc39ff80fa",
   "metadata": {},
   "outputs": [],
   "source": []
  },
  {
   "cell_type": "code",
   "execution_count": 244,
   "id": "2840384b-0328-4dcc-93e7-d6a3174cc2ee",
   "metadata": {},
   "outputs": [
    {
     "data": {
      "text/html": [
       "<div>\n",
       "<style scoped>\n",
       "    .dataframe tbody tr th:only-of-type {\n",
       "        vertical-align: middle;\n",
       "    }\n",
       "\n",
       "    .dataframe tbody tr th {\n",
       "        vertical-align: top;\n",
       "    }\n",
       "\n",
       "    .dataframe thead th {\n",
       "        text-align: right;\n",
       "    }\n",
       "</style>\n",
       "<table border=\"1\" class=\"dataframe\">\n",
       "  <thead>\n",
       "    <tr style=\"text-align: right;\">\n",
       "      <th></th>\n",
       "      <th>D14</th>\n",
       "      <th>D1</th>\n",
       "      <th>D20</th>\n",
       "    </tr>\n",
       "  </thead>\n",
       "  <tbody>\n",
       "    <tr>\n",
       "      <th>1</th>\n",
       "      <td>1 a 5 reportes</td>\n",
       "      <td>49</td>\n",
       "      <td>38</td>\n",
       "    </tr>\n",
       "    <tr>\n",
       "      <th>0</th>\n",
       "      <td>0 reportes</td>\n",
       "      <td>46</td>\n",
       "      <td>69</td>\n",
       "    </tr>\n",
       "    <tr>\n",
       "      <th>5</th>\n",
       "      <td>Sin respuesta</td>\n",
       "      <td>14</td>\n",
       "      <td>25</td>\n",
       "    </tr>\n",
       "    <tr>\n",
       "      <th>4</th>\n",
       "      <td>6 a 10 reportes</td>\n",
       "      <td>11</td>\n",
       "      <td>5</td>\n",
       "    </tr>\n",
       "    <tr>\n",
       "      <th>3</th>\n",
       "      <td>16 o más reportes</td>\n",
       "      <td>3</td>\n",
       "      <td>11</td>\n",
       "    </tr>\n",
       "    <tr>\n",
       "      <th>2</th>\n",
       "      <td>11 a 15 reportes</td>\n",
       "      <td>2</td>\n",
       "      <td>2</td>\n",
       "    </tr>\n",
       "  </tbody>\n",
       "</table>\n",
       "</div>"
      ],
      "text/plain": [
       "                 D14  D1  D20\n",
       "1     1 a 5 reportes  49   38\n",
       "0         0 reportes  46   69\n",
       "5      Sin respuesta  14   25\n",
       "4    6 a 10 reportes  11    5\n",
       "3  16 o más reportes   3   11\n",
       "2   11 a 15 reportes   2    2"
      ]
     },
     "execution_count": 244,
     "metadata": {},
     "output_type": "execute_result"
    }
   ],
   "source": [
    "### Total de reporte por sistemas (Grafica)\n",
    "### D1 == Usuarios\n",
    "### D20 == Sistemas alineados\n",
    "\n",
    "DES_NEW.groupby(['D14']).agg({'D1': 'nunique', 'D20': 'nunique'}).reset_index().sort_values(by = ['D1'], ascending = False)"
   ]
  },
  {
   "cell_type": "code",
   "execution_count": 245,
   "id": "3c0bb209-ae62-44c4-982d-39c5c06b5119",
   "metadata": {},
   "outputs": [
    {
     "data": {
      "text/html": [
       "<div>\n",
       "<style scoped>\n",
       "    .dataframe tbody tr th:only-of-type {\n",
       "        vertical-align: middle;\n",
       "    }\n",
       "\n",
       "    .dataframe tbody tr th {\n",
       "        vertical-align: top;\n",
       "    }\n",
       "\n",
       "    .dataframe thead th {\n",
       "        text-align: right;\n",
       "    }\n",
       "</style>\n",
       "<table border=\"1\" class=\"dataframe\">\n",
       "  <thead>\n",
       "    <tr style=\"text-align: right;\">\n",
       "      <th></th>\n",
       "      <th>D14</th>\n",
       "      <th>D20</th>\n",
       "      <th>D1</th>\n",
       "    </tr>\n",
       "  </thead>\n",
       "  <tbody>\n",
       "    <tr>\n",
       "      <th>20</th>\n",
       "      <td>1 a 5 reportes</td>\n",
       "      <td>MAT</td>\n",
       "      <td>35</td>\n",
       "    </tr>\n",
       "    <tr>\n",
       "      <th>6</th>\n",
       "      <td>1 a 5 reportes</td>\n",
       "      <td>CERTISAT</td>\n",
       "      <td>30</td>\n",
       "    </tr>\n",
       "    <tr>\n",
       "      <th>35</th>\n",
       "      <td>1 a 5 reportes</td>\n",
       "      <td>SOLUCIÓN INTEGRAL</td>\n",
       "      <td>14</td>\n",
       "    </tr>\n",
       "    <tr>\n",
       "      <th>37</th>\n",
       "      <td>1 a 5 reportes</td>\n",
       "      <td>VISOR DE E.FIRMA</td>\n",
       "      <td>12</td>\n",
       "    </tr>\n",
       "    <tr>\n",
       "      <th>1</th>\n",
       "      <td>1 a 5 reportes</td>\n",
       "      <td>APLICATIVO DE REGISTRO</td>\n",
       "      <td>12</td>\n",
       "    </tr>\n",
       "    <tr>\n",
       "      <th>7</th>\n",
       "      <td>1 a 5 reportes</td>\n",
       "      <td>CHIIKUL</td>\n",
       "      <td>12</td>\n",
       "    </tr>\n",
       "    <tr>\n",
       "      <th>33</th>\n",
       "      <td>1 a 5 reportes</td>\n",
       "      <td>SISTEMA INTEGRAL DE SEGUIMIENTO</td>\n",
       "      <td>8</td>\n",
       "    </tr>\n",
       "    <tr>\n",
       "      <th>32</th>\n",
       "      <td>1 a 5 reportes</td>\n",
       "      <td>SISTEMA DE TURNOS</td>\n",
       "      <td>7</td>\n",
       "    </tr>\n",
       "    <tr>\n",
       "      <th>18</th>\n",
       "      <td>1 a 5 reportes</td>\n",
       "      <td>INTRASAT</td>\n",
       "      <td>7</td>\n",
       "    </tr>\n",
       "    <tr>\n",
       "      <th>5</th>\n",
       "      <td>1 a 5 reportes</td>\n",
       "      <td>CELESTIA</td>\n",
       "      <td>6</td>\n",
       "    </tr>\n",
       "  </tbody>\n",
       "</table>\n",
       "</div>"
      ],
      "text/plain": [
       "               D14                              D20  D1\n",
       "20  1 a 5 reportes                              MAT  35\n",
       "6   1 a 5 reportes                         CERTISAT  30\n",
       "35  1 a 5 reportes               SOLUCIÓN INTEGRAL   14\n",
       "37  1 a 5 reportes                 VISOR DE E.FIRMA  12\n",
       "1   1 a 5 reportes          APLICATIVO DE REGISTRO   12\n",
       "7   1 a 5 reportes                          CHIIKUL  12\n",
       "33  1 a 5 reportes  SISTEMA INTEGRAL DE SEGUIMIENTO   8\n",
       "32  1 a 5 reportes               SISTEMA DE TURNOS    7\n",
       "18  1 a 5 reportes                         INTRASAT   7\n",
       "5   1 a 5 reportes                         CELESTIA   6"
      ]
     },
     "execution_count": 245,
     "metadata": {},
     "output_type": "execute_result"
    }
   ],
   "source": [
    "### Total de reportes '1 a 5 reportes' por sistemas y usuarios\n",
    "### D20 == Sistemas alineados\n",
    "### D1 == Usuarios\n",
    "\n",
    "DES_NEW[DES_NEW['D14'] == '1 a 5 reportes'].groupby(['D14','D20']).agg({'D1': 'nunique'}).\\\n",
    "       reset_index().sort_values(by = ['D1'], ascending = False).head(10)"
   ]
  },
  {
   "cell_type": "code",
   "execution_count": 246,
   "id": "5ff16204-a2ea-4e40-9f09-5672184af6cb",
   "metadata": {},
   "outputs": [
    {
     "data": {
      "text/html": [
       "<div>\n",
       "<style scoped>\n",
       "    .dataframe tbody tr th:only-of-type {\n",
       "        vertical-align: middle;\n",
       "    }\n",
       "\n",
       "    .dataframe tbody tr th {\n",
       "        vertical-align: top;\n",
       "    }\n",
       "\n",
       "    .dataframe thead th {\n",
       "        text-align: right;\n",
       "    }\n",
       "</style>\n",
       "<table border=\"1\" class=\"dataframe\">\n",
       "  <thead>\n",
       "    <tr style=\"text-align: right;\">\n",
       "      <th></th>\n",
       "      <th>D14</th>\n",
       "      <th>D20</th>\n",
       "      <th>D1</th>\n",
       "    </tr>\n",
       "  </thead>\n",
       "  <tbody>\n",
       "    <tr>\n",
       "      <th>1</th>\n",
       "      <td>6 a 10 reportes</td>\n",
       "      <td>MAT</td>\n",
       "      <td>8</td>\n",
       "    </tr>\n",
       "    <tr>\n",
       "      <th>0</th>\n",
       "      <td>6 a 10 reportes</td>\n",
       "      <td>CERTISAT</td>\n",
       "      <td>6</td>\n",
       "    </tr>\n",
       "    <tr>\n",
       "      <th>3</th>\n",
       "      <td>6 a 10 reportes</td>\n",
       "      <td>PORTAL DEL SAT</td>\n",
       "      <td>2</td>\n",
       "    </tr>\n",
       "    <tr>\n",
       "      <th>2</th>\n",
       "      <td>6 a 10 reportes</td>\n",
       "      <td>PLATAFORMA DE ACREDITACION DE IDENTIFICACION</td>\n",
       "      <td>1</td>\n",
       "    </tr>\n",
       "    <tr>\n",
       "      <th>4</th>\n",
       "      <td>6 a 10 reportes</td>\n",
       "      <td>VALIDACION DE INSTRUMENTOS NOTARIALES</td>\n",
       "      <td>1</td>\n",
       "    </tr>\n",
       "  </tbody>\n",
       "</table>\n",
       "</div>"
      ],
      "text/plain": [
       "               D14                                           D20  D1\n",
       "1  6 a 10 reportes                                           MAT   8\n",
       "0  6 a 10 reportes                                      CERTISAT   6\n",
       "3  6 a 10 reportes                                PORTAL DEL SAT   2\n",
       "2  6 a 10 reportes  PLATAFORMA DE ACREDITACION DE IDENTIFICACION   1\n",
       "4  6 a 10 reportes         VALIDACION DE INSTRUMENTOS NOTARIALES   1"
      ]
     },
     "execution_count": 246,
     "metadata": {},
     "output_type": "execute_result"
    }
   ],
   "source": [
    "### Total de reportes '6 a 10 reportes' por sistemas y usuarios\n",
    "### D20 == Sistemas alineados\n",
    "### D1 == Usuarios\n",
    "\n",
    "DES_NEW[DES_NEW['D14'] == '6 a 10 reportes'].groupby(['D14','D20']).agg({'D1': 'nunique'}).\\\n",
    "       reset_index().sort_values(by = ['D1'], ascending = False).head(10)"
   ]
  },
  {
   "cell_type": "code",
   "execution_count": 247,
   "id": "21c9e4e7-727c-4eed-8a21-c7deb8d78886",
   "metadata": {},
   "outputs": [
    {
     "data": {
      "text/html": [
       "<div>\n",
       "<style scoped>\n",
       "    .dataframe tbody tr th:only-of-type {\n",
       "        vertical-align: middle;\n",
       "    }\n",
       "\n",
       "    .dataframe tbody tr th {\n",
       "        vertical-align: top;\n",
       "    }\n",
       "\n",
       "    .dataframe thead th {\n",
       "        text-align: right;\n",
       "    }\n",
       "</style>\n",
       "<table border=\"1\" class=\"dataframe\">\n",
       "  <thead>\n",
       "    <tr style=\"text-align: right;\">\n",
       "      <th></th>\n",
       "      <th>D14</th>\n",
       "      <th>D20</th>\n",
       "      <th>D1</th>\n",
       "    </tr>\n",
       "  </thead>\n",
       "  <tbody>\n",
       "    <tr>\n",
       "      <th>0</th>\n",
       "      <td>11 a 15 reportes</td>\n",
       "      <td>CHIIKUL</td>\n",
       "      <td>1</td>\n",
       "    </tr>\n",
       "    <tr>\n",
       "      <th>1</th>\n",
       "      <td>11 a 15 reportes</td>\n",
       "      <td>PLATAFORMA DE ACREDITACION DE IDENTIFICACION</td>\n",
       "      <td>1</td>\n",
       "    </tr>\n",
       "  </tbody>\n",
       "</table>\n",
       "</div>"
      ],
      "text/plain": [
       "                D14                                           D20  D1\n",
       "0  11 a 15 reportes                                       CHIIKUL   1\n",
       "1  11 a 15 reportes  PLATAFORMA DE ACREDITACION DE IDENTIFICACION   1"
      ]
     },
     "execution_count": 247,
     "metadata": {},
     "output_type": "execute_result"
    }
   ],
   "source": [
    "### Total de reportes '11 a 15 reportes' por sistemas y usuarios\n",
    "### D20 == Sistemas alineados\n",
    "### D1 == Usuarios\n",
    "\n",
    "DES_NEW[DES_NEW['D14'] == '11 a 15 reportes'].groupby(['D14','D20']).agg({'D1': 'nunique'}).\\\n",
    "       reset_index().sort_values(by = ['D1'], ascending = False).head(10)"
   ]
  },
  {
   "cell_type": "code",
   "execution_count": 248,
   "id": "2e5608f1-c17d-46e5-b57d-0aab81d24c53",
   "metadata": {},
   "outputs": [
    {
     "data": {
      "text/html": [
       "<div>\n",
       "<style scoped>\n",
       "    .dataframe tbody tr th:only-of-type {\n",
       "        vertical-align: middle;\n",
       "    }\n",
       "\n",
       "    .dataframe tbody tr th {\n",
       "        vertical-align: top;\n",
       "    }\n",
       "\n",
       "    .dataframe thead th {\n",
       "        text-align: right;\n",
       "    }\n",
       "</style>\n",
       "<table border=\"1\" class=\"dataframe\">\n",
       "  <thead>\n",
       "    <tr style=\"text-align: right;\">\n",
       "      <th></th>\n",
       "      <th>D14</th>\n",
       "      <th>D20</th>\n",
       "      <th>D1</th>\n",
       "    </tr>\n",
       "  </thead>\n",
       "  <tbody>\n",
       "    <tr>\n",
       "      <th>6</th>\n",
       "      <td>16 o más reportes</td>\n",
       "      <td>MAT</td>\n",
       "      <td>3</td>\n",
       "    </tr>\n",
       "    <tr>\n",
       "      <th>1</th>\n",
       "      <td>16 o más reportes</td>\n",
       "      <td>APLICATIVO DE REGISTRO</td>\n",
       "      <td>2</td>\n",
       "    </tr>\n",
       "    <tr>\n",
       "      <th>2</th>\n",
       "      <td>16 o más reportes</td>\n",
       "      <td>CERTISAT</td>\n",
       "      <td>2</td>\n",
       "    </tr>\n",
       "    <tr>\n",
       "      <th>8</th>\n",
       "      <td>16 o más reportes</td>\n",
       "      <td>SISTEMA DE TURNOS</td>\n",
       "      <td>2</td>\n",
       "    </tr>\n",
       "    <tr>\n",
       "      <th>0</th>\n",
       "      <td>16 o más reportes</td>\n",
       "      <td>ACCESS</td>\n",
       "      <td>1</td>\n",
       "    </tr>\n",
       "    <tr>\n",
       "      <th>3</th>\n",
       "      <td>16 o más reportes</td>\n",
       "      <td>CHIIKUL</td>\n",
       "      <td>1</td>\n",
       "    </tr>\n",
       "    <tr>\n",
       "      <th>4</th>\n",
       "      <td>16 o más reportes</td>\n",
       "      <td>CONTROL GESTION</td>\n",
       "      <td>1</td>\n",
       "    </tr>\n",
       "    <tr>\n",
       "      <th>5</th>\n",
       "      <td>16 o más reportes</td>\n",
       "      <td>INTRASAT</td>\n",
       "      <td>1</td>\n",
       "    </tr>\n",
       "    <tr>\n",
       "      <th>7</th>\n",
       "      <td>16 o más reportes</td>\n",
       "      <td>PORTAL DEL SAT</td>\n",
       "      <td>1</td>\n",
       "    </tr>\n",
       "    <tr>\n",
       "      <th>9</th>\n",
       "      <td>16 o más reportes</td>\n",
       "      <td>SISTEMA INTEGRAL DE SEGUIMIENTO</td>\n",
       "      <td>1</td>\n",
       "    </tr>\n",
       "  </tbody>\n",
       "</table>\n",
       "</div>"
      ],
      "text/plain": [
       "                 D14                              D20  D1\n",
       "6  16 o más reportes                              MAT   3\n",
       "1  16 o más reportes          APLICATIVO DE REGISTRO    2\n",
       "2  16 o más reportes                         CERTISAT   2\n",
       "8  16 o más reportes               SISTEMA DE TURNOS    2\n",
       "0  16 o más reportes                           ACCESS   1\n",
       "3  16 o más reportes                          CHIIKUL   1\n",
       "4  16 o más reportes                  CONTROL GESTION   1\n",
       "5  16 o más reportes                         INTRASAT   1\n",
       "7  16 o más reportes                   PORTAL DEL SAT   1\n",
       "9  16 o más reportes  SISTEMA INTEGRAL DE SEGUIMIENTO   1"
      ]
     },
     "execution_count": 248,
     "metadata": {},
     "output_type": "execute_result"
    }
   ],
   "source": [
    "### Total de reportes '16 o más reportes' por sistemas y usuarios\n",
    "### D20 == Sistemas alineados\n",
    "### D1 == Usuarios\n",
    "\n",
    "DES_NEW[DES_NEW['D14'] == '16 o más reportes'].groupby(['D14','D20']).agg({'D1': 'nunique'}).\\\n",
    "       reset_index().sort_values(by = ['D1'], ascending = False).head(10)"
   ]
  },
  {
   "cell_type": "code",
   "execution_count": 249,
   "id": "e1edd31a-4e3e-4685-a96f-986a83e1ac13",
   "metadata": {},
   "outputs": [
    {
     "data": {
      "text/plain": [
       "array(['Alto', 'Medio', 'Bajo', 'Mínimo', 'Minimo ', nan, 'Minimo',\n",
       "       'Sin respuesta', 'Alto ', 'Medio '], dtype=object)"
      ]
     },
     "execution_count": 249,
     "metadata": {},
     "output_type": "execute_result"
    }
   ],
   "source": [
    "### Impacto a la falla\n",
    "DES_NEW.D15.unique()"
   ]
  },
  {
   "cell_type": "code",
   "execution_count": 250,
   "id": "c6f1ce96-db79-4d4e-ac42-438152893f01",
   "metadata": {},
   "outputs": [],
   "source": [
    "### Generar código para corrección del texto por errores humanos\n",
    "DES_NEW['D15'] = DES_NEW['D15'].str.strip().replace('Minimo', 'Mínimo')"
   ]
  },
  {
   "cell_type": "code",
   "execution_count": 251,
   "id": "feda81ca-af58-4eb7-b704-3e7d736ca038",
   "metadata": {},
   "outputs": [
    {
     "data": {
      "text/html": [
       "<div>\n",
       "<style scoped>\n",
       "    .dataframe tbody tr th:only-of-type {\n",
       "        vertical-align: middle;\n",
       "    }\n",
       "\n",
       "    .dataframe tbody tr th {\n",
       "        vertical-align: top;\n",
       "    }\n",
       "\n",
       "    .dataframe thead th {\n",
       "        text-align: right;\n",
       "    }\n",
       "</style>\n",
       "<table border=\"1\" class=\"dataframe\">\n",
       "  <thead>\n",
       "    <tr style=\"text-align: right;\">\n",
       "      <th>D15</th>\n",
       "      <th>D20</th>\n",
       "      <th>Alto</th>\n",
       "      <th>Medio</th>\n",
       "    </tr>\n",
       "  </thead>\n",
       "  <tbody>\n",
       "    <tr>\n",
       "      <th>40</th>\n",
       "      <td>MAT</td>\n",
       "      <td>63</td>\n",
       "      <td>1</td>\n",
       "    </tr>\n",
       "    <tr>\n",
       "      <th>12</th>\n",
       "      <td>CERTISAT</td>\n",
       "      <td>58</td>\n",
       "      <td>3</td>\n",
       "    </tr>\n",
       "    <tr>\n",
       "      <th>75</th>\n",
       "      <td>VISOR DE E.FIRMA</td>\n",
       "      <td>31</td>\n",
       "      <td>4</td>\n",
       "    </tr>\n",
       "    <tr>\n",
       "      <th>66</th>\n",
       "      <td>SISTEMA DE TURNOS</td>\n",
       "      <td>30</td>\n",
       "      <td>1</td>\n",
       "    </tr>\n",
       "    <tr>\n",
       "      <th>5</th>\n",
       "      <td>APLICATIVO DE REGISTRO</td>\n",
       "      <td>28</td>\n",
       "      <td>2</td>\n",
       "    </tr>\n",
       "    <tr>\n",
       "      <th>13</th>\n",
       "      <td>CHIIKUL</td>\n",
       "      <td>18</td>\n",
       "      <td>7</td>\n",
       "    </tr>\n",
       "    <tr>\n",
       "      <th>70</th>\n",
       "      <td>SOLUCIÓN INTEGRAL</td>\n",
       "      <td>16</td>\n",
       "      <td>5</td>\n",
       "    </tr>\n",
       "    <tr>\n",
       "      <th>67</th>\n",
       "      <td>SISTEMA INTEGRAL DE SEGUIMIENTO</td>\n",
       "      <td>14</td>\n",
       "      <td>7</td>\n",
       "    </tr>\n",
       "    <tr>\n",
       "      <th>8</th>\n",
       "      <td>APLICATIVO DE RIESGO</td>\n",
       "      <td>11</td>\n",
       "      <td>0</td>\n",
       "    </tr>\n",
       "    <tr>\n",
       "      <th>37</th>\n",
       "      <td>INTRASAT</td>\n",
       "      <td>10</td>\n",
       "      <td>0</td>\n",
       "    </tr>\n",
       "  </tbody>\n",
       "</table>\n",
       "</div>"
      ],
      "text/plain": [
       "D15                              D20  Alto  Medio\n",
       "40                               MAT    63      1\n",
       "12                          CERTISAT    58      3\n",
       "75                  VISOR DE E.FIRMA    31      4\n",
       "66                SISTEMA DE TURNOS     30      1\n",
       "5            APLICATIVO DE REGISTRO     28      2\n",
       "13                           CHIIKUL    18      7\n",
       "70                SOLUCIÓN INTEGRAL     16      5\n",
       "67   SISTEMA INTEGRAL DE SEGUIMIENTO    14      7\n",
       "8               APLICATIVO DE RIESGO    11      0\n",
       "37                          INTRASAT    10      0"
      ]
     },
     "execution_count": 251,
     "metadata": {},
     "output_type": "execute_result"
    }
   ],
   "source": [
    "### Tabla para generar el grafico 4 == Sistemas e impacto\n",
    "\n",
    "DES_NEW[(DES_NEW['D15'] == 'Alto') | (DES_NEW['D15'] == 'Medio')].groupby(['D15','D20']).\\\n",
    "     agg({'D1': 'nunique'}).reset_index().pivot_table(index = 'D20', columns = 'D15',\n",
    "                                                      values = 'D1', aggfunc = 'sum', fill_value = 0).reset_index().\\\n",
    "     sort_values(by = ['Alto', 'Medio'], ascending = [False, False]).head(10)"
   ]
  },
  {
   "cell_type": "code",
   "execution_count": 252,
   "id": "6e75eb10-596b-4634-89e8-ea9f682081eb",
   "metadata": {},
   "outputs": [
    {
     "data": {
      "text/plain": [
       "array(['Sin respuesta', 'Mismo día en menos de 2 horas',\n",
       "       'Mismo día más de 2 horas', 'Al día siguiente', 'Mas de 3 días'],\n",
       "      dtype=object)"
      ]
     },
     "execution_count": 252,
     "metadata": {},
     "output_type": "execute_result"
    }
   ],
   "source": [
    "### Tiempo de recuperación al impacto\n",
    "\n",
    "DES_NEW.D16.unique()"
   ]
  },
  {
   "cell_type": "code",
   "execution_count": 253,
   "id": "17cd939c-1faf-4e77-906c-aca2ce527cc3",
   "metadata": {},
   "outputs": [
    {
     "data": {
      "text/html": [
       "<div>\n",
       "<style scoped>\n",
       "    .dataframe tbody tr th:only-of-type {\n",
       "        vertical-align: middle;\n",
       "    }\n",
       "\n",
       "    .dataframe tbody tr th {\n",
       "        vertical-align: top;\n",
       "    }\n",
       "\n",
       "    .dataframe thead th {\n",
       "        text-align: right;\n",
       "    }\n",
       "</style>\n",
       "<table border=\"1\" class=\"dataframe\">\n",
       "  <thead>\n",
       "    <tr style=\"text-align: right;\">\n",
       "      <th></th>\n",
       "      <th>D16</th>\n",
       "      <th>D20</th>\n",
       "      <th>D1</th>\n",
       "    </tr>\n",
       "  </thead>\n",
       "  <tbody>\n",
       "    <tr>\n",
       "      <th>2</th>\n",
       "      <td>Al día siguiente</td>\n",
       "      <td>CHIIKUL</td>\n",
       "      <td>5</td>\n",
       "    </tr>\n",
       "    <tr>\n",
       "      <th>6</th>\n",
       "      <td>Al día siguiente</td>\n",
       "      <td>PORTAL DEL SAT</td>\n",
       "      <td>3</td>\n",
       "    </tr>\n",
       "    <tr>\n",
       "      <th>1</th>\n",
       "      <td>Al día siguiente</td>\n",
       "      <td>CERTISAT</td>\n",
       "      <td>2</td>\n",
       "    </tr>\n",
       "    <tr>\n",
       "      <th>4</th>\n",
       "      <td>Al día siguiente</td>\n",
       "      <td>INTRASAT</td>\n",
       "      <td>2</td>\n",
       "    </tr>\n",
       "    <tr>\n",
       "      <th>10</th>\n",
       "      <td>Al día siguiente</td>\n",
       "      <td>SOLUCIÓN INTEGRAL</td>\n",
       "      <td>2</td>\n",
       "    </tr>\n",
       "    <tr>\n",
       "      <th>11</th>\n",
       "      <td>Al día siguiente</td>\n",
       "      <td>VISOR DE E.FIRMA</td>\n",
       "      <td>2</td>\n",
       "    </tr>\n",
       "    <tr>\n",
       "      <th>0</th>\n",
       "      <td>Al día siguiente</td>\n",
       "      <td>CELESTIA</td>\n",
       "      <td>1</td>\n",
       "    </tr>\n",
       "    <tr>\n",
       "      <th>3</th>\n",
       "      <td>Al día siguiente</td>\n",
       "      <td>HECOFIS</td>\n",
       "      <td>1</td>\n",
       "    </tr>\n",
       "    <tr>\n",
       "      <th>5</th>\n",
       "      <td>Al día siguiente</td>\n",
       "      <td>MAT</td>\n",
       "      <td>1</td>\n",
       "    </tr>\n",
       "    <tr>\n",
       "      <th>7</th>\n",
       "      <td>Al día siguiente</td>\n",
       "      <td>PORTAL WEB</td>\n",
       "      <td>1</td>\n",
       "    </tr>\n",
       "    <tr>\n",
       "      <th>13</th>\n",
       "      <td>Mas de 3 días</td>\n",
       "      <td>PLATAFORMA DE ACREDITACION DE IDENTIFICACION</td>\n",
       "      <td>3</td>\n",
       "    </tr>\n",
       "    <tr>\n",
       "      <th>12</th>\n",
       "      <td>Mas de 3 días</td>\n",
       "      <td>CONTROL DE GESTIÓN PARA TRÁMITES</td>\n",
       "      <td>1</td>\n",
       "    </tr>\n",
       "    <tr>\n",
       "      <th>14</th>\n",
       "      <td>Mas de 3 días</td>\n",
       "      <td>VALIDACION DE INSTRUMENTOS NOTARIALES</td>\n",
       "      <td>1</td>\n",
       "    </tr>\n",
       "    <tr>\n",
       "      <th>31</th>\n",
       "      <td>Mismo día más de 2 horas</td>\n",
       "      <td>MAT</td>\n",
       "      <td>20</td>\n",
       "    </tr>\n",
       "    <tr>\n",
       "      <th>21</th>\n",
       "      <td>Mismo día más de 2 horas</td>\n",
       "      <td>CERTISAT</td>\n",
       "      <td>17</td>\n",
       "    </tr>\n",
       "    <tr>\n",
       "      <th>16</th>\n",
       "      <td>Mismo día más de 2 horas</td>\n",
       "      <td>APLICATIVO DE REGISTRO</td>\n",
       "      <td>8</td>\n",
       "    </tr>\n",
       "    <tr>\n",
       "      <th>38</th>\n",
       "      <td>Mismo día más de 2 horas</td>\n",
       "      <td>SOLUCIÓN INTEGRAL</td>\n",
       "      <td>8</td>\n",
       "    </tr>\n",
       "    <tr>\n",
       "      <th>22</th>\n",
       "      <td>Mismo día más de 2 horas</td>\n",
       "      <td>CHIIKUL</td>\n",
       "      <td>5</td>\n",
       "    </tr>\n",
       "    <tr>\n",
       "      <th>40</th>\n",
       "      <td>Mismo día más de 2 horas</td>\n",
       "      <td>VISOR DE E.FIRMA</td>\n",
       "      <td>5</td>\n",
       "    </tr>\n",
       "    <tr>\n",
       "      <th>20</th>\n",
       "      <td>Mismo día más de 2 horas</td>\n",
       "      <td>CELESTIA</td>\n",
       "      <td>4</td>\n",
       "    </tr>\n",
       "    <tr>\n",
       "      <th>35</th>\n",
       "      <td>Mismo día más de 2 horas</td>\n",
       "      <td>SIAT-MAT</td>\n",
       "      <td>3</td>\n",
       "    </tr>\n",
       "    <tr>\n",
       "      <th>18</th>\n",
       "      <td>Mismo día más de 2 horas</td>\n",
       "      <td>APLICATIVO DE RIESGO</td>\n",
       "      <td>2</td>\n",
       "    </tr>\n",
       "    <tr>\n",
       "      <th>32</th>\n",
       "      <td>Mismo día más de 2 horas</td>\n",
       "      <td>PLATAFORMA DE ACREDITACION DE IDENTIFICACION</td>\n",
       "      <td>2</td>\n",
       "    </tr>\n",
       "  </tbody>\n",
       "</table>\n",
       "</div>"
      ],
      "text/plain": [
       "                         D16                                           D20  D1\n",
       "2           Al día siguiente                                       CHIIKUL   5\n",
       "6           Al día siguiente                                PORTAL DEL SAT   3\n",
       "1           Al día siguiente                                      CERTISAT   2\n",
       "4           Al día siguiente                                      INTRASAT   2\n",
       "10          Al día siguiente                            SOLUCIÓN INTEGRAL    2\n",
       "11          Al día siguiente                              VISOR DE E.FIRMA   2\n",
       "0           Al día siguiente                                      CELESTIA   1\n",
       "3           Al día siguiente                                       HECOFIS   1\n",
       "5           Al día siguiente                                           MAT   1\n",
       "7           Al día siguiente                                    PORTAL WEB   1\n",
       "13             Mas de 3 días  PLATAFORMA DE ACREDITACION DE IDENTIFICACION   3\n",
       "12             Mas de 3 días              CONTROL DE GESTIÓN PARA TRÁMITES   1\n",
       "14             Mas de 3 días         VALIDACION DE INSTRUMENTOS NOTARIALES   1\n",
       "31  Mismo día más de 2 horas                                           MAT  20\n",
       "21  Mismo día más de 2 horas                                      CERTISAT  17\n",
       "16  Mismo día más de 2 horas                       APLICATIVO DE REGISTRO    8\n",
       "38  Mismo día más de 2 horas                            SOLUCIÓN INTEGRAL    8\n",
       "22  Mismo día más de 2 horas                                       CHIIKUL   5\n",
       "40  Mismo día más de 2 horas                              VISOR DE E.FIRMA   5\n",
       "20  Mismo día más de 2 horas                                      CELESTIA   4\n",
       "35  Mismo día más de 2 horas                                      SIAT-MAT   3\n",
       "18  Mismo día más de 2 horas                          APLICATIVO DE RIESGO   2\n",
       "32  Mismo día más de 2 horas  PLATAFORMA DE ACREDITACION DE IDENTIFICACION   2"
      ]
     },
     "execution_count": 253,
     "metadata": {},
     "output_type": "execute_result"
    }
   ],
   "source": [
    "### Tiempo de atención a los sistemas\n",
    "\n",
    "Filtro_D14 = ['1 a 5 reportes', '6 a 10 reportes', '11 a 15 reportes']\n",
    "Filtro_D15 = ['Alto', 'Medio']\n",
    "Filtro_D16 = ['Mismo día más de 2 horas', 'Al día siguiente', 'Mas de 3 días']\n",
    "\n",
    "\n",
    "Tiempo_Sist = ( DES_NEW[DES_NEW['D14'].isin(Filtro_D14) & DES_NEW['D15'].isin(Filtro_D15) & DES_NEW['D16'].isin(Filtro_D16)]\n",
    "                 .groupby(['D16', 'D20'])['D1'].nunique().reset_index().groupby('D16', group_keys = False)\n",
    "                 .apply(lambda x: x.nlargest(10, 'D1')) # Ordena y toma los 10 primeros en una sola operación\n",
    "                )\n",
    "Tiempo_Sist"
   ]
  },
  {
   "cell_type": "code",
   "execution_count": 254,
   "id": "c962557c-82d3-4d1b-b892-6f84aad8004a",
   "metadata": {},
   "outputs": [
    {
     "data": {
      "text/plain": [
       "array(['Lentitud general', 'Soporte y mantenimiento deficiente',\n",
       "       'Actualizaciones inadecuadas', 'Saturación y Acceso',\n",
       "       'Sin respuesta', 'Fallas en modulos', 'Tiempo de espera',\n",
       "       'Interfaz poco intuitiva', 'Funcionalidades limitada',\n",
       "       'Dificultad para generar reportes', nan], dtype=object)"
      ]
     },
     "execution_count": 254,
     "metadata": {},
     "output_type": "execute_result"
    }
   ],
   "source": [
    "DES_NEW.D13.unique()"
   ]
  },
  {
   "cell_type": "code",
   "execution_count": 255,
   "id": "54e8a764-1a9d-4152-916a-498749a81087",
   "metadata": {},
   "outputs": [
    {
     "data": {
      "text/html": [
       "<div>\n",
       "<style scoped>\n",
       "    .dataframe tbody tr th:only-of-type {\n",
       "        vertical-align: middle;\n",
       "    }\n",
       "\n",
       "    .dataframe tbody tr th {\n",
       "        vertical-align: top;\n",
       "    }\n",
       "\n",
       "    .dataframe thead th {\n",
       "        text-align: right;\n",
       "    }\n",
       "</style>\n",
       "<table border=\"1\" class=\"dataframe\">\n",
       "  <thead>\n",
       "    <tr style=\"text-align: right;\">\n",
       "      <th></th>\n",
       "      <th>D13</th>\n",
       "      <th>D20</th>\n",
       "      <th>D1</th>\n",
       "    </tr>\n",
       "  </thead>\n",
       "  <tbody>\n",
       "    <tr>\n",
       "      <th>23</th>\n",
       "      <td>Lentitud general</td>\n",
       "      <td>MAT</td>\n",
       "      <td>36</td>\n",
       "    </tr>\n",
       "    <tr>\n",
       "      <th>9</th>\n",
       "      <td>Lentitud general</td>\n",
       "      <td>CERTISAT</td>\n",
       "      <td>23</td>\n",
       "    </tr>\n",
       "    <tr>\n",
       "      <th>37</th>\n",
       "      <td>Lentitud general</td>\n",
       "      <td>SOLUCIÓN INTEGRAL</td>\n",
       "      <td>12</td>\n",
       "    </tr>\n",
       "    <tr>\n",
       "      <th>10</th>\n",
       "      <td>Lentitud general</td>\n",
       "      <td>CHIIKUL</td>\n",
       "      <td>10</td>\n",
       "    </tr>\n",
       "    <tr>\n",
       "      <th>40</th>\n",
       "      <td>Lentitud general</td>\n",
       "      <td>VISOR DE E.FIRMA</td>\n",
       "      <td>8</td>\n",
       "    </tr>\n",
       "    <tr>\n",
       "      <th>3</th>\n",
       "      <td>Lentitud general</td>\n",
       "      <td>APLICATIVO DE REGISTRO</td>\n",
       "      <td>7</td>\n",
       "    </tr>\n",
       "    <tr>\n",
       "      <th>36</th>\n",
       "      <td>Lentitud general</td>\n",
       "      <td>SISTEMA INTEGRAL DE SEGUIMIENTO</td>\n",
       "      <td>7</td>\n",
       "    </tr>\n",
       "    <tr>\n",
       "      <th>13</th>\n",
       "      <td>Lentitud general</td>\n",
       "      <td>CONTROL GESTION</td>\n",
       "      <td>4</td>\n",
       "    </tr>\n",
       "    <tr>\n",
       "      <th>18</th>\n",
       "      <td>Lentitud general</td>\n",
       "      <td>DECLARACIONES Y PAGOS (DYP)</td>\n",
       "      <td>4</td>\n",
       "    </tr>\n",
       "    <tr>\n",
       "      <th>21</th>\n",
       "      <td>Lentitud general</td>\n",
       "      <td>INTRASAT</td>\n",
       "      <td>4</td>\n",
       "    </tr>\n",
       "    <tr>\n",
       "      <th>55</th>\n",
       "      <td>Saturación y Acceso</td>\n",
       "      <td>MAT</td>\n",
       "      <td>17</td>\n",
       "    </tr>\n",
       "    <tr>\n",
       "      <th>44</th>\n",
       "      <td>Saturación y Acceso</td>\n",
       "      <td>CERTISAT</td>\n",
       "      <td>11</td>\n",
       "    </tr>\n",
       "    <tr>\n",
       "      <th>41</th>\n",
       "      <td>Saturación y Acceso</td>\n",
       "      <td>APLICATIVO DE REGISTRO</td>\n",
       "      <td>6</td>\n",
       "    </tr>\n",
       "    <tr>\n",
       "      <th>43</th>\n",
       "      <td>Saturación y Acceso</td>\n",
       "      <td>CELESTIA</td>\n",
       "      <td>4</td>\n",
       "    </tr>\n",
       "    <tr>\n",
       "      <th>45</th>\n",
       "      <td>Saturación y Acceso</td>\n",
       "      <td>CHIIKUL</td>\n",
       "      <td>4</td>\n",
       "    </tr>\n",
       "    <tr>\n",
       "      <th>63</th>\n",
       "      <td>Saturación y Acceso</td>\n",
       "      <td>SISTEMA INTEGRAL DE SEGUIMIENTO</td>\n",
       "      <td>4</td>\n",
       "    </tr>\n",
       "    <tr>\n",
       "      <th>66</th>\n",
       "      <td>Saturación y Acceso</td>\n",
       "      <td>VISOR DE E.FIRMA</td>\n",
       "      <td>4</td>\n",
       "    </tr>\n",
       "    <tr>\n",
       "      <th>58</th>\n",
       "      <td>Saturación y Acceso</td>\n",
       "      <td>PORTAL DEL SAT</td>\n",
       "      <td>3</td>\n",
       "    </tr>\n",
       "    <tr>\n",
       "      <th>53</th>\n",
       "      <td>Saturación y Acceso</td>\n",
       "      <td>INTRASAT</td>\n",
       "      <td>2</td>\n",
       "    </tr>\n",
       "    <tr>\n",
       "      <th>60</th>\n",
       "      <td>Saturación y Acceso</td>\n",
       "      <td>SIAT-MAT</td>\n",
       "      <td>2</td>\n",
       "    </tr>\n",
       "    <tr>\n",
       "      <th>68</th>\n",
       "      <td>Soporte y mantenimiento deficiente</td>\n",
       "      <td>CERTISAT</td>\n",
       "      <td>3</td>\n",
       "    </tr>\n",
       "    <tr>\n",
       "      <th>75</th>\n",
       "      <td>Soporte y mantenimiento deficiente</td>\n",
       "      <td>SISTEMA DE TURNOS</td>\n",
       "      <td>2</td>\n",
       "    </tr>\n",
       "    <tr>\n",
       "      <th>67</th>\n",
       "      <td>Soporte y mantenimiento deficiente</td>\n",
       "      <td>APLICATIVO DE REGISTRO</td>\n",
       "      <td>1</td>\n",
       "    </tr>\n",
       "    <tr>\n",
       "      <th>69</th>\n",
       "      <td>Soporte y mantenimiento deficiente</td>\n",
       "      <td>CONTROL DE GESTIÓN PARA TRÁMITES</td>\n",
       "      <td>1</td>\n",
       "    </tr>\n",
       "    <tr>\n",
       "      <th>70</th>\n",
       "      <td>Soporte y mantenimiento deficiente</td>\n",
       "      <td>CONTROL GESTION</td>\n",
       "      <td>1</td>\n",
       "    </tr>\n",
       "    <tr>\n",
       "      <th>71</th>\n",
       "      <td>Soporte y mantenimiento deficiente</td>\n",
       "      <td>CUENTA ÚNICA NACIONAL</td>\n",
       "      <td>1</td>\n",
       "    </tr>\n",
       "    <tr>\n",
       "      <th>72</th>\n",
       "      <td>Soporte y mantenimiento deficiente</td>\n",
       "      <td>DARIO WEB</td>\n",
       "      <td>1</td>\n",
       "    </tr>\n",
       "    <tr>\n",
       "      <th>73</th>\n",
       "      <td>Soporte y mantenimiento deficiente</td>\n",
       "      <td>PAPERSTREAM CAPTURE</td>\n",
       "      <td>1</td>\n",
       "    </tr>\n",
       "    <tr>\n",
       "      <th>74</th>\n",
       "      <td>Soporte y mantenimiento deficiente</td>\n",
       "      <td>SISTEMA DE ATENCIÓN SOCIOS Y ACCIONISTAS</td>\n",
       "      <td>1</td>\n",
       "    </tr>\n",
       "    <tr>\n",
       "      <th>76</th>\n",
       "      <td>Soporte y mantenimiento deficiente</td>\n",
       "      <td>SOCIOS Y ACCIONISTAS</td>\n",
       "      <td>1</td>\n",
       "    </tr>\n",
       "    <tr>\n",
       "      <th>81</th>\n",
       "      <td>Tiempo de espera</td>\n",
       "      <td>CERTISAT</td>\n",
       "      <td>4</td>\n",
       "    </tr>\n",
       "    <tr>\n",
       "      <th>82</th>\n",
       "      <td>Tiempo de espera</td>\n",
       "      <td>CHIIKUL</td>\n",
       "      <td>3</td>\n",
       "    </tr>\n",
       "    <tr>\n",
       "      <th>87</th>\n",
       "      <td>Tiempo de espera</td>\n",
       "      <td>VISOR DE E.FIRMA</td>\n",
       "      <td>2</td>\n",
       "    </tr>\n",
       "    <tr>\n",
       "      <th>79</th>\n",
       "      <td>Tiempo de espera</td>\n",
       "      <td>APLICATIVO DE REGISTRO</td>\n",
       "      <td>1</td>\n",
       "    </tr>\n",
       "    <tr>\n",
       "      <th>80</th>\n",
       "      <td>Tiempo de espera</td>\n",
       "      <td>APLICATIVO DE RIESGO</td>\n",
       "      <td>1</td>\n",
       "    </tr>\n",
       "    <tr>\n",
       "      <th>83</th>\n",
       "      <td>Tiempo de espera</td>\n",
       "      <td>MAT</td>\n",
       "      <td>1</td>\n",
       "    </tr>\n",
       "    <tr>\n",
       "      <th>84</th>\n",
       "      <td>Tiempo de espera</td>\n",
       "      <td>PORTAL WEB</td>\n",
       "      <td>1</td>\n",
       "    </tr>\n",
       "    <tr>\n",
       "      <th>85</th>\n",
       "      <td>Tiempo de espera</td>\n",
       "      <td>SAIE III</td>\n",
       "      <td>1</td>\n",
       "    </tr>\n",
       "    <tr>\n",
       "      <th>86</th>\n",
       "      <td>Tiempo de espera</td>\n",
       "      <td>SISTEMA DE FOLIOS</td>\n",
       "      <td>1</td>\n",
       "    </tr>\n",
       "  </tbody>\n",
       "</table>\n",
       "</div>"
      ],
      "text/plain": [
       "                                   D13  \\\n",
       "23                    Lentitud general   \n",
       "9                     Lentitud general   \n",
       "37                    Lentitud general   \n",
       "10                    Lentitud general   \n",
       "40                    Lentitud general   \n",
       "3                     Lentitud general   \n",
       "36                    Lentitud general   \n",
       "13                    Lentitud general   \n",
       "18                    Lentitud general   \n",
       "21                    Lentitud general   \n",
       "55                 Saturación y Acceso   \n",
       "44                 Saturación y Acceso   \n",
       "41                 Saturación y Acceso   \n",
       "43                 Saturación y Acceso   \n",
       "45                 Saturación y Acceso   \n",
       "63                 Saturación y Acceso   \n",
       "66                 Saturación y Acceso   \n",
       "58                 Saturación y Acceso   \n",
       "53                 Saturación y Acceso   \n",
       "60                 Saturación y Acceso   \n",
       "68  Soporte y mantenimiento deficiente   \n",
       "75  Soporte y mantenimiento deficiente   \n",
       "67  Soporte y mantenimiento deficiente   \n",
       "69  Soporte y mantenimiento deficiente   \n",
       "70  Soporte y mantenimiento deficiente   \n",
       "71  Soporte y mantenimiento deficiente   \n",
       "72  Soporte y mantenimiento deficiente   \n",
       "73  Soporte y mantenimiento deficiente   \n",
       "74  Soporte y mantenimiento deficiente   \n",
       "76  Soporte y mantenimiento deficiente   \n",
       "81                    Tiempo de espera   \n",
       "82                    Tiempo de espera   \n",
       "87                    Tiempo de espera   \n",
       "79                    Tiempo de espera   \n",
       "80                    Tiempo de espera   \n",
       "83                    Tiempo de espera   \n",
       "84                    Tiempo de espera   \n",
       "85                    Tiempo de espera   \n",
       "86                    Tiempo de espera   \n",
       "\n",
       "                                         D20  D1  \n",
       "23                                       MAT  36  \n",
       "9                                   CERTISAT  23  \n",
       "37                        SOLUCIÓN INTEGRAL   12  \n",
       "10                                   CHIIKUL  10  \n",
       "40                          VISOR DE E.FIRMA   8  \n",
       "3                    APLICATIVO DE REGISTRO    7  \n",
       "36           SISTEMA INTEGRAL DE SEGUIMIENTO   7  \n",
       "13                           CONTROL GESTION   4  \n",
       "18               DECLARACIONES Y PAGOS (DYP)   4  \n",
       "21                                  INTRASAT   4  \n",
       "55                                       MAT  17  \n",
       "44                                  CERTISAT  11  \n",
       "41                   APLICATIVO DE REGISTRO    6  \n",
       "43                                  CELESTIA   4  \n",
       "45                                   CHIIKUL   4  \n",
       "63           SISTEMA INTEGRAL DE SEGUIMIENTO   4  \n",
       "66                          VISOR DE E.FIRMA   4  \n",
       "58                            PORTAL DEL SAT   3  \n",
       "53                                  INTRASAT   2  \n",
       "60                                  SIAT-MAT   2  \n",
       "68                                  CERTISAT   3  \n",
       "75                        SISTEMA DE TURNOS    2  \n",
       "67                   APLICATIVO DE REGISTRO    1  \n",
       "69          CONTROL DE GESTIÓN PARA TRÁMITES   1  \n",
       "70                           CONTROL GESTION   1  \n",
       "71                     CUENTA ÚNICA NACIONAL   1  \n",
       "72                                 DARIO WEB   1  \n",
       "73                       PAPERSTREAM CAPTURE   1  \n",
       "74  SISTEMA DE ATENCIÓN SOCIOS Y ACCIONISTAS   1  \n",
       "76                     SOCIOS Y ACCIONISTAS    1  \n",
       "81                                  CERTISAT   4  \n",
       "82                                   CHIIKUL   3  \n",
       "87                          VISOR DE E.FIRMA   2  \n",
       "79                   APLICATIVO DE REGISTRO    1  \n",
       "80                      APLICATIVO DE RIESGO   1  \n",
       "83                                       MAT   1  \n",
       "84                                PORTAL WEB   1  \n",
       "85                                  SAIE III   1  \n",
       "86                         SISTEMA DE FOLIOS   1  "
      ]
     },
     "execution_count": 255,
     "metadata": {},
     "output_type": "execute_result"
    }
   ],
   "source": [
    "Filtro_D13 = ['Lentitud general', 'Saturación y Acceso', 'Tiempo de espera', 'Soporte y mantenimiento deficiente']\n",
    "\n",
    "DES_NEW[DES_NEW['D13'].isin(Filtro_D13)].groupby(['D13', 'D20'])['D1'].\\\n",
    "                       nunique().reset_index().groupby('D13', group_keys = False).\\\n",
    "                       apply(lambda x: x.nlargest(10, 'D1'))"
   ]
  },
  {
   "cell_type": "code",
   "execution_count": 256,
   "id": "a0007f83-93c8-4f92-ab3d-dfd7b2b53ddf",
   "metadata": {},
   "outputs": [
    {
     "data": {
      "text/html": [
       "<div>\n",
       "<style scoped>\n",
       "    .dataframe tbody tr th:only-of-type {\n",
       "        vertical-align: middle;\n",
       "    }\n",
       "\n",
       "    .dataframe tbody tr th {\n",
       "        vertical-align: top;\n",
       "    }\n",
       "\n",
       "    .dataframe thead th {\n",
       "        text-align: right;\n",
       "    }\n",
       "</style>\n",
       "<table border=\"1\" class=\"dataframe\">\n",
       "  <thead>\n",
       "    <tr style=\"text-align: right;\">\n",
       "      <th></th>\n",
       "      <th>D20</th>\n",
       "      <th>D17</th>\n",
       "      <th>D1</th>\n",
       "    </tr>\n",
       "  </thead>\n",
       "  <tbody>\n",
       "    <tr>\n",
       "      <th>115</th>\n",
       "      <td>MAT</td>\n",
       "      <td>RU</td>\n",
       "      <td>4</td>\n",
       "    </tr>\n",
       "    <tr>\n",
       "      <th>48</th>\n",
       "      <td>CERTISAT</td>\n",
       "      <td>FORMATO DE CONTINGENCIA Y CERTISAT WEB</td>\n",
       "      <td>3</td>\n",
       "    </tr>\n",
       "    <tr>\n",
       "      <th>117</th>\n",
       "      <td>MAT</td>\n",
       "      <td>RU/RX  Formato de contingencia</td>\n",
       "      <td>3</td>\n",
       "    </tr>\n",
       "    <tr>\n",
       "      <th>121</th>\n",
       "      <td>MAT</td>\n",
       "      <td>SOLUCION INTEGRAL</td>\n",
       "      <td>3</td>\n",
       "    </tr>\n",
       "    <tr>\n",
       "      <th>185</th>\n",
       "      <td>VISOR DE E.FIRMA</td>\n",
       "      <td>SE VALIDA MAS TARDE</td>\n",
       "      <td>2</td>\n",
       "    </tr>\n",
       "    <tr>\n",
       "      <th>126</th>\n",
       "      <td>MAT</td>\n",
       "      <td>SOLUCIÓN INTEGRAL, FORMATOS ALTERNATIVOS RU</td>\n",
       "      <td>2</td>\n",
       "    </tr>\n",
       "    <tr>\n",
       "      <th>35</th>\n",
       "      <td>CERTISAT</td>\n",
       "      <td>Acuses alternativos de Contingencia</td>\n",
       "      <td>2</td>\n",
       "    </tr>\n",
       "    <tr>\n",
       "      <th>38</th>\n",
       "      <td>CERTISAT</td>\n",
       "      <td>CERTISAT WEB</td>\n",
       "      <td>2</td>\n",
       "    </tr>\n",
       "    <tr>\n",
       "      <th>47</th>\n",
       "      <td>CERTISAT</td>\n",
       "      <td>FORMATO DE CONTINGENCIA</td>\n",
       "      <td>2</td>\n",
       "    </tr>\n",
       "    <tr>\n",
       "      <th>52</th>\n",
       "      <td>CERTISAT</td>\n",
       "      <td>FORMATOS DE CONTINGENCIA Y CERTISAT WEB</td>\n",
       "      <td>2</td>\n",
       "    </tr>\n",
       "    <tr>\n",
       "      <th>129</th>\n",
       "      <td>MAT</td>\n",
       "      <td>Solución Integral</td>\n",
       "      <td>2</td>\n",
       "    </tr>\n",
       "    <tr>\n",
       "      <th>124</th>\n",
       "      <td>MAT</td>\n",
       "      <td>SOLUCIÓN INTEGRAL</td>\n",
       "      <td>2</td>\n",
       "    </tr>\n",
       "    <tr>\n",
       "      <th>69</th>\n",
       "      <td>CHIIKUL</td>\n",
       "      <td>SE ESPERA A QUE SE RESTABLEZCA</td>\n",
       "      <td>2</td>\n",
       "    </tr>\n",
       "    <tr>\n",
       "      <th>21</th>\n",
       "      <td>APLICATIVO DE REGISTRO DE E. FIRMA</td>\n",
       "      <td>SE CONTINUA CON EL TRAMITE</td>\n",
       "      <td>2</td>\n",
       "    </tr>\n",
       "    <tr>\n",
       "      <th>72</th>\n",
       "      <td>CONTROL DE GESTIÓN PARA TRÁMITES</td>\n",
       "      <td>FORMATO DE CONTINGENCIA</td>\n",
       "      <td>2</td>\n",
       "    </tr>\n",
       "  </tbody>\n",
       "</table>\n",
       "</div>"
      ],
      "text/plain": [
       "                                    D20  \\\n",
       "115                                 MAT   \n",
       "48                             CERTISAT   \n",
       "117                                 MAT   \n",
       "121                                 MAT   \n",
       "185                    VISOR DE E.FIRMA   \n",
       "126                                 MAT   \n",
       "35                             CERTISAT   \n",
       "38                             CERTISAT   \n",
       "47                             CERTISAT   \n",
       "52                             CERTISAT   \n",
       "129                                 MAT   \n",
       "124                                 MAT   \n",
       "69                              CHIIKUL   \n",
       "21   APLICATIVO DE REGISTRO DE E. FIRMA   \n",
       "72     CONTROL DE GESTIÓN PARA TRÁMITES   \n",
       "\n",
       "                                             D17  D1  \n",
       "115                                           RU   4  \n",
       "48        FORMATO DE CONTINGENCIA Y CERTISAT WEB   3  \n",
       "117               RU/RX  Formato de contingencia   3  \n",
       "121                            SOLUCION INTEGRAL   3  \n",
       "185                          SE VALIDA MAS TARDE   2  \n",
       "126  SOLUCIÓN INTEGRAL, FORMATOS ALTERNATIVOS RU   2  \n",
       "35           Acuses alternativos de Contingencia   2  \n",
       "38                                  CERTISAT WEB   2  \n",
       "47                      FORMATO DE CONTINGENCIA    2  \n",
       "52       FORMATOS DE CONTINGENCIA Y CERTISAT WEB   2  \n",
       "129                            Solución Integral   2  \n",
       "124                            SOLUCIÓN INTEGRAL   2  \n",
       "69               SE ESPERA A QUE SE RESTABLEZCA    2  \n",
       "21                   SE CONTINUA CON EL TRAMITE    2  \n",
       "72                      FORMATO DE CONTINGENCIA    2  "
      ]
     },
     "execution_count": 256,
     "metadata": {},
     "output_type": "execute_result"
    }
   ],
   "source": [
    "DES_NEW.groupby(['D20','D17']).agg({'D1': 'nunique'}).reset_index().sort_values(by = ['D1'], ascending = False).head(15)"
   ]
  },
  {
   "cell_type": "code",
   "execution_count": 257,
   "id": "02f2a5c2-40b3-44c7-98bb-7e9edd12ff52",
   "metadata": {},
   "outputs": [],
   "source": [
    "tt = DES_NEW.groupby(['D20'])['D1'].nunique().reset_index().sort_values(by = ['D1'], ascending = False).head(10)\n",
    "mm = DES_NEW[DES_NEW['D20'].isin(tt.D20.to_list())]"
   ]
  },
  {
   "cell_type": "code",
   "execution_count": 258,
   "id": "feed9047-21d7-4b22-b5b0-cc5c13cb1a9d",
   "metadata": {},
   "outputs": [
    {
     "data": {
      "text/html": [
       "<div>\n",
       "<style scoped>\n",
       "    .dataframe tbody tr th:only-of-type {\n",
       "        vertical-align: middle;\n",
       "    }\n",
       "\n",
       "    .dataframe tbody tr th {\n",
       "        vertical-align: top;\n",
       "    }\n",
       "\n",
       "    .dataframe thead th {\n",
       "        text-align: right;\n",
       "    }\n",
       "</style>\n",
       "<table border=\"1\" class=\"dataframe\">\n",
       "  <thead>\n",
       "    <tr style=\"text-align: right;\">\n",
       "      <th></th>\n",
       "      <th>D20</th>\n",
       "      <th>D17</th>\n",
       "      <th>D1</th>\n",
       "    </tr>\n",
       "  </thead>\n",
       "  <tbody>\n",
       "    <tr>\n",
       "      <th>7</th>\n",
       "      <td>APLICATIVO DE REGISTRO</td>\n",
       "      <td>FORMATO DE CONTINGENCIA</td>\n",
       "      <td>2</td>\n",
       "    </tr>\n",
       "    <tr>\n",
       "      <th>0</th>\n",
       "      <td>APLICATIVO DE REGISTRO</td>\n",
       "      <td>ACUSE ALTERNATIVO PARA QUE EL CERTIFICADO DE E...</td>\n",
       "      <td>1</td>\n",
       "    </tr>\n",
       "    <tr>\n",
       "      <th>1</th>\n",
       "      <td>APLICATIVO DE REGISTRO</td>\n",
       "      <td>ALTERNATIVO</td>\n",
       "      <td>1</td>\n",
       "    </tr>\n",
       "    <tr>\n",
       "      <th>2</th>\n",
       "      <td>APLICATIVO DE REGISTRO</td>\n",
       "      <td>Acuse alternativo</td>\n",
       "      <td>1</td>\n",
       "    </tr>\n",
       "    <tr>\n",
       "      <th>3</th>\n",
       "      <td>APLICATIVO DE REGISTRO</td>\n",
       "      <td>Acuse alternativo de Generacion de Certificado...</td>\n",
       "      <td>1</td>\n",
       "    </tr>\n",
       "    <tr>\n",
       "      <th>36</th>\n",
       "      <td>CERTISAT</td>\n",
       "      <td>FORMATO DE CONTINGENCIA Y CERTISAT WEB</td>\n",
       "      <td>3</td>\n",
       "    </tr>\n",
       "    <tr>\n",
       "      <th>23</th>\n",
       "      <td>CERTISAT</td>\n",
       "      <td>Acuses alternativos de Contingencia</td>\n",
       "      <td>2</td>\n",
       "    </tr>\n",
       "    <tr>\n",
       "      <th>26</th>\n",
       "      <td>CERTISAT</td>\n",
       "      <td>CERTISAT WEB</td>\n",
       "      <td>2</td>\n",
       "    </tr>\n",
       "    <tr>\n",
       "      <th>35</th>\n",
       "      <td>CERTISAT</td>\n",
       "      <td>FORMATO DE CONTINGENCIA</td>\n",
       "      <td>2</td>\n",
       "    </tr>\n",
       "    <tr>\n",
       "      <th>40</th>\n",
       "      <td>CERTISAT</td>\n",
       "      <td>FORMATOS DE CONTINGENCIA Y CERTISAT WEB</td>\n",
       "      <td>2</td>\n",
       "    </tr>\n",
       "    <tr>\n",
       "      <th>57</th>\n",
       "      <td>CHIIKUL</td>\n",
       "      <td>SE ESPERA A QUE SE RESTABLEZCA</td>\n",
       "      <td>2</td>\n",
       "    </tr>\n",
       "    <tr>\n",
       "      <th>54</th>\n",
       "      <td>CHIIKUL</td>\n",
       "      <td>Captura de pantalla al superior para levantar ...</td>\n",
       "      <td>1</td>\n",
       "    </tr>\n",
       "    <tr>\n",
       "      <th>55</th>\n",
       "      <td>CHIIKUL</td>\n",
       "      <td>Correo por  reporte de falla</td>\n",
       "      <td>1</td>\n",
       "    </tr>\n",
       "    <tr>\n",
       "      <th>56</th>\n",
       "      <td>CHIIKUL</td>\n",
       "      <td>Esperar respuesta del Servidor</td>\n",
       "      <td>1</td>\n",
       "    </tr>\n",
       "    <tr>\n",
       "      <th>58</th>\n",
       "      <td>CHIIKUL</td>\n",
       "      <td>Si, Correo electrónico</td>\n",
       "      <td>1</td>\n",
       "    </tr>\n",
       "    <tr>\n",
       "      <th>59</th>\n",
       "      <td>INTRASAT</td>\n",
       "      <td>Captura de pantalla al superior para levantar ...</td>\n",
       "      <td>1</td>\n",
       "    </tr>\n",
       "    <tr>\n",
       "      <th>60</th>\n",
       "      <td>INTRASAT</td>\n",
       "      <td>Correo por  reporte de falla</td>\n",
       "      <td>1</td>\n",
       "    </tr>\n",
       "    <tr>\n",
       "      <th>61</th>\n",
       "      <td>INTRASAT</td>\n",
       "      <td>Esperar respuesta del Servidor</td>\n",
       "      <td>1</td>\n",
       "    </tr>\n",
       "    <tr>\n",
       "      <th>62</th>\n",
       "      <td>INTRASAT</td>\n",
       "      <td>LIGAS DIRECTAS</td>\n",
       "      <td>1</td>\n",
       "    </tr>\n",
       "    <tr>\n",
       "      <th>63</th>\n",
       "      <td>INTRASAT</td>\n",
       "      <td>Si, Formatos Alternativos</td>\n",
       "      <td>1</td>\n",
       "    </tr>\n",
       "    <tr>\n",
       "      <th>80</th>\n",
       "      <td>MAT</td>\n",
       "      <td>RU</td>\n",
       "      <td>4</td>\n",
       "    </tr>\n",
       "    <tr>\n",
       "      <th>82</th>\n",
       "      <td>MAT</td>\n",
       "      <td>RU/RX  Formato de contingencia</td>\n",
       "      <td>3</td>\n",
       "    </tr>\n",
       "    <tr>\n",
       "      <th>86</th>\n",
       "      <td>MAT</td>\n",
       "      <td>SOLUCION INTEGRAL</td>\n",
       "      <td>3</td>\n",
       "    </tr>\n",
       "    <tr>\n",
       "      <th>70</th>\n",
       "      <td>MAT</td>\n",
       "      <td>FORMATO DE CONTINGENCIA</td>\n",
       "      <td>2</td>\n",
       "    </tr>\n",
       "    <tr>\n",
       "      <th>75</th>\n",
       "      <td>MAT</td>\n",
       "      <td>Formato RU</td>\n",
       "      <td>2</td>\n",
       "    </tr>\n",
       "    <tr>\n",
       "      <th>98</th>\n",
       "      <td>SISTEMA DE FOLIOS</td>\n",
       "      <td>Apoyo del control interno del modulo que es un...</td>\n",
       "      <td>1</td>\n",
       "    </tr>\n",
       "    <tr>\n",
       "      <th>99</th>\n",
       "      <td>SISTEMA DE FOLIOS</td>\n",
       "      <td>LIBRETA MANUAL</td>\n",
       "      <td>1</td>\n",
       "    </tr>\n",
       "    <tr>\n",
       "      <th>100</th>\n",
       "      <td>SISTEMA DE FOLIOS</td>\n",
       "      <td>Registro manual de folios (libro)</td>\n",
       "      <td>1</td>\n",
       "    </tr>\n",
       "    <tr>\n",
       "      <th>101</th>\n",
       "      <td>SISTEMA DE FOLIOS</td>\n",
       "      <td>SE ASIGNAN FOLIOS MANUALES</td>\n",
       "      <td>1</td>\n",
       "    </tr>\n",
       "    <tr>\n",
       "      <th>115</th>\n",
       "      <td>SISTEMA DE TURNOS</td>\n",
       "      <td>SE SOLICITA AUTORIZACIÓN PARA LLAMADO POR VOZ</td>\n",
       "      <td>2</td>\n",
       "    </tr>\n",
       "    <tr>\n",
       "      <th>102</th>\n",
       "      <td>SISTEMA DE TURNOS</td>\n",
       "      <td>\\nACCESO DE CONTINGENCIASISTEMA DE TURNOS</td>\n",
       "      <td>1</td>\n",
       "    </tr>\n",
       "    <tr>\n",
       "      <th>103</th>\n",
       "      <td>SISTEMA DE TURNOS</td>\n",
       "      <td>CITASAT</td>\n",
       "      <td>1</td>\n",
       "    </tr>\n",
       "    <tr>\n",
       "      <th>104</th>\n",
       "      <td>SISTEMA DE TURNOS</td>\n",
       "      <td>CONTINGENCIA TURNOS MANUELES</td>\n",
       "      <td>1</td>\n",
       "    </tr>\n",
       "    <tr>\n",
       "      <th>105</th>\n",
       "      <td>SISTEMA DE TURNOS</td>\n",
       "      <td>CONTROL DE TURNOS</td>\n",
       "      <td>1</td>\n",
       "    </tr>\n",
       "    <tr>\n",
       "      <th>117</th>\n",
       "      <td>SISTEMA INTEGRAL DE SEGUIMIENTO</td>\n",
       "      <td>Captura de pantalla al superior para levantar ...</td>\n",
       "      <td>1</td>\n",
       "    </tr>\n",
       "    <tr>\n",
       "      <th>118</th>\n",
       "      <td>SISTEMA INTEGRAL DE SEGUIMIENTO</td>\n",
       "      <td>Correo por  reporte de falla</td>\n",
       "      <td>1</td>\n",
       "    </tr>\n",
       "    <tr>\n",
       "      <th>119</th>\n",
       "      <td>SISTEMA INTEGRAL DE SEGUIMIENTO</td>\n",
       "      <td>Esperar respuesta del Servidor</td>\n",
       "      <td>1</td>\n",
       "    </tr>\n",
       "    <tr>\n",
       "      <th>120</th>\n",
       "      <td>SISTEMA INTEGRAL DE SEGUIMIENTO</td>\n",
       "      <td>FORMATO DE CONTINGENCIA</td>\n",
       "      <td>1</td>\n",
       "    </tr>\n",
       "    <tr>\n",
       "      <th>121</th>\n",
       "      <td>SISTEMA INTEGRAL DE SEGUIMIENTO</td>\n",
       "      <td>SE ESPERA A QUE SE RESTABLEZCA</td>\n",
       "      <td>1</td>\n",
       "    </tr>\n",
       "    <tr>\n",
       "      <th>123</th>\n",
       "      <td>SOLUCIÓN INTEGRAL</td>\n",
       "      <td>UTILIZAMOS MAT RFC</td>\n",
       "      <td>2</td>\n",
       "    </tr>\n",
       "    <tr>\n",
       "      <th>122</th>\n",
       "      <td>SOLUCIÓN INTEGRAL</td>\n",
       "      <td>MI PORTAL CONTRIBUYENTE</td>\n",
       "      <td>1</td>\n",
       "    </tr>\n",
       "    <tr>\n",
       "      <th>129</th>\n",
       "      <td>VISOR DE E.FIRMA</td>\n",
       "      <td>SE VALIDA MAS TARDE</td>\n",
       "      <td>2</td>\n",
       "    </tr>\n",
       "    <tr>\n",
       "      <th>124</th>\n",
       "      <td>VISOR DE E.FIRMA</td>\n",
       "      <td>CERTISAT WEB</td>\n",
       "      <td>1</td>\n",
       "    </tr>\n",
       "    <tr>\n",
       "      <th>125</th>\n",
       "      <td>VISOR DE E.FIRMA</td>\n",
       "      <td>Captura de pantalla al superior para levantar ...</td>\n",
       "      <td>1</td>\n",
       "    </tr>\n",
       "    <tr>\n",
       "      <th>126</th>\n",
       "      <td>VISOR DE E.FIRMA</td>\n",
       "      <td>Esperar respuesta del Servidor</td>\n",
       "      <td>1</td>\n",
       "    </tr>\n",
       "    <tr>\n",
       "      <th>127</th>\n",
       "      <td>VISOR DE E.FIRMA</td>\n",
       "      <td>Formato Alternativo</td>\n",
       "      <td>1</td>\n",
       "    </tr>\n",
       "  </tbody>\n",
       "</table>\n",
       "</div>"
      ],
      "text/plain": [
       "                                 D20  \\\n",
       "7            APLICATIVO DE REGISTRO    \n",
       "0            APLICATIVO DE REGISTRO    \n",
       "1            APLICATIVO DE REGISTRO    \n",
       "2            APLICATIVO DE REGISTRO    \n",
       "3            APLICATIVO DE REGISTRO    \n",
       "36                          CERTISAT   \n",
       "23                          CERTISAT   \n",
       "26                          CERTISAT   \n",
       "35                          CERTISAT   \n",
       "40                          CERTISAT   \n",
       "57                           CHIIKUL   \n",
       "54                           CHIIKUL   \n",
       "55                           CHIIKUL   \n",
       "56                           CHIIKUL   \n",
       "58                           CHIIKUL   \n",
       "59                          INTRASAT   \n",
       "60                          INTRASAT   \n",
       "61                          INTRASAT   \n",
       "62                          INTRASAT   \n",
       "63                          INTRASAT   \n",
       "80                               MAT   \n",
       "82                               MAT   \n",
       "86                               MAT   \n",
       "70                               MAT   \n",
       "75                               MAT   \n",
       "98                 SISTEMA DE FOLIOS   \n",
       "99                 SISTEMA DE FOLIOS   \n",
       "100                SISTEMA DE FOLIOS   \n",
       "101                SISTEMA DE FOLIOS   \n",
       "115               SISTEMA DE TURNOS    \n",
       "102               SISTEMA DE TURNOS    \n",
       "103               SISTEMA DE TURNOS    \n",
       "104               SISTEMA DE TURNOS    \n",
       "105               SISTEMA DE TURNOS    \n",
       "117  SISTEMA INTEGRAL DE SEGUIMIENTO   \n",
       "118  SISTEMA INTEGRAL DE SEGUIMIENTO   \n",
       "119  SISTEMA INTEGRAL DE SEGUIMIENTO   \n",
       "120  SISTEMA INTEGRAL DE SEGUIMIENTO   \n",
       "121  SISTEMA INTEGRAL DE SEGUIMIENTO   \n",
       "123               SOLUCIÓN INTEGRAL    \n",
       "122               SOLUCIÓN INTEGRAL    \n",
       "129                 VISOR DE E.FIRMA   \n",
       "124                 VISOR DE E.FIRMA   \n",
       "125                 VISOR DE E.FIRMA   \n",
       "126                 VISOR DE E.FIRMA   \n",
       "127                 VISOR DE E.FIRMA   \n",
       "\n",
       "                                                   D17  D1  \n",
       "7                             FORMATO DE CONTINGENCIA    2  \n",
       "0    ACUSE ALTERNATIVO PARA QUE EL CERTIFICADO DE E...   1  \n",
       "1                                          ALTERNATIVO   1  \n",
       "2                                   Acuse alternativo    1  \n",
       "3    Acuse alternativo de Generacion de Certificado...   1  \n",
       "36              FORMATO DE CONTINGENCIA Y CERTISAT WEB   3  \n",
       "23                 Acuses alternativos de Contingencia   2  \n",
       "26                                        CERTISAT WEB   2  \n",
       "35                            FORMATO DE CONTINGENCIA    2  \n",
       "40             FORMATOS DE CONTINGENCIA Y CERTISAT WEB   2  \n",
       "57                     SE ESPERA A QUE SE RESTABLEZCA    2  \n",
       "54   Captura de pantalla al superior para levantar ...   1  \n",
       "55                       Correo por  reporte de falla    1  \n",
       "56                     Esperar respuesta del Servidor    1  \n",
       "58                              Si, Correo electrónico   1  \n",
       "59   Captura de pantalla al superior para levantar ...   1  \n",
       "60                       Correo por  reporte de falla    1  \n",
       "61                     Esperar respuesta del Servidor    1  \n",
       "62                                      LIGAS DIRECTAS   1  \n",
       "63                           Si, Formatos Alternativos   1  \n",
       "80                                                  RU   4  \n",
       "82                      RU/RX  Formato de contingencia   3  \n",
       "86                                   SOLUCION INTEGRAL   3  \n",
       "70                            FORMATO DE CONTINGENCIA    2  \n",
       "75                                          Formato RU   2  \n",
       "98   Apoyo del control interno del modulo que es un...   1  \n",
       "99                                      LIBRETA MANUAL   1  \n",
       "100                  Registro manual de folios (libro)   1  \n",
       "101                        SE ASIGNAN FOLIOS MANUALES    1  \n",
       "115      SE SOLICITA AUTORIZACIÓN PARA LLAMADO POR VOZ   2  \n",
       "102          \\nACCESO DE CONTINGENCIASISTEMA DE TURNOS   1  \n",
       "103                                            CITASAT   1  \n",
       "104                      CONTINGENCIA TURNOS MANUELES    1  \n",
       "105                                 CONTROL DE TURNOS    1  \n",
       "117  Captura de pantalla al superior para levantar ...   1  \n",
       "118                      Correo por  reporte de falla    1  \n",
       "119                    Esperar respuesta del Servidor    1  \n",
       "120                            FORMATO DE CONTINGENCIA   1  \n",
       "121                    SE ESPERA A QUE SE RESTABLEZCA    1  \n",
       "123                                 UTILIZAMOS MAT RFC   2  \n",
       "122                            MI PORTAL CONTRIBUYENTE   1  \n",
       "129                                SE VALIDA MAS TARDE   2  \n",
       "124                                       CERTISAT WEB   1  \n",
       "125  Captura de pantalla al superior para levantar ...   1  \n",
       "126                    Esperar respuesta del Servidor    1  \n",
       "127                               Formato Alternativo    1  "
      ]
     },
     "execution_count": 258,
     "metadata": {},
     "output_type": "execute_result"
    }
   ],
   "source": [
    "mm.groupby(['D20', 'D17'])['D1'].nunique().reset_index().groupby('D20', group_keys = False).\\\n",
    "                       apply(lambda x: x.nlargest(5, 'D1'))"
   ]
  },
  {
   "cell_type": "code",
   "execution_count": null,
   "id": "778a8310-315e-42f8-82a3-3291b8a5c6d9",
   "metadata": {},
   "outputs": [],
   "source": []
  },
  {
   "cell_type": "code",
   "execution_count": 262,
   "id": "3b245cc6-be26-4de0-a8a3-7ac85a0cd4c4",
   "metadata": {},
   "outputs": [],
   "source": [
    "Experiencia = pd.read_excel(Base + 'Mexico_2.xlsx', sheet_name = 'B2' )\n",
    "EXP_DIC, EXP_NEW = Rename_SAT(Experiencia, 'E', '{}')"
   ]
  },
  {
   "cell_type": "code",
   "execution_count": 263,
   "id": "100fc092-3e5b-4b0a-8f61-d396e1bda3cd",
   "metadata": {},
   "outputs": [
    {
     "data": {
      "text/html": [
       "<div>\n",
       "<style scoped>\n",
       "    .dataframe tbody tr th:only-of-type {\n",
       "        vertical-align: middle;\n",
       "    }\n",
       "\n",
       "    .dataframe tbody tr th {\n",
       "        vertical-align: top;\n",
       "    }\n",
       "\n",
       "    .dataframe thead th {\n",
       "        text-align: right;\n",
       "    }\n",
       "</style>\n",
       "<table border=\"1\" class=\"dataframe\">\n",
       "  <thead>\n",
       "    <tr style=\"text-align: right;\">\n",
       "      <th></th>\n",
       "      <th>E1</th>\n",
       "      <th>E2</th>\n",
       "      <th>E3</th>\n",
       "      <th>E4</th>\n",
       "      <th>E5</th>\n",
       "      <th>E6</th>\n",
       "      <th>E7</th>\n",
       "      <th>E8</th>\n",
       "      <th>E9</th>\n",
       "      <th>E10</th>\n",
       "      <th>E11</th>\n",
       "      <th>E12</th>\n",
       "      <th>E13</th>\n",
       "      <th>E14</th>\n",
       "      <th>E15</th>\n",
       "    </tr>\n",
       "  </thead>\n",
       "  <tbody>\n",
       "    <tr>\n",
       "      <th>0</th>\n",
       "      <td>MEAA946L</td>\n",
       "      <td>ANTONIO GIOVANNY MEDINA AVALOS</td>\n",
       "      <td>Desconcentrada</td>\n",
       "      <td>AGSC</td>\n",
       "      <td>ADMINISTRACIÓN DESCONCENTRADA DE SERVICIOS AL ...</td>\n",
       "      <td>AGSC</td>\n",
       "      <td>0 a 5 años</td>\n",
       "      <td>Jefe de Departamento</td>\n",
       "      <td>Sí</td>\n",
       "      <td>No</td>\n",
       "      <td>Sí</td>\n",
       "      <td>No</td>\n",
       "      <td>No</td>\n",
       "      <td>NaN</td>\n",
       "      <td>NaN</td>\n",
       "    </tr>\n",
       "    <tr>\n",
       "      <th>1</th>\n",
       "      <td>GAVA989H</td>\n",
       "      <td>ABIGAIL GALVAN VALENTE</td>\n",
       "      <td>Desconcentrada</td>\n",
       "      <td>AGSC</td>\n",
       "      <td>ADMINISTRACIÓN DESCONCENTRADA DE SERVICIOS AL ...</td>\n",
       "      <td>AGSC</td>\n",
       "      <td>0 a 5 años</td>\n",
       "      <td>Enlace</td>\n",
       "      <td>Sí</td>\n",
       "      <td>No aplica</td>\n",
       "      <td>Sí</td>\n",
       "      <td>Sin respuesta</td>\n",
       "      <td>No</td>\n",
       "      <td>NaN</td>\n",
       "      <td>NaN</td>\n",
       "    </tr>\n",
       "  </tbody>\n",
       "</table>\n",
       "</div>"
      ],
      "text/plain": [
       "         E1                              E2              E3    E4  \\\n",
       "0  MEAA946L  ANTONIO GIOVANNY MEDINA AVALOS  Desconcentrada  AGSC   \n",
       "1  GAVA989H         ABIGAIL GALVAN VALENTE   Desconcentrada  AGSC   \n",
       "\n",
       "                                                  E5    E6          E7  \\\n",
       "0  ADMINISTRACIÓN DESCONCENTRADA DE SERVICIOS AL ...  AGSC  0 a 5 años   \n",
       "1  ADMINISTRACIÓN DESCONCENTRADA DE SERVICIOS AL ...  AGSC  0 a 5 años   \n",
       "\n",
       "                     E8  E9        E10 E11            E12 E13  E14  E15  \n",
       "0  Jefe de Departamento  Sí         No  Sí             No  No  NaN  NaN  \n",
       "1                Enlace  Sí  No aplica  Sí  Sin respuesta  No  NaN  NaN  "
      ]
     },
     "execution_count": 263,
     "metadata": {},
     "output_type": "execute_result"
    }
   ],
   "source": [
    "EXP_NEW.head(2)"
   ]
  },
  {
   "cell_type": "code",
   "execution_count": null,
   "id": "1a64d902-2905-4b8d-8540-fc7f852dc0a3",
   "metadata": {},
   "outputs": [],
   "source": []
  },
  {
   "cell_type": "code",
   "execution_count": 272,
   "id": "3da28d15-2e78-49d4-8365-4e2c2baa8714",
   "metadata": {},
   "outputs": [
    {
     "data": {
      "text/html": [
       "<div>\n",
       "<style scoped>\n",
       "    .dataframe tbody tr th:only-of-type {\n",
       "        vertical-align: middle;\n",
       "    }\n",
       "\n",
       "    .dataframe tbody tr th {\n",
       "        vertical-align: top;\n",
       "    }\n",
       "\n",
       "    .dataframe thead th {\n",
       "        text-align: right;\n",
       "    }\n",
       "</style>\n",
       "<table border=\"1\" class=\"dataframe\">\n",
       "  <thead>\n",
       "    <tr style=\"text-align: right;\">\n",
       "      <th></th>\n",
       "      <th>E9</th>\n",
       "      <th>E1</th>\n",
       "    </tr>\n",
       "  </thead>\n",
       "  <tbody>\n",
       "    <tr>\n",
       "      <th>0</th>\n",
       "      <td>No</td>\n",
       "      <td>36</td>\n",
       "    </tr>\n",
       "    <tr>\n",
       "      <th>3</th>\n",
       "      <td>Sí</td>\n",
       "      <td>29</td>\n",
       "    </tr>\n",
       "    <tr>\n",
       "      <th>1</th>\n",
       "      <td>No aplica</td>\n",
       "      <td>3</td>\n",
       "    </tr>\n",
       "    <tr>\n",
       "      <th>2</th>\n",
       "      <td>Sin respuesta</td>\n",
       "      <td>3</td>\n",
       "    </tr>\n",
       "  </tbody>\n",
       "</table>\n",
       "</div>"
      ],
      "text/plain": [
       "              E9  E1\n",
       "0             No  36\n",
       "3             Sí  29\n",
       "1      No aplica   3\n",
       "2  Sin respuesta   3"
      ]
     },
     "execution_count": 272,
     "metadata": {},
     "output_type": "execute_result"
    }
   ],
   "source": [
    "EXP_NEW.groupby(['E9'])['E1'].nunique().reset_index().sort_values(by = ['E1'], ascending = False)"
   ]
  },
  {
   "cell_type": "code",
   "execution_count": 273,
   "id": "68ccde7d-162f-448a-ac1f-b232e34bae6c",
   "metadata": {},
   "outputs": [
    {
     "data": {
      "text/html": [
       "<div>\n",
       "<style scoped>\n",
       "    .dataframe tbody tr th:only-of-type {\n",
       "        vertical-align: middle;\n",
       "    }\n",
       "\n",
       "    .dataframe tbody tr th {\n",
       "        vertical-align: top;\n",
       "    }\n",
       "\n",
       "    .dataframe thead th {\n",
       "        text-align: right;\n",
       "    }\n",
       "</style>\n",
       "<table border=\"1\" class=\"dataframe\">\n",
       "  <thead>\n",
       "    <tr style=\"text-align: right;\">\n",
       "      <th></th>\n",
       "      <th>E10</th>\n",
       "      <th>E1</th>\n",
       "    </tr>\n",
       "  </thead>\n",
       "  <tbody>\n",
       "    <tr>\n",
       "      <th>0</th>\n",
       "      <td>No</td>\n",
       "      <td>39</td>\n",
       "    </tr>\n",
       "    <tr>\n",
       "      <th>3</th>\n",
       "      <td>Sí</td>\n",
       "      <td>23</td>\n",
       "    </tr>\n",
       "    <tr>\n",
       "      <th>1</th>\n",
       "      <td>No aplica</td>\n",
       "      <td>6</td>\n",
       "    </tr>\n",
       "    <tr>\n",
       "      <th>2</th>\n",
       "      <td>Sin respuesta</td>\n",
       "      <td>3</td>\n",
       "    </tr>\n",
       "  </tbody>\n",
       "</table>\n",
       "</div>"
      ],
      "text/plain": [
       "             E10  E1\n",
       "0             No  39\n",
       "3             Sí  23\n",
       "1      No aplica   6\n",
       "2  Sin respuesta   3"
      ]
     },
     "execution_count": 273,
     "metadata": {},
     "output_type": "execute_result"
    }
   ],
   "source": [
    "EXP_NEW.groupby(['E10'])['E1'].nunique().reset_index().sort_values(by = ['E1'], ascending = False)"
   ]
  },
  {
   "cell_type": "code",
   "execution_count": 274,
   "id": "8d29af47-f84b-4179-a23e-6be195452063",
   "metadata": {},
   "outputs": [
    {
     "data": {
      "text/html": [
       "<div>\n",
       "<style scoped>\n",
       "    .dataframe tbody tr th:only-of-type {\n",
       "        vertical-align: middle;\n",
       "    }\n",
       "\n",
       "    .dataframe tbody tr th {\n",
       "        vertical-align: top;\n",
       "    }\n",
       "\n",
       "    .dataframe thead th {\n",
       "        text-align: right;\n",
       "    }\n",
       "</style>\n",
       "<table border=\"1\" class=\"dataframe\">\n",
       "  <thead>\n",
       "    <tr style=\"text-align: right;\">\n",
       "      <th></th>\n",
       "      <th>E11</th>\n",
       "      <th>E1</th>\n",
       "    </tr>\n",
       "  </thead>\n",
       "  <tbody>\n",
       "    <tr>\n",
       "      <th>2</th>\n",
       "      <td>Sí</td>\n",
       "      <td>52</td>\n",
       "    </tr>\n",
       "    <tr>\n",
       "      <th>0</th>\n",
       "      <td>No</td>\n",
       "      <td>16</td>\n",
       "    </tr>\n",
       "    <tr>\n",
       "      <th>1</th>\n",
       "      <td>Sin respuesta</td>\n",
       "      <td>2</td>\n",
       "    </tr>\n",
       "  </tbody>\n",
       "</table>\n",
       "</div>"
      ],
      "text/plain": [
       "             E11  E1\n",
       "2             Sí  52\n",
       "0             No  16\n",
       "1  Sin respuesta   2"
      ]
     },
     "execution_count": 274,
     "metadata": {},
     "output_type": "execute_result"
    }
   ],
   "source": [
    "EXP_NEW.groupby(['E11'])['E1'].nunique().reset_index().sort_values(by = ['E1'], ascending = False)"
   ]
  },
  {
   "cell_type": "code",
   "execution_count": 275,
   "id": "92b88589-8358-4910-8948-9848e72ec3a1",
   "metadata": {},
   "outputs": [
    {
     "data": {
      "text/html": [
       "<div>\n",
       "<style scoped>\n",
       "    .dataframe tbody tr th:only-of-type {\n",
       "        vertical-align: middle;\n",
       "    }\n",
       "\n",
       "    .dataframe tbody tr th {\n",
       "        vertical-align: top;\n",
       "    }\n",
       "\n",
       "    .dataframe thead th {\n",
       "        text-align: right;\n",
       "    }\n",
       "</style>\n",
       "<table border=\"1\" class=\"dataframe\">\n",
       "  <thead>\n",
       "    <tr style=\"text-align: right;\">\n",
       "      <th></th>\n",
       "      <th>E12</th>\n",
       "      <th>E1</th>\n",
       "    </tr>\n",
       "  </thead>\n",
       "  <tbody>\n",
       "    <tr>\n",
       "      <th>0</th>\n",
       "      <td>No</td>\n",
       "      <td>65</td>\n",
       "    </tr>\n",
       "    <tr>\n",
       "      <th>3</th>\n",
       "      <td>Sí</td>\n",
       "      <td>3</td>\n",
       "    </tr>\n",
       "    <tr>\n",
       "      <th>2</th>\n",
       "      <td>Sin respuesta</td>\n",
       "      <td>2</td>\n",
       "    </tr>\n",
       "    <tr>\n",
       "      <th>1</th>\n",
       "      <td>No aplica</td>\n",
       "      <td>1</td>\n",
       "    </tr>\n",
       "  </tbody>\n",
       "</table>\n",
       "</div>"
      ],
      "text/plain": [
       "             E12  E1\n",
       "0             No  65\n",
       "3             Sí   3\n",
       "2  Sin respuesta   2\n",
       "1      No aplica   1"
      ]
     },
     "execution_count": 275,
     "metadata": {},
     "output_type": "execute_result"
    }
   ],
   "source": [
    "EXP_NEW.groupby(['E12'])['E1'].nunique().reset_index().sort_values(by = ['E1'], ascending = False)"
   ]
  },
  {
   "cell_type": "code",
   "execution_count": 276,
   "id": "55684c8e-8fd5-4a0a-9790-8c2fd9f2311e",
   "metadata": {},
   "outputs": [
    {
     "data": {
      "text/html": [
       "<div>\n",
       "<style scoped>\n",
       "    .dataframe tbody tr th:only-of-type {\n",
       "        vertical-align: middle;\n",
       "    }\n",
       "\n",
       "    .dataframe tbody tr th {\n",
       "        vertical-align: top;\n",
       "    }\n",
       "\n",
       "    .dataframe thead th {\n",
       "        text-align: right;\n",
       "    }\n",
       "</style>\n",
       "<table border=\"1\" class=\"dataframe\">\n",
       "  <thead>\n",
       "    <tr style=\"text-align: right;\">\n",
       "      <th></th>\n",
       "      <th>E13</th>\n",
       "      <th>E1</th>\n",
       "    </tr>\n",
       "  </thead>\n",
       "  <tbody>\n",
       "    <tr>\n",
       "      <th>0</th>\n",
       "      <td>No</td>\n",
       "      <td>51</td>\n",
       "    </tr>\n",
       "    <tr>\n",
       "      <th>3</th>\n",
       "      <td>Sí</td>\n",
       "      <td>17</td>\n",
       "    </tr>\n",
       "    <tr>\n",
       "      <th>2</th>\n",
       "      <td>Sin respuesta</td>\n",
       "      <td>2</td>\n",
       "    </tr>\n",
       "    <tr>\n",
       "      <th>1</th>\n",
       "      <td>No aplica</td>\n",
       "      <td>1</td>\n",
       "    </tr>\n",
       "  </tbody>\n",
       "</table>\n",
       "</div>"
      ],
      "text/plain": [
       "             E13  E1\n",
       "0             No  51\n",
       "3             Sí  17\n",
       "2  Sin respuesta   2\n",
       "1      No aplica   1"
      ]
     },
     "execution_count": 276,
     "metadata": {},
     "output_type": "execute_result"
    }
   ],
   "source": [
    "EXP_NEW.groupby(['E13'])['E1'].nunique().reset_index().sort_values(by = ['E1'], ascending = False)"
   ]
  }
 ],
 "metadata": {
  "kernelspec": {
   "display_name": "Python 3 (ipykernel)",
   "language": "python",
   "name": "python3"
  },
  "language_info": {
   "codemirror_mode": {
    "name": "ipython",
    "version": 3
   },
   "file_extension": ".py",
   "mimetype": "text/x-python",
   "name": "python",
   "nbconvert_exporter": "python",
   "pygments_lexer": "ipython3",
   "version": "3.11.5"
  }
 },
 "nbformat": 4,
 "nbformat_minor": 5
}
